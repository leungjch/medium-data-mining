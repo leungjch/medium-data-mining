{
 "cells": [
  {
   "cell_type": "code",
   "execution_count": 12,
   "metadata": {},
   "outputs": [],
   "source": [
    "import pandas as pd\n",
    "pd.options.display.max_seq_items = None"
   ]
  },
  {
   "cell_type": "code",
   "execution_count": 30,
   "metadata": {},
   "outputs": [
    {
     "name": "stdout",
     "output_type": "stream",
     "text": [
      "Processed 50000 rows. Processed  6363 clean rows.\n",
      "6363 rows read 6363 rows clean\n",
      "Wall time: 2.07 s\n"
     ]
    }
   ],
   "source": [
    "%%time\n",
    "# pd.options.display.max_colwidth = 10000\n",
    "filepath = '../../data/features_model/df_story_features_model_chunk4.csv'\n",
    "# Remove csv if exists\n",
    "import os\n",
    "if os.path.exists(filepath):\n",
    "  os.remove(filepath)\n",
    "\n",
    "import extractFeaturesFunctions\n",
    "\n",
    "count = 0\n",
    "header = True\n",
    "\n",
    "# numRows = 10000\n",
    "chunkSize =50000\n",
    "\n",
    "processedRows = 0\n",
    "chunkRows = 0\n",
    " # Read chunks\n",
    "# for data in pd.read_csv('data/raw/OneDrive - University Of Waterloo/df_story_chunk3.csv',encoding = 'ISO-8859-1', nrows=numRows, chunksize  = chunkSize, low_memory=False):\n",
    " # Read entire data\n",
    "for data in pd.read_csv('../../data/features/df_story_features_chunk4.csv',encoding = 'ISO-8859-1', chunksize  = chunkSize, low_memory=False):\n",
    "\n",
    "    count += 1                          # counting the number of chunks\n",
    "    lastlen = len(data)                 # finding the length of last chunk\n",
    "\n",
    "    data.drop(['StoryIndex','StoryTitle', 'StoryURL', 'StoryURL_Story', 'Tag1', 'Tag2', 'Tag3',\n",
    "       'Tag4', 'Tag5', 'TagSource', 'User', 'UserURL', 'Text', 'Tag1Clap_mean',  'CodeBlockLengthList', 'ReadabilityDifficultWordsList',  'LinkURLList', 'HLightTextList', 'Tag1Clap_median',\n",
    "       'Tag1Clap_count', 'Tag1Clap_sum', 'Tag1Clap_std', 'Tag1Response_mean',\n",
    "       'Tag1Response_median', 'Tag1Response_count', 'Tag1Response_sum',\n",
    "       'Tag1Response_std', 'Tag1ReadingTime_mean', 'Tag1ReadingTime_median',\n",
    "       'Tag1ReadingTime_count', 'Tag1ReadingTime_sum', 'Tag1ReadingTime_std',\n",
    "       'Tag2Clap_mean', 'Tag2Clap_median', 'Tag2Clap_count', 'Tag2Clap_sum',\n",
    "       'Tag2Clap_std', 'Tag2Response_mean', 'Tag2Response_median',\n",
    "       'Tag2Response_count', 'Tag2Response_sum', 'Tag2Response_std',\n",
    "       'Tag2ReadingTime_mean', 'Tag2ReadingTime_median',\n",
    "       'Tag2ReadingTime_count', 'Tag2ReadingTime_sum', 'Tag2ReadingTime_std',\n",
    "       'Tag3Clap_mean', 'Tag3Clap_median', 'Tag3Clap_count', 'Tag3Clap_sum',\n",
    "       'Tag3Clap_std', 'Tag3Response_mean', 'Tag3Response_median',\n",
    "       'Tag3Response_count', 'Tag3Response_sum', 'Tag3Response_std',\n",
    "       'Tag3ReadingTime_mean', 'Tag3ReadingTime_median',\n",
    "       'Tag3ReadingTime_count', 'Tag3ReadingTime_sum', 'Tag3ReadingTime_std',\n",
    "       'Tag4Clap_mean', 'Tag4Clap_median', 'Tag4Clap_count', 'Tag4Clap_sum',\n",
    "       'Tag4Clap_std', 'Tag4Response_mean', 'Tag4Response_median',\n",
    "       'Tag4Response_count', 'Tag4Response_sum', 'Tag4Response_std',\n",
    "       'Tag4ReadingTime_mean', 'Tag4ReadingTime_median',\n",
    "       'Tag4ReadingTime_count', 'Tag4ReadingTime_sum', 'Tag4ReadingTime_std',\n",
    "       'Tag5Clap_mean', 'Tag5Clap_median', 'Tag5Clap_count', 'Tag5Clap_sum',\n",
    "       'Tag5Clap_std', 'Tag5Response_mean', 'Tag5Response_median',\n",
    "       'Tag5Response_count', 'Tag5Response_sum', 'Tag5Response_std',\n",
    "       'Tag5ReadingTime_mean', 'Tag5ReadingTime_median',\n",
    "       'Tag5ReadingTime_count', 'Tag5ReadingTime_sum', 'Tag5ReadingTime_std', 'CodeBlockRaw', 'CodeInlineRaw', 'StoryHTML'], axis=1, inplace=True)\n",
    "\n",
    "    \n",
    "    processedRows += len(data)\n",
    "    chunkRows += chunkSize\n",
    "    print(\"Processed\", chunkRows, \"rows. Processed \", processedRows, \"clean rows.\")\n",
    "    \n",
    "    data.to_csv(filepath, header=header, mode=\"a\")\n",
    "    header = False\n",
    "datalength = (count*chunkSize + lastlen - chunkSize) # length of total file\n",
    "\n",
    "print(datalength, \"rows read\", processedRows, \"rows clean\")"
   ]
  },
  {
   "cell_type": "markdown",
   "metadata": {},
   "source": [
    "# Concatenate the chunks"
   ]
  },
  {
   "cell_type": "code",
   "execution_count": 32,
   "metadata": {},
   "outputs": [],
   "source": [
    "data1 = pd.read_csv('../../data/features_model/df_story_features_model_chunk1.csv')\n",
    "data2 = pd.read_csv('../../data/features_model/df_story_features_model_chunk2.csv')\n",
    "data3 = pd.read_csv('../../data/features_model/df_story_features_model_chunk3.csv')\n",
    "data4 = pd.read_csv('../../data/features_model/df_story_features_model_chunk4.csv')\n",
    "df_features = pd.concat([data1, data2, data3, data4])\n",
    "df_features.to_csv(\"../../data/features_model/df_story_features_model_whole.csv\", index=False, header=True)"
   ]
  },
  {
   "cell_type": "code",
   "execution_count": null,
   "metadata": {},
   "outputs": [],
   "source": []
  }
 ],
 "metadata": {
  "kernelspec": {
   "display_name": "Python 3",
   "language": "python",
   "name": "python3"
  },
  "language_info": {
   "codemirror_mode": {
    "name": "ipython",
    "version": 3
   },
   "file_extension": ".py",
   "mimetype": "text/x-python",
   "name": "python",
   "nbconvert_exporter": "python",
   "pygments_lexer": "ipython3",
   "version": "3.7.4"
  }
 },
 "nbformat": 4,
 "nbformat_minor": 4
}
