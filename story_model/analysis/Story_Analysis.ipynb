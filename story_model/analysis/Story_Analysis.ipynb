{
 "cells": [
  {
   "cell_type": "markdown",
   "metadata": {},
   "source": [
    "# Exploratory Data Analysis of Article-Level Dataset"
   ]
  },
  {
   "cell_type": "markdown",
   "metadata": {},
   "source": [
    "The article-level dataset provides a rich amountt of information about articles on the content-level, such as the formatting, text, code, and resources (images/links). It is thus worth conducting an analysis on the article level."
   ]
  },
  {
   "cell_type": "markdown",
   "metadata": {},
   "source": [
    "# Import modules"
   ]
  },
  {
   "cell_type": "code",
   "execution_count": 7,
   "metadata": {},
   "outputs": [],
   "source": [
    "import pandas as pd\n",
    "import matplotlib.pyplot as plt\n",
    "import numpy as np\n",
    "from IPython.core.display import display, HTML\n",
    "import seaborn as sns\n",
    "\n",
    "from IPython.core.interactiveshell import InteractiveShell\n",
    "import matplotlib.pyplot as plt\n",
    "InteractiveShell.ast_node_interactivity = \"all\"\n",
    "pd.set_option('display.max_columns', None)\n",
    "pd.set_option('display.max_rows', None)\n",
    "from collections import Counter\n",
    "pd.options.display.max_seq_items = None\n",
    "\n",
    "import warnings\n",
    "warnings.filterwarnings(\"ignore\", category=FutureWarning)\n",
    "plt.rcParams['figure.figsize'] = [12, 12]\n",
    "plt.rcParams['figure.dpi'] = 100 # 200 e.g. is really fine, but slower\n"
   ]
  },
  {
   "cell_type": "markdown",
   "metadata": {},
   "source": [
    "# Read dataset"
   ]
  },
  {
   "cell_type": "code",
   "execution_count": 5,
   "metadata": {},
   "outputs": [
    {
     "name": "stdout",
     "output_type": "stream",
     "text": [
      "<class 'pandas.core.frame.DataFrame'>\n",
      "RangeIndex: 5972614 entries, 0 to 5972613\n",
      "Columns: 103 entries, AuthorArticlesClap_count to isPublication\n",
      "dtypes: float64(54), int64(34), object(15)\n",
      "memory usage: 4.6+ GB\n"
     ]
    }
   ],
   "source": [
    "df = pd.read_csv(\"../../data/features_analysis/df_story_features_analysis_whole.csv\", low_memory = False)\n",
    "df.info()"
   ]
  },
  {
   "cell_type": "code",
   "execution_count": 8,
   "metadata": {},
   "outputs": [
    {
     "data": {
      "text/plain": [
       "Index(['AuthorArticlesClap_count', 'AuthorArticlesClap_mean',\n",
       "       'AuthorArticlesClap_median', 'AuthorArticlesClap_sum',\n",
       "       'AuthorArticlesResponse_count', 'AuthorArticlesResponse_mean',\n",
       "       'AuthorArticlesResponse_median', 'AuthorArticlesResponse_sum',\n",
       "       'AuthorArticlesVoter_count', 'AuthorArticlesVoter_mean',\n",
       "       'AuthorArticlesVoter_median', 'AuthorArticlesVoter_sum', 'BoldNum',\n",
       "       'ClapCount_Card', 'ClapCount_Story', 'CodeBlockLengthMax',\n",
       "       'CodeBlockLengthMean', 'CodeBlockLengthMedian', 'CodeBlockLengthMin',\n",
       "       'CodeBlockLengthStd', 'CodeBlockLengthSum', 'CodeBlockNum',\n",
       "       'CodeBlockRaw', 'CodeInlineNum', 'CodeInlineRaw', 'Company',\n",
       "       'CompanyURL', 'HLightTextList', 'HasFeaturedImage', 'HlightNum',\n",
       "       'ImgNum', 'ItalicNum', 'LinkNum', 'LinkURLList', 'ListOlLength',\n",
       "       'ListOlMax', 'ListOlMean', 'ListOlMedian', 'ListOlMin', 'ListOlNum',\n",
       "       'ListOlStd', 'ListOlSum', 'ListUlLength', 'ListUlMax', 'ListUlMean',\n",
       "       'ListUlMedian', 'ListUlMin', 'ListUlNum', 'ListUlStd', 'ListUlSum',\n",
       "       'ParagraphNum', 'PostID', 'PublicationClap_count',\n",
       "       'PublicationClap_mean', 'PublicationClap_median', 'PublicationClap_sum',\n",
       "       'PublicationReadingTime_count', 'PublicationReadingTime_mean',\n",
       "       'PublicationReadingTime_median', 'PublicationReadingTime_sum',\n",
       "       'PublicationVoter_count', 'PublicationVoter_mean',\n",
       "       'PublicationVoter_median', 'PublicationVoter_sum',\n",
       "       'PublicationisPaywall_count', 'PublicationisPaywall_mean',\n",
       "       'PublicationisPaywall_median', 'PublicationisPaywall_sum',\n",
       "       'PublishedDate', 'ReadabilityARI', 'ReadabilityColemanLiau',\n",
       "       'ReadabilityConsensus', 'ReadabilityDaleChall',\n",
       "       'ReadabilityDifficultWordsNum', 'ReadabilityFleschEase',\n",
       "       'ReadabilityFleschKincaid', 'ReadabilityGunningFog',\n",
       "       'ReadabilityLinsearWriteFormula', 'ReadabilityReadingTime',\n",
       "       'ReadabilitySMOG', 'ReadingTime', 'ResponseNum_Card',\n",
       "       'ResponseNum_Story', 'SentimentPolarity', 'SentimentSubjectivity',\n",
       "       'StoryHTML', 'StoryURL', 'TagClapMean', 'TagClapMedian', 'TagClapSum',\n",
       "       'TagNum', 'TagUseMean', 'TagUseMedian', 'TagUseSum', 'TextLexiconNum',\n",
       "       'TextSentenceNum', 'TextSyllableNum', 'Unnamed: 0', 'Unnamed: 0.1',\n",
       "       'VoterCount', 'WordNum', 'isPaywall', 'isPublication'],\n",
       "      dtype='object')"
      ]
     },
     "execution_count": 8,
     "metadata": {},
     "output_type": "execute_result"
    }
   ],
   "source": [
    "df.head()"
   ]
  },
  {
   "cell_type": "code",
   "execution_count": null,
   "metadata": {},
   "outputs": [
    {
     "name": "stdout",
     "output_type": "stream",
     "text": [
      "Median number of claps 1.0\n",
      "Mean number of claps 69.78024580192191\n",
      "\n",
      "\n",
      "Percentage of articles that have no claps:  48.25213884573823\n",
      "Percentage of articles that have at least one clap:  51.74786115426177\n",
      "Percentage of articles that have at least 10 claps:  27.34886265879563\n",
      "Percentage of articles that have at least 100 claps:  10.625129968218271\n",
      "Percentage of articles that have at least 1000 claps:  1.142447846118969\n"
     ]
    },
    {
     "data": {
      "text/plain": [
       "<matplotlib.axes._subplots.AxesSubplot at 0x162e3a9b588>"
      ]
     },
     "execution_count": 30,
     "metadata": {},
     "output_type": "execute_result"
    },
    {
     "data": {
      "text/plain": [
       "Text(0.5, 1.0, 'Distribution of Claps (log scale)')"
      ]
     },
     "execution_count": 30,
     "metadata": {},
     "output_type": "execute_result"
    },
    {
     "data": {
      "text/plain": [
       "Text(0.5, 0, 'Log1p ClapCount')"
      ]
     },
     "execution_count": 30,
     "metadata": {},
     "output_type": "execute_result"
    },
    {
     "data": {
      "text/plain": [
       "Text(0, 0.5, 'Number of articles')"
      ]
     },
     "execution_count": 30,
     "metadata": {},
     "output_type": "execute_result"
    }
   ],
   "source": [
    "print(\"Median number of claps:\", df.ClapCount_Story.median())\n",
    "print(\"Mean number of claps:\", df.ClapCount_Story.mean())\n",
    "\n",
    "print(\"\\n\")\n",
    "print(\"Percentage of articles that have no claps: \", 100 * len(df[df.ClapCount_Story == 0])/len(df))\n",
    "print(\"Percentage of articles that have at least one clap: \", 100 * len(df[df.ClapCount_Story >= 1])/len(df))\n",
    "print(\"Percentage of articles that have at least 10 claps: \", 100 * len(df[df.ClapCount_Story >= 10])/len(df))\n",
    "print(\"Percentage of articles that have at least 100 claps: \", 100 * len(df[df.ClapCount_Story >= 100])/len(df))\n",
    "print(\"Percentage of articles that have at least 1000 claps: \", 100 * len(df[df.ClapCount_Story >= 1000])/len(df))\n",
    "\n",
    "np.log1p(df.ClapCount_Story).hist(bins=30)\n",
    "plt.title(\"Distribution of Claps (log scale)\")\n",
    "plt.xlabel(\"Log1p ClapCount\")\n",
    "plt.ylabel(\"Number of articles\")"
   ]
  },
  {
   "cell_type": "code",
   "execution_count": null,
   "metadata": {},
   "outputs": [],
   "source": []
  }
 ],
 "metadata": {
  "kernelspec": {
   "display_name": "Python 3",
   "language": "python",
   "name": "python3"
  },
  "language_info": {
   "codemirror_mode": {
    "name": "ipython",
    "version": 3
   },
   "file_extension": ".py",
   "mimetype": "text/x-python",
   "name": "python",
   "nbconvert_exporter": "python",
   "pygments_lexer": "ipython3",
   "version": "3.7.4"
  }
 },
 "nbformat": 4,
 "nbformat_minor": 4
}
