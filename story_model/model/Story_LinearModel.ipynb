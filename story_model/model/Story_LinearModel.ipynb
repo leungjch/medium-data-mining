{
 "cells": [
  {
   "cell_type": "code",
   "execution_count": 2,
   "metadata": {},
   "outputs": [],
   "source": [
    "import numpy as np\n",
    "import pandas as pd\n",
    "from sklearn.linear_model import LinearRegression\n",
    "import statsmodels.api as sm\n",
    "from IPython.core.display import display, HTML\n",
    "\n",
    "from IPython.core.interactiveshell import InteractiveShell\n",
    "import matplotlib.pyplot as plt\n",
    "InteractiveShell.ast_node_interactivity = \"all\"\n",
    "pd.set_option('display.max_columns', None)\n",
    "pd.set_option('display.max_rows', None)\n",
    "from collections import Counter\n",
    "pd.options.display.max_seq_items = None"
   ]
  },
  {
   "cell_type": "code",
   "execution_count": 3,
   "metadata": {},
   "outputs": [
    {
     "name": "stderr",
     "output_type": "stream",
     "text": [
      "C:\\Users\\Justin\\Anaconda3\\lib\\site-packages\\IPython\\core\\interactiveshell.py:3058: DtypeWarning: Columns (10) have mixed types. Specify dtype option on import or set low_memory=False.\n",
      "  interactivity=interactivity, compiler=compiler, result=result)\n"
     ]
    }
   ],
   "source": [
    "df = pd.read_csv(\"../../data/features_model/df_story_features_model_whole.csv\")\n"
   ]
  },
  {
   "cell_type": "code",
   "execution_count": null,
   "metadata": {},
   "outputs": [],
   "source": [
    "from bs4 import BeautifulSoup\n",
    "display(df.head())"
   ]
  },
  {
   "cell_type": "markdown",
   "metadata": {},
   "source": [
    "# Generate binary dependent variable (for logit)"
   ]
  },
  {
   "cell_type": "code",
   "execution_count": 4,
   "metadata": {},
   "outputs": [],
   "source": [
    "# Median split: Doesnt work if the median claps is 0\n",
    "# df['isPopular'] = (df['ClapCount_Story'] > df['ClapCount_Story'].median()).astype(int)\n",
    "\n",
    "# Below or above the top 25% of claps\n",
    "threshold = 0.30\n",
    "df['isPopular'] = (df['ClapCount_Story'] > df.sort_values(by=['ClapCount_Story'], ascending=False).iloc[int(len(df)*threshold)]['ClapCount_Story'])\n"
   ]
  },
  {
   "cell_type": "code",
   "execution_count": null,
   "metadata": {},
   "outputs": [],
   "source": [
    "df[['isPopular', 'ClapCount_Story']].head()"
   ]
  },
  {
   "cell_type": "markdown",
   "metadata": {},
   "source": [
    "# Split train / test (80/20)"
   ]
  },
  {
   "cell_type": "code",
   "execution_count": 5,
   "metadata": {},
   "outputs": [],
   "source": [
    "mask = np.random.rand(len(df)) < 0.8\n",
    "train = df[mask]\n",
    "test = df[~mask]"
   ]
  },
  {
   "cell_type": "code",
   "execution_count": null,
   "metadata": {},
   "outputs": [],
   "source": [
    "print(\"Length of dataset is\", len(df))\n",
    "print(\"Median clap is\", train['ClapCount_Story'].median())"
   ]
  },
  {
   "cell_type": "code",
   "execution_count": null,
   "metadata": {
    "jupyter": {
     "source_hidden": true
    }
   },
   "outputs": [],
   "source": [
    "xFeatures = ['isPaywall', 'isPublication', 'WordNum', 'SentimentPolarity', 'SentimentSubjectivity',  \"TextSyllableNum\",\n",
    "          \"TextLexiconNum\", \"TextSentenceNum\", \"ReadabilityFleschEase\", \"ReadabilitySMOG\", \"ReadabilityFleschKincaid\", \"ReadabilityColemanLiau\", \"ReadabilityARI\", \"ReadabilityDaleChall\", \"ReadabilityDifficultWordsNum\", \"ReadabilityLinsearWriteFormula\", \"ReadabilityGunningFog\", \"ReadabilityReadingTime\", \"ReadabilityConsensus\", \n",
    "        'ReadingTime', 'HasFeaturedImage', 'CodeInlineNum', 'TagNum',\n",
    "        'CodeBlockNum', 'CodeBlockLengthSum', 'CodeBlockLengthMedian', 'CodeBlockLengthMean',\n",
    "        'CodeBlockLengthStd', 'CodeBlockLengthMin', 'CodeBlockLengthMax',\n",
    "        'ListOlNum', 'ListOlSum', 'ListOlMedian', 'ListOlMean', 'ListOlStd', 'ListOlMin', 'ListOlMax', \n",
    "        'ListUlNum', 'ListUlSum', 'ListUlMedian', 'ListUlMean', 'ListUlStd', 'ListUlMin', 'ListUlMax', \n",
    "        'ImgNum', 'LinkNum',\n",
    "        'HlightNum', 'ParagraphNum', 'ItalicNum', 'BoldNum', \n",
    "        'AuthorArticlesClap_mean','AuthorArticlesClap_median','AuthorArticlesClap_count','AuthorArticlesClap_sum',\n",
    "        'AuthorArticlesResponse_mean','AuthorArticlesResponse_median','AuthorArticlesResponse_sum',\n",
    "        'AuthorArticlesVoter_mean','AuthorArticlesVoter_median','AuthorArticlesVoter_sum',\n",
    "        \n",
    "        'TagUseSum', 'TagUseMean', 'TagUseMedian', \n",
    "        'TagClapSum','TagClapMean', 'TagClapMedian',  \n",
    "        'PublicationClap_mean','PublicationClap_median','PublicationClap_count','PublicationClap_sum',\n",
    "        'PublicationReadingTime_mean','PublicationReadingTime_median','PublicationReadingTime_sum',\n",
    "        'PublicationVoter_mean','PublicationVoter_median','PublicationVoter_sum',\n",
    "        'PublicationisPaywall_mean','PublicationisPaywall_median','PublicationisPaywall_sum',]\n",
    "\n",
    "yFeatures = 'ClapCount_Story' # For linreg\n",
    "# yFeatures = 'isPopular' # For logreg\n",
    "\n",
    "xTrain = train[xFeatures]\n",
    "yTrain = train[yFeatures]\n",
    "\n",
    "xTest = test[xFeatures]\n",
    "yTest = test[yFeatures]"
   ]
  },
  {
   "cell_type": "code",
   "execution_count": 6,
   "metadata": {},
   "outputs": [
    {
     "name": "stdout",
     "output_type": "stream",
     "text": [
      "76\n"
     ]
    }
   ],
   "source": [
    "features = [\"isPaywall\",\"isPublication\",\n",
    "\"SentimentPolarity\",\"SentimentSubjectivity\",\n",
    "\"WordNum\",\"TextSyllableNum\",\"TextLexiconNum\",\"TextSentenceNum\",\n",
    "\"ReadabilityFleschEase\",\"ReadabilitySMOG\",\"ReadabilityFleschKincaid\",\"ReadabilityColemanLiau\",\"ReadabilityARI\",\"ReadabilityDaleChall\",\"ReadabilityDifficultWordsNum\",\"ReadabilityLinsearWriteFormula\",\"ReadabilityGunningFog\",\"ReadabilityReadingTime\",\"ReadabilityConsensus\",\n",
    "\"ReadingTime\",\"HasFeaturedImage\",\"CodeInlineNum\",\"TagNum\",\"CodeBlockNum\",\n",
    "\"CodeBlockLengthSum\",\"CodeBlockLengthMedian\",\"CodeBlockLengthMean\",\"CodeBlockLengthStd\",\"CodeBlockLengthMin\",\"CodeBlockLengthMax\",\n",
    "\"ListOlNum\",\"ListOlSum\",\"ListOlMedian\",\"ListOlMean\",\"ListOlStd\",\"ListOlMin\",\"ListOlMax\",\n",
    "\"ListUlNum\",\"ListUlSum\",\"ListUlMedian\",\"ListUlMean\",\"ListUlStd\",\"ListUlMin\",\"ListUlMax\",\"ImgNum\",\"LinkNum\",\"HlightNum\",\n",
    "\"ParagraphNum\",\"ItalicNum\",\"BoldNum\",\n",
    "# \"AuthorArticlesClap_mean\",\"AuthorArticlesClap_median\",\"AuthorArticlesClap_count\",\"AuthorArticlesClap_sum\",\n",
    "\"AuthorArticlesClap_count\",\n",
    "\"AuthorArticlesResponse_median\",\"AuthorArticlesResponse_sum\",\n",
    "\"AuthorArticlesResponse_mean\",\"AuthorArticlesVoter_mean\",\"AuthorArticlesVoter_median\",\"AuthorArticlesVoter_sum\",\n",
    "\"TagUseSum\",\"TagUseMean\",\"TagUseMedian\",\"TagClapSum\",\"TagClapMean\",\"TagClapMedian\",\n",
    "\"PublicationClap_mean\",\"PublicationClap_median\",\n",
    "\"PublicationClap_count\",\"PublicationClap_sum\",\"PublicationReadingTime_mean\",\"PublicationReadingTime_median\",\"PublicationReadingTime_sum\",\"PublicationVoter_mean\",\"PublicationVoter_median\",\"PublicationVoter_sum\",\"PublicationisPaywall_mean\",\"PublicationisPaywall_median\",\"PublicationisPaywall_sum\"\n",
    "\n",
    "]\n",
    "print(len(features))\n",
    "\n",
    "depvar = 'ClapCount_Story'\n",
    "depvar = 'isPopular'\n",
    "\n",
    "\n",
    "xTrain = train[features]\n",
    "yTrain = train[depvar]\n",
    "\n",
    "xTest = test[features]\n",
    "yTest = test[depvar]"
   ]
  },
  {
   "cell_type": "markdown",
   "metadata": {},
   "source": [
    "# Check NA columns"
   ]
  },
  {
   "cell_type": "code",
   "execution_count": null,
   "metadata": {},
   "outputs": [],
   "source": [
    "# pd.set_option('display.max_rows', 1000)\n",
    "# display((df[df['TagNum']==0]))\n",
    "# display(xTrain.isna().any())"
   ]
  },
  {
   "cell_type": "markdown",
   "metadata": {},
   "source": [
    "# Generate model"
   ]
  },
  {
   "cell_type": "code",
   "execution_count": null,
   "metadata": {},
   "outputs": [],
   "source": [
    "reg = LinearRegression(normalize=True).fit(xTrain, yTrain)\n",
    "\n",
    "#sklearn preprocess normalize"
   ]
  },
  {
   "cell_type": "code",
   "execution_count": null,
   "metadata": {},
   "outputs": [],
   "source": [
    "reg.score(xTrain,yTrain)"
   ]
  },
  {
   "cell_type": "markdown",
   "metadata": {},
   "source": [
    "# statsmodel"
   ]
  },
  {
   "cell_type": "code",
   "execution_count": null,
   "metadata": {},
   "outputs": [],
   "source": [
    "mod = sm.OLS(yTrain,xTrain.astype(float))\n",
    "fii = mod.fit()\n",
    "\n",
    "print(dir(fii))\n",
    "print(p_values[p_values<0.05].sort_values(ascending=True))\n",
    "print(fii.summary())"
   ]
  },
  {
   "cell_type": "markdown",
   "metadata": {},
   "source": [
    "# Logistic Regression"
   ]
  },
  {
   "cell_type": "code",
   "execution_count": 7,
   "metadata": {},
   "outputs": [],
   "source": [
    "from sklearn.linear_model import LogisticRegression"
   ]
  },
  {
   "cell_type": "code",
   "execution_count": 8,
   "metadata": {},
   "outputs": [
    {
     "name": "stderr",
     "output_type": "stream",
     "text": [
      "C:\\Users\\Justin\\Anaconda3\\lib\\site-packages\\sklearn\\linear_model\\logistic.py:432: FutureWarning: Default solver will be changed to 'lbfgs' in 0.22. Specify a solver to silence this warning.\n",
      "  FutureWarning)\n"
     ]
    },
    {
     "data": {
      "text/plain": [
       "LogisticRegression(C=1.0, class_weight=None, dual=False, fit_intercept=True,\n",
       "                   intercept_scaling=1, l1_ratio=None, max_iter=100,\n",
       "                   multi_class='warn', n_jobs=None, penalty='l2',\n",
       "                   random_state=None, solver='warn', tol=0.0001, verbose=0,\n",
       "                   warm_start=False)"
      ]
     },
     "execution_count": 8,
     "metadata": {},
     "output_type": "execute_result"
    }
   ],
   "source": [
    "logit = LogisticRegression()\n",
    "logit.fit(xTrain,yTrain)"
   ]
  },
  {
   "cell_type": "code",
   "execution_count": 9,
   "metadata": {},
   "outputs": [
    {
     "data": {
      "text/plain": [
       "0.7739138247041321"
      ]
     },
     "execution_count": 9,
     "metadata": {},
     "output_type": "execute_result"
    }
   ],
   "source": [
    "logit.score(xTrain,yTrain)"
   ]
  },
  {
   "cell_type": "code",
   "execution_count": 10,
   "metadata": {},
   "outputs": [
    {
     "name": "stdout",
     "output_type": "stream",
     "text": [
      "Predict Counter({False: 1025607, True: 171903})\n",
      "Truth Counter({False: 841708, True: 355802})\n",
      "0.6540855139624928\n"
     ]
    }
   ],
   "source": [
    "# Get AUC\n",
    "from sklearn import metrics\n",
    "\n",
    "yPreds = logit.predict(xTest)\n",
    "print(\"Predict\", Counter(yPreds))\n",
    "# print(type(yPreds))\n",
    "print(\"Truth\", Counter(yTest))\n",
    "\n",
    "# print(yPreds)\n",
    "fpr, tpr, thresholds = metrics.roc_curve(yTest, yPreds)\n",
    "print(metrics.auc(fpr, tpr))"
   ]
  },
  {
   "cell_type": "code",
   "execution_count": null,
   "metadata": {},
   "outputs": [],
   "source": []
  },
  {
   "cell_type": "markdown",
   "metadata": {},
   "source": [
    "# SVC"
   ]
  },
  {
   "cell_type": "code",
   "execution_count": null,
   "metadata": {},
   "outputs": [],
   "source": []
  }
 ],
 "metadata": {
  "kernelspec": {
   "display_name": "Python 3",
   "language": "python",
   "name": "python3"
  },
  "language_info": {
   "codemirror_mode": {
    "name": "ipython",
    "version": 3
   },
   "file_extension": ".py",
   "mimetype": "text/x-python",
   "name": "python",
   "nbconvert_exporter": "python",
   "pygments_lexer": "ipython3",
   "version": "3.7.4"
  }
 },
 "nbformat": 4,
 "nbformat_minor": 4
}
