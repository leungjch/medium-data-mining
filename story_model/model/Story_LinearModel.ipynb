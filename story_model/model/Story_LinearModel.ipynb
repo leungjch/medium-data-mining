{
 "cells": [
  {
   "cell_type": "markdown",
   "metadata": {},
   "source": [
    "# Understanding the Important Characteristics of a Successful SE-Related Article on Medium"
   ]
  },
  {
   "cell_type": "markdown",
   "metadata": {},
   "source": [
    "This notebook reads in the processed features dataset (df_story_features_model_whole.csv) and runs various models on them (linear/logistic regression, SVM). The goal of the modelling task is to generate an explanatory model that is able to accurately distinguish successful from non-successful articles (as quantified by AUC / precision / recall / accuracy / etc), and to analyze the most important features that contribute to the explanatory power of the model (as quantified standard coefficient size / Wald X2 / etc)."
   ]
  },
  {
   "cell_type": "code",
   "execution_count": 1,
   "metadata": {},
   "outputs": [],
   "source": [
    "import numpy as np\n",
    "import pandas as pd\n",
    "from sklearn.linear_model import LinearRegression\n",
    "import statsmodels.api as sm\n",
    "from IPython.core.display import display, HTML\n",
    "\n",
    "from IPython.core.interactiveshell import InteractiveShell\n",
    "import matplotlib.pyplot as plt\n",
    "InteractiveShell.ast_node_interactivity = \"all\"\n",
    "pd.set_option('display.max_columns', None)\n",
    "pd.set_option('display.max_rows', None)\n",
    "from collections import Counter\n",
    "pd.options.display.max_seq_items = None\n",
    "\n",
    "import warnings\n",
    "warnings.filterwarnings(\"ignore\", category=FutureWarning)\n"
   ]
  },
  {
   "cell_type": "code",
   "execution_count": 2,
   "metadata": {},
   "outputs": [
    {
     "name": "stderr",
     "output_type": "stream",
     "text": [
      "C:\\Users\\Justin\\Anaconda3\\lib\\site-packages\\IPython\\core\\interactiveshell.py:3058: DtypeWarning: Columns (10) have mixed types. Specify dtype option on import or set low_memory=False.\n",
      "  interactivity=interactivity, compiler=compiler, result=result)\n"
     ]
    },
    {
     "data": {
      "text/html": [
       "<div>\n",
       "<style scoped>\n",
       "    .dataframe tbody tr th:only-of-type {\n",
       "        vertical-align: middle;\n",
       "    }\n",
       "\n",
       "    .dataframe tbody tr th {\n",
       "        vertical-align: top;\n",
       "    }\n",
       "\n",
       "    .dataframe thead th {\n",
       "        text-align: right;\n",
       "    }\n",
       "</style>\n",
       "<table border=\"1\" class=\"dataframe\">\n",
       "  <thead>\n",
       "    <tr style=\"text-align: right;\">\n",
       "      <th></th>\n",
       "      <th>Unnamed: 0</th>\n",
       "      <th>Unnamed: 0.1</th>\n",
       "      <th>ClapCount_Card</th>\n",
       "      <th>ClapCount_Story</th>\n",
       "      <th>Company</th>\n",
       "      <th>CompanyURL</th>\n",
       "      <th>PostID</th>\n",
       "      <th>PublishedDate</th>\n",
       "      <th>ReadingTime</th>\n",
       "      <th>ResponseNum_Card</th>\n",
       "      <th>ResponseNum_Story</th>\n",
       "      <th>VoterCount</th>\n",
       "      <th>isPaywall</th>\n",
       "      <th>TagNum</th>\n",
       "      <th>isPublication</th>\n",
       "      <th>AuthorArticlesClap_mean</th>\n",
       "      <th>AuthorArticlesClap_median</th>\n",
       "      <th>AuthorArticlesClap_count</th>\n",
       "      <th>AuthorArticlesClap_sum</th>\n",
       "      <th>AuthorArticlesResponse_mean</th>\n",
       "      <th>AuthorArticlesResponse_median</th>\n",
       "      <th>AuthorArticlesResponse_count</th>\n",
       "      <th>AuthorArticlesResponse_sum</th>\n",
       "      <th>AuthorArticlesVoter_mean</th>\n",
       "      <th>AuthorArticlesVoter_median</th>\n",
       "      <th>AuthorArticlesVoter_count</th>\n",
       "      <th>AuthorArticlesVoter_sum</th>\n",
       "      <th>PublicationClap_mean</th>\n",
       "      <th>PublicationClap_median</th>\n",
       "      <th>PublicationClap_count</th>\n",
       "      <th>PublicationClap_sum</th>\n",
       "      <th>PublicationReadingTime_mean</th>\n",
       "      <th>PublicationReadingTime_median</th>\n",
       "      <th>PublicationReadingTime_count</th>\n",
       "      <th>PublicationReadingTime_sum</th>\n",
       "      <th>PublicationVoter_mean</th>\n",
       "      <th>PublicationVoter_median</th>\n",
       "      <th>PublicationVoter_count</th>\n",
       "      <th>PublicationVoter_sum</th>\n",
       "      <th>PublicationisPaywall_mean</th>\n",
       "      <th>PublicationisPaywall_median</th>\n",
       "      <th>PublicationisPaywall_count</th>\n",
       "      <th>PublicationisPaywall_sum</th>\n",
       "      <th>TagUseSum</th>\n",
       "      <th>TagUseMean</th>\n",
       "      <th>TagUseMedian</th>\n",
       "      <th>TagClapSum</th>\n",
       "      <th>TagClapMean</th>\n",
       "      <th>TagClapMedian</th>\n",
       "      <th>SentimentPolarity</th>\n",
       "      <th>SentimentSubjectivity</th>\n",
       "      <th>WordNum</th>\n",
       "      <th>TextSyllableNum</th>\n",
       "      <th>TextLexiconNum</th>\n",
       "      <th>TextSentenceNum</th>\n",
       "      <th>ReadabilityFleschEase</th>\n",
       "      <th>ReadabilitySMOG</th>\n",
       "      <th>ReadabilityFleschKincaid</th>\n",
       "      <th>ReadabilityColemanLiau</th>\n",
       "      <th>ReadabilityARI</th>\n",
       "      <th>ReadabilityDaleChall</th>\n",
       "      <th>ReadabilityDifficultWordsNum</th>\n",
       "      <th>ReadabilityLinsearWriteFormula</th>\n",
       "      <th>ReadabilityGunningFog</th>\n",
       "      <th>ReadabilityReadingTime</th>\n",
       "      <th>ReadabilityConsensus</th>\n",
       "      <th>HasFeaturedImage</th>\n",
       "      <th>CodeInlineNum</th>\n",
       "      <th>CodeBlockNum</th>\n",
       "      <th>CodeBlockLengthSum</th>\n",
       "      <th>CodeBlockLengthMedian</th>\n",
       "      <th>CodeBlockLengthMean</th>\n",
       "      <th>CodeBlockLengthStd</th>\n",
       "      <th>CodeBlockLengthMin</th>\n",
       "      <th>CodeBlockLengthMax</th>\n",
       "      <th>ListOlNum</th>\n",
       "      <th>ListOlLength</th>\n",
       "      <th>ListOlSum</th>\n",
       "      <th>ListOlMedian</th>\n",
       "      <th>ListOlMean</th>\n",
       "      <th>ListOlStd</th>\n",
       "      <th>ListOlMin</th>\n",
       "      <th>ListOlMax</th>\n",
       "      <th>ListUlNum</th>\n",
       "      <th>ListUlLength</th>\n",
       "      <th>ListUlSum</th>\n",
       "      <th>ListUlMedian</th>\n",
       "      <th>ListUlMean</th>\n",
       "      <th>ListUlStd</th>\n",
       "      <th>ListUlMin</th>\n",
       "      <th>ListUlMax</th>\n",
       "      <th>ImgNum</th>\n",
       "      <th>LinkNum</th>\n",
       "      <th>HlightNum</th>\n",
       "      <th>ParagraphNum</th>\n",
       "      <th>ItalicNum</th>\n",
       "      <th>BoldNum</th>\n",
       "    </tr>\n",
       "  </thead>\n",
       "  <tbody>\n",
       "    <tr>\n",
       "      <td>0</td>\n",
       "      <td>0</td>\n",
       "      <td>0</td>\n",
       "      <td>2</td>\n",
       "      <td>2.0</td>\n",
       "      <td>0</td>\n",
       "      <td>0</td>\n",
       "      <td>f5adff36e2cc</td>\n",
       "      <td>2020-02-04</td>\n",
       "      <td>4</td>\n",
       "      <td>0</td>\n",
       "      <td>0</td>\n",
       "      <td>2.0</td>\n",
       "      <td>0</td>\n",
       "      <td>3</td>\n",
       "      <td>0</td>\n",
       "      <td>20.166667</td>\n",
       "      <td>13.5</td>\n",
       "      <td>6</td>\n",
       "      <td>121.0</td>\n",
       "      <td>4.500000</td>\n",
       "      <td>4.0</td>\n",
       "      <td>6</td>\n",
       "      <td>27.0</td>\n",
       "      <td>0.166667</td>\n",
       "      <td>0.0</td>\n",
       "      <td>6</td>\n",
       "      <td>1.0</td>\n",
       "      <td>0.000000</td>\n",
       "      <td>0.0</td>\n",
       "      <td>0.0</td>\n",
       "      <td>0.0</td>\n",
       "      <td>0.000000</td>\n",
       "      <td>0.0</td>\n",
       "      <td>0.0</td>\n",
       "      <td>0.0</td>\n",
       "      <td>0.000000</td>\n",
       "      <td>0.0</td>\n",
       "      <td>0.0</td>\n",
       "      <td>0.0</td>\n",
       "      <td>0.000000</td>\n",
       "      <td>0.0</td>\n",
       "      <td>0.0</td>\n",
       "      <td>0.0</td>\n",
       "      <td>10739.0</td>\n",
       "      <td>3579.666667</td>\n",
       "      <td>25.0</td>\n",
       "      <td>1017888.0</td>\n",
       "      <td>339296.0</td>\n",
       "      <td>813.0</td>\n",
       "      <td>0.172666</td>\n",
       "      <td>0.462687</td>\n",
       "      <td>824</td>\n",
       "      <td>1196</td>\n",
       "      <td>823</td>\n",
       "      <td>23</td>\n",
       "      <td>43.60</td>\n",
       "      <td>15.6</td>\n",
       "      <td>16.1</td>\n",
       "      <td>10.63</td>\n",
       "      <td>19.4</td>\n",
       "      <td>7.68</td>\n",
       "      <td>118</td>\n",
       "      <td>20.0</td>\n",
       "      <td>17.38</td>\n",
       "      <td>58.72</td>\n",
       "      <td>16.0</td>\n",
       "      <td>1</td>\n",
       "      <td>7</td>\n",
       "      <td>0</td>\n",
       "      <td>0</td>\n",
       "      <td>0.0</td>\n",
       "      <td>0.0</td>\n",
       "      <td>0.0</td>\n",
       "      <td>0</td>\n",
       "      <td>0</td>\n",
       "      <td>0</td>\n",
       "      <td>0</td>\n",
       "      <td>0</td>\n",
       "      <td>0.0</td>\n",
       "      <td>0.0</td>\n",
       "      <td>0.0</td>\n",
       "      <td>0</td>\n",
       "      <td>0</td>\n",
       "      <td>0</td>\n",
       "      <td>0</td>\n",
       "      <td>0</td>\n",
       "      <td>0.0</td>\n",
       "      <td>0.0</td>\n",
       "      <td>0.0</td>\n",
       "      <td>0</td>\n",
       "      <td>0</td>\n",
       "      <td>13</td>\n",
       "      <td>2</td>\n",
       "      <td>0</td>\n",
       "      <td>19</td>\n",
       "      <td>1</td>\n",
       "      <td>2</td>\n",
       "    </tr>\n",
       "    <tr>\n",
       "      <td>1</td>\n",
       "      <td>1</td>\n",
       "      <td>1</td>\n",
       "      <td>198</td>\n",
       "      <td>198.0</td>\n",
       "      <td>The Writing Cooperative</td>\n",
       "      <td>https://writingcooperative.com?source=tag_arch...</td>\n",
       "      <td>35c2918e89ba</td>\n",
       "      <td>2018-12-31</td>\n",
       "      <td>5</td>\n",
       "      <td>1 response</td>\n",
       "      <td>1</td>\n",
       "      <td>25.0</td>\n",
       "      <td>1</td>\n",
       "      <td>5</td>\n",
       "      <td>1</td>\n",
       "      <td>246.736842</td>\n",
       "      <td>85.0</td>\n",
       "      <td>57</td>\n",
       "      <td>14064.0</td>\n",
       "      <td>32.631579</td>\n",
       "      <td>6.0</td>\n",
       "      <td>57</td>\n",
       "      <td>1860.0</td>\n",
       "      <td>0.280702</td>\n",
       "      <td>0.0</td>\n",
       "      <td>57</td>\n",
       "      <td>16.0</td>\n",
       "      <td>335.753822</td>\n",
       "      <td>133.0</td>\n",
       "      <td>5037.0</td>\n",
       "      <td>1691192.0</td>\n",
       "      <td>4.708954</td>\n",
       "      <td>4.0</td>\n",
       "      <td>5037.0</td>\n",
       "      <td>23719.0</td>\n",
       "      <td>40.124876</td>\n",
       "      <td>15.0</td>\n",
       "      <td>5037.0</td>\n",
       "      <td>202109.0</td>\n",
       "      <td>0.515585</td>\n",
       "      <td>1.0</td>\n",
       "      <td>5037.0</td>\n",
       "      <td>2597.0</td>\n",
       "      <td>180517.0</td>\n",
       "      <td>36103.400000</td>\n",
       "      <td>0.0</td>\n",
       "      <td>29493305.0</td>\n",
       "      <td>5898661.0</td>\n",
       "      <td>0.0</td>\n",
       "      <td>0.171449</td>\n",
       "      <td>0.453979</td>\n",
       "      <td>1099</td>\n",
       "      <td>1604</td>\n",
       "      <td>1098</td>\n",
       "      <td>46</td>\n",
       "      <td>55.68</td>\n",
       "      <td>12.8</td>\n",
       "      <td>11.4</td>\n",
       "      <td>11.49</td>\n",
       "      <td>14.3</td>\n",
       "      <td>7.21</td>\n",
       "      <td>166</td>\n",
       "      <td>12.2</td>\n",
       "      <td>12.66</td>\n",
       "      <td>81.54</td>\n",
       "      <td>13.0</td>\n",
       "      <td>1</td>\n",
       "      <td>0</td>\n",
       "      <td>0</td>\n",
       "      <td>0</td>\n",
       "      <td>0.0</td>\n",
       "      <td>0.0</td>\n",
       "      <td>0.0</td>\n",
       "      <td>0</td>\n",
       "      <td>0</td>\n",
       "      <td>0</td>\n",
       "      <td>0</td>\n",
       "      <td>0</td>\n",
       "      <td>0.0</td>\n",
       "      <td>0.0</td>\n",
       "      <td>0.0</td>\n",
       "      <td>0</td>\n",
       "      <td>0</td>\n",
       "      <td>0</td>\n",
       "      <td>0</td>\n",
       "      <td>0</td>\n",
       "      <td>0.0</td>\n",
       "      <td>0.0</td>\n",
       "      <td>0.0</td>\n",
       "      <td>0</td>\n",
       "      <td>0</td>\n",
       "      <td>11</td>\n",
       "      <td>15</td>\n",
       "      <td>0</td>\n",
       "      <td>26</td>\n",
       "      <td>5</td>\n",
       "      <td>2</td>\n",
       "    </tr>\n",
       "  </tbody>\n",
       "</table>\n",
       "</div>"
      ],
      "text/plain": [
       "   Unnamed: 0  Unnamed: 0.1 ClapCount_Card  ClapCount_Story  \\\n",
       "0           0             0              2              2.0   \n",
       "1           1             1            198            198.0   \n",
       "\n",
       "                   Company                                         CompanyURL  \\\n",
       "0                        0                                                  0   \n",
       "1  The Writing Cooperative  https://writingcooperative.com?source=tag_arch...   \n",
       "\n",
       "         PostID PublishedDate  ReadingTime ResponseNum_Card ResponseNum_Story  \\\n",
       "0  f5adff36e2cc    2020-02-04            4                0                 0   \n",
       "1  35c2918e89ba    2018-12-31            5       1 response                 1   \n",
       "\n",
       "   VoterCount  isPaywall  TagNum  isPublication  AuthorArticlesClap_mean  \\\n",
       "0         2.0          0       3              0                20.166667   \n",
       "1        25.0          1       5              1               246.736842   \n",
       "\n",
       "   AuthorArticlesClap_median  AuthorArticlesClap_count  \\\n",
       "0                       13.5                         6   \n",
       "1                       85.0                        57   \n",
       "\n",
       "   AuthorArticlesClap_sum  AuthorArticlesResponse_mean  \\\n",
       "0                   121.0                     4.500000   \n",
       "1                 14064.0                    32.631579   \n",
       "\n",
       "   AuthorArticlesResponse_median  AuthorArticlesResponse_count  \\\n",
       "0                            4.0                             6   \n",
       "1                            6.0                            57   \n",
       "\n",
       "   AuthorArticlesResponse_sum  AuthorArticlesVoter_mean  \\\n",
       "0                        27.0                  0.166667   \n",
       "1                      1860.0                  0.280702   \n",
       "\n",
       "   AuthorArticlesVoter_median  AuthorArticlesVoter_count  \\\n",
       "0                         0.0                          6   \n",
       "1                         0.0                         57   \n",
       "\n",
       "   AuthorArticlesVoter_sum  PublicationClap_mean  PublicationClap_median  \\\n",
       "0                      1.0              0.000000                     0.0   \n",
       "1                     16.0            335.753822                   133.0   \n",
       "\n",
       "   PublicationClap_count  PublicationClap_sum  PublicationReadingTime_mean  \\\n",
       "0                    0.0                  0.0                     0.000000   \n",
       "1                 5037.0            1691192.0                     4.708954   \n",
       "\n",
       "   PublicationReadingTime_median  PublicationReadingTime_count  \\\n",
       "0                            0.0                           0.0   \n",
       "1                            4.0                        5037.0   \n",
       "\n",
       "   PublicationReadingTime_sum  PublicationVoter_mean  PublicationVoter_median  \\\n",
       "0                         0.0               0.000000                      0.0   \n",
       "1                     23719.0              40.124876                     15.0   \n",
       "\n",
       "   PublicationVoter_count  PublicationVoter_sum  PublicationisPaywall_mean  \\\n",
       "0                     0.0                   0.0                   0.000000   \n",
       "1                  5037.0              202109.0                   0.515585   \n",
       "\n",
       "   PublicationisPaywall_median  PublicationisPaywall_count  \\\n",
       "0                          0.0                         0.0   \n",
       "1                          1.0                      5037.0   \n",
       "\n",
       "   PublicationisPaywall_sum  TagUseSum    TagUseMean  TagUseMedian  \\\n",
       "0                       0.0    10739.0   3579.666667          25.0   \n",
       "1                    2597.0   180517.0  36103.400000           0.0   \n",
       "\n",
       "   TagClapSum  TagClapMean  TagClapMedian  SentimentPolarity  \\\n",
       "0   1017888.0     339296.0          813.0           0.172666   \n",
       "1  29493305.0    5898661.0            0.0           0.171449   \n",
       "\n",
       "   SentimentSubjectivity  WordNum  TextSyllableNum  TextLexiconNum  \\\n",
       "0               0.462687      824             1196             823   \n",
       "1               0.453979     1099             1604            1098   \n",
       "\n",
       "   TextSentenceNum  ReadabilityFleschEase  ReadabilitySMOG  \\\n",
       "0               23                  43.60             15.6   \n",
       "1               46                  55.68             12.8   \n",
       "\n",
       "   ReadabilityFleschKincaid  ReadabilityColemanLiau  ReadabilityARI  \\\n",
       "0                      16.1                   10.63            19.4   \n",
       "1                      11.4                   11.49            14.3   \n",
       "\n",
       "   ReadabilityDaleChall  ReadabilityDifficultWordsNum  \\\n",
       "0                  7.68                           118   \n",
       "1                  7.21                           166   \n",
       "\n",
       "   ReadabilityLinsearWriteFormula  ReadabilityGunningFog  \\\n",
       "0                            20.0                  17.38   \n",
       "1                            12.2                  12.66   \n",
       "\n",
       "   ReadabilityReadingTime  ReadabilityConsensus  HasFeaturedImage  \\\n",
       "0                   58.72                  16.0                 1   \n",
       "1                   81.54                  13.0                 1   \n",
       "\n",
       "   CodeInlineNum  CodeBlockNum  CodeBlockLengthSum  CodeBlockLengthMedian  \\\n",
       "0              7             0                   0                    0.0   \n",
       "1              0             0                   0                    0.0   \n",
       "\n",
       "   CodeBlockLengthMean  CodeBlockLengthStd  CodeBlockLengthMin  \\\n",
       "0                  0.0                 0.0                   0   \n",
       "1                  0.0                 0.0                   0   \n",
       "\n",
       "   CodeBlockLengthMax  ListOlNum ListOlLength  ListOlSum  ListOlMedian  \\\n",
       "0                   0          0            0          0           0.0   \n",
       "1                   0          0            0          0           0.0   \n",
       "\n",
       "   ListOlMean  ListOlStd  ListOlMin  ListOlMax  ListUlNum ListUlLength  \\\n",
       "0         0.0        0.0          0          0          0            0   \n",
       "1         0.0        0.0          0          0          0            0   \n",
       "\n",
       "   ListUlSum  ListUlMedian  ListUlMean  ListUlStd  ListUlMin  ListUlMax  \\\n",
       "0          0           0.0         0.0        0.0          0          0   \n",
       "1          0           0.0         0.0        0.0          0          0   \n",
       "\n",
       "   ImgNum  LinkNum  HlightNum  ParagraphNum  ItalicNum  BoldNum  \n",
       "0      13        2          0            19          1        2  \n",
       "1      11       15          0            26          5        2  "
      ]
     },
     "execution_count": 2,
     "metadata": {},
     "output_type": "execute_result"
    }
   ],
   "source": [
    "df = pd.read_csv(\"../../data/features_model/df_story_features_model_whole.csv\")\n",
    "df.head(2)"
   ]
  },
  {
   "cell_type": "markdown",
   "metadata": {},
   "source": [
    "# Generate binary dependent variable (for logit / SVM)"
   ]
  },
  {
   "cell_type": "code",
   "execution_count": 3,
   "metadata": {},
   "outputs": [],
   "source": [
    "# # Median split: Doesnt work if the median claps is 0\n",
    "# df['isSuccessful'] = (df['ClapCount_Story'] > df['ClapCount_Story'].median()).astype(int)\n",
    "\n",
    "# # Below or above the top 25% of claps\n",
    "threshold = 0.25\n",
    "df['isSuccessful'] = (df['ClapCount_Story'] > df.sort_values(by=['ClapCount_Story'], ascending=False).iloc[int(len(df)*threshold)]['ClapCount_Story'])"
   ]
  },
  {
   "cell_type": "markdown",
   "metadata": {},
   "source": [
    "# Create balanced class sample and split into train / test (80/20)"
   ]
  },
  {
   "cell_type": "code",
   "execution_count": 18,
   "metadata": {},
   "outputs": [
    {
     "name": "stdout",
     "output_type": "stream",
     "text": [
      "Number of successful articles: 2496\n",
      "Number of unsuccessful articles: 2496\n",
      "Median clap count of training set 13.0\n"
     ]
    }
   ],
   "source": [
    "\n",
    "# # Sample with balanced data classes\n",
    "# # Sample N samples, and select an equal amount of successful and non-successful articles\n",
    "# # Note that because there are fewer successful articles than non-successful articles, only a fraction of the initial sample are used\n",
    "# # e.g. from a sample of 50,000, we obtain 12,000 successful articles and so we must also have only 12,000 non-successful articles\n",
    "sample =  df.sample(10000).groupby('isSuccessful', group_keys=False)\n",
    "sample = sample.apply(lambda x: x.sample(sample.size().min()).reset_index(drop=True))\n",
    "\n",
    "print(\"Number of successful articles:\", len(sample[sample.isSuccessful == False]))\n",
    "print(\"Number of unsuccessful articles:\", len(sample[sample.isSuccessful == True]))\n",
    "\n",
    "# # Make a 80/20 training split\n",
    "mask = np.random.rand(len(sample)) < 0.8\n",
    "train = sample[mask]\n",
    "test = sample[~mask]\n",
    "\n",
    "print(\"Median clap count of training set\", train['ClapCount_Story'].median())"
   ]
  },
  {
   "cell_type": "markdown",
   "metadata": {},
   "source": [
    "# Select Features"
   ]
  },
  {
   "cell_type": "markdown",
   "metadata": {},
   "source": [
    "Some of the features are commented out if they are determined to be too closely related to the dependent variable. For example, \"AuthorArticlesClap_sum\" is not valid since most of the authors have only one article and so the metric is equal to \"ClapCount\", which means we would predicting the dependent variable using the dependent variable. "
   ]
  },
  {
   "cell_type": "code",
   "execution_count": 19,
   "metadata": {},
   "outputs": [
    {
     "name": "stdout",
     "output_type": "stream",
     "text": [
      "76\n"
     ]
    }
   ],
   "source": [
    "# # Complete feature set\n",
    "features = [\"isPaywall\",\"isPublication\",\n",
    "\"SentimentPolarity\",\"SentimentSubjectivity\",\n",
    "\"WordNum\",\"TextSyllableNum\",\"TextLexiconNum\",\"TextSentenceNum\",\n",
    "\"ReadabilityFleschEase\",\"ReadabilitySMOG\",\"ReadabilityFleschKincaid\",\"ReadabilityColemanLiau\",\"ReadabilityARI\",\"ReadabilityDaleChall\",\"ReadabilityDifficultWordsNum\",\"ReadabilityLinsearWriteFormula\",\"ReadabilityGunningFog\",\"ReadabilityReadingTime\",\"ReadabilityConsensus\",\n",
    "\"ReadingTime\",\"HasFeaturedImage\",\"CodeInlineNum\",\"TagNum\",\"CodeBlockNum\",\n",
    "\"CodeBlockLengthSum\",\"CodeBlockLengthMedian\",\"CodeBlockLengthMean\",\"CodeBlockLengthStd\",\"CodeBlockLengthMin\",\"CodeBlockLengthMax\",\n",
    "\"ListOlNum\",\"ListOlSum\",\"ListOlMedian\",\"ListOlMean\",\"ListOlStd\",\"ListOlMin\",\"ListOlMax\",\n",
    "\"ListUlNum\",\"ListUlSum\",\"ListUlMedian\",\"ListUlMean\",\"ListUlStd\",\"ListUlMin\",\"ListUlMax\",\"ImgNum\",\"LinkNum\",\"HlightNum\",\n",
    "\"ParagraphNum\",\"ItalicNum\",\"BoldNum\",\n",
    "# \"AuthorArticlesClap_mean\",\"AuthorArticlesClap_median\",\"AuthorArticlesClap_count\",\"AuthorArticlesClap_sum\",\n",
    "\"AuthorArticlesClap_count\",\n",
    "\"AuthorArticlesResponse_median\",\"AuthorArticlesResponse_sum\",\n",
    "\"AuthorArticlesResponse_mean\",\"AuthorArticlesVoter_mean\",\"AuthorArticlesVoter_median\",\"AuthorArticlesVoter_sum\",\n",
    "\"TagUseSum\",\"TagUseMean\",\"TagUseMedian\",\"TagClapSum\",\"TagClapMean\",\"TagClapMedian\",\n",
    "\"PublicationClap_mean\",\"PublicationClap_median\",\n",
    "\"PublicationClap_count\",\"PublicationClap_sum\",\"PublicationReadingTime_mean\",\"PublicationReadingTime_median\",\"PublicationReadingTime_sum\",\"PublicationVoter_mean\",\"PublicationVoter_median\",\"PublicationVoter_sum\",\"PublicationisPaywall_mean\",\"PublicationisPaywall_median\",\"PublicationisPaywall_sum\"\n",
    "]\n",
    "\n",
    "# Testing linear SVC with small number of features\n",
    "# features = [\"isPaywall\",\"isPublication\",\n",
    "# \"SentimentPolarity\",\"SentimentSubjectivity\",\n",
    "# \"WordNum\",\"TextSyllableNum\",\"TextLexiconNum\"]\n",
    "\n",
    "print(len(features))\n",
    "\n",
    "# # For continuous regression (linear reg)\n",
    "# depvar = 'ClapCount_Story'\n",
    "\n",
    "# # For categorical regression (logistic reg / SVM)\n",
    "depvar = 'isSuccessful'\n",
    "\n",
    "\n",
    "xTrain = train[features]\n",
    "yTrain = train[depvar]\n",
    "\n",
    "xTest = test[features]\n",
    "yTest = test[depvar]"
   ]
  },
  {
   "cell_type": "markdown",
   "metadata": {},
   "source": [
    "# Check NA columns"
   ]
  },
  {
   "cell_type": "code",
   "execution_count": null,
   "metadata": {},
   "outputs": [],
   "source": [
    "pd.set_option('display.max_rows', 1000)\n",
    "print(len(((df[df['TagNum']==0])))/len(df))\n",
    "print(len(xTrain.isna().any())/len(xTrain))"
   ]
  },
  {
   "cell_type": "markdown",
   "metadata": {},
   "source": [
    "# SKLearn LinReg"
   ]
  },
  {
   "cell_type": "code",
   "execution_count": null,
   "metadata": {},
   "outputs": [],
   "source": [
    "reg = LinearRegression(normalize=True).fit(xTrain, yTrain)\n",
    "\n",
    "#sklearn preprocess normalize"
   ]
  },
  {
   "cell_type": "code",
   "execution_count": null,
   "metadata": {},
   "outputs": [],
   "source": [
    "reg.score(xTrain,yTrain)"
   ]
  },
  {
   "cell_type": "markdown",
   "metadata": {},
   "source": [
    "# statsmodel LinReg"
   ]
  },
  {
   "cell_type": "code",
   "execution_count": null,
   "metadata": {},
   "outputs": [],
   "source": [
    "mod = sm.OLS(yTrain,xTrain.astype(float))\n",
    "fii = mod.fit()\n",
    "\n",
    "print(dir(fii))\n",
    "p_values = fii.pvalues\n",
    "print(p_values[p_values<0.05].sort_values(ascending=True))\n",
    "print(fii.summary())"
   ]
  },
  {
   "cell_type": "markdown",
   "metadata": {},
   "source": [
    "# Recursive Feature Elimination"
   ]
  },
  {
   "cell_type": "code",
   "execution_count": null,
   "metadata": {},
   "outputs": [],
   "source": [
    "from sklearn.feature_selection import RFE\n",
    "from sklearn.linear_model import LogisticRegression\n",
    "\n",
    "\n",
    "model = LogisticRegression(max_iter=1200000)\n",
    "rfe = RFE(model, 20)\n",
    "fit = rfe.fit(xTrain, yTrain)\n",
    "print(fit.score(xTrain, yTrain))\n",
    "print(\"Num Features: %s\" % (fit.n_features_))\n",
    "print(\"Selected Features: %s\" % (fit.support_))\n",
    "print(\"Feature Ranking: %s\" % (fit.ranking_))\n"
   ]
  },
  {
   "cell_type": "markdown",
   "metadata": {},
   "source": [
    "# SKLearn Logistic Regression"
   ]
  },
  {
   "cell_type": "code",
   "execution_count": 42,
   "metadata": {},
   "outputs": [],
   "source": [
    "from sklearn.linear_model import LogisticRegression"
   ]
  },
  {
   "cell_type": "code",
   "execution_count": 43,
   "metadata": {},
   "outputs": [
    {
     "data": {
      "text/plain": [
       "LogisticRegression(C=1.0, class_weight=None, dual=False, fit_intercept=True,\n",
       "                   intercept_scaling=1, l1_ratio=None, max_iter=100,\n",
       "                   multi_class='warn', n_jobs=None, penalty='l2',\n",
       "                   random_state=None, solver='warn', tol=0.0001, verbose=0,\n",
       "                   warm_start=False)"
      ]
     },
     "execution_count": 43,
     "metadata": {},
     "output_type": "execute_result"
    },
    {
     "data": {
      "text/plain": [
       "0.6658322903629537"
      ]
     },
     "execution_count": 43,
     "metadata": {},
     "output_type": "execute_result"
    }
   ],
   "source": [
    "logit = LogisticRegression()\n",
    "logit.fit(xTrain,yTrain)\n",
    "logit.score(xTrain,yTrain)"
   ]
  },
  {
   "cell_type": "code",
   "execution_count": 44,
   "metadata": {},
   "outputs": [
    {
     "name": "stdout",
     "output_type": "stream",
     "text": [
      "Predict Counter({True: 2545, False: 1450})\n",
      "Truth Counter({False: 1999, True: 1996})\n",
      "0.6659352973079726\n"
     ]
    }
   ],
   "source": [
    "# Get AUC\n",
    "from sklearn import metrics\n",
    "\n",
    "yPreds = logit.predict(xTrain)\n",
    "print(\"Predict\", Counter(yPreds))\n",
    "# print(type(yPreds))\n",
    "print(\"Truth\", Counter(yTrain))\n",
    "\n",
    "# print(yPreds)\n",
    "fpr, tpr, thresholds = metrics.roc_curve(yTrain, yPreds)\n",
    "print(metrics.auc(fpr, tpr))"
   ]
  },
  {
   "cell_type": "code",
   "execution_count": null,
   "metadata": {},
   "outputs": [],
   "source": [
    "len(xTrain)"
   ]
  },
  {
   "cell_type": "markdown",
   "metadata": {},
   "source": [
    "# SVC (too slow)"
   ]
  },
  {
   "cell_type": "code",
   "execution_count": null,
   "metadata": {},
   "outputs": [],
   "source": [
    "\n",
    "# # SVC is taking too long, unless I misconfigured something.\n",
    "# # For reference, SVC on iris dataset with 150 samples takes ~20 seconds for me\n",
    "# # So, it doesn't seem feasible considering our sample size is thousands - millions\n",
    "\n",
    "# Instead, use SGDClassifier with loss='hinge' which is a linear SVM.\n",
    "\n",
    "\n",
    "# from matplotlib import pyplot as plt\n",
    "# from sklearn import svm\n",
    "    \n",
    "# s = svm.SVC(kernel = 'linear', gamma='auto')\n",
    "# s.fit(xTrain,yTrain)\n",
    "\n",
    "# pd.Series(abs(s.coef_[0]), index=features).nlargest(10).plot(kind='barh')"
   ]
  },
  {
   "cell_type": "markdown",
   "metadata": {},
   "source": [
    "#  SGDClassifier SVM"
   ]
  },
  {
   "cell_type": "code",
   "execution_count": 45,
   "metadata": {},
   "outputs": [
    {
     "data": {
      "text/plain": [
       "Pipeline(memory=None,\n",
       "         steps=[('standardscaler',\n",
       "                 StandardScaler(copy=True, with_mean=True, with_std=True)),\n",
       "                ('sgdclassifier',\n",
       "                 SGDClassifier(alpha=0.0001, average=False, class_weight=None,\n",
       "                               early_stopping=False, epsilon=0.1, eta0=0.0,\n",
       "                               fit_intercept=True, l1_ratio=0.15,\n",
       "                               learning_rate='optimal', loss='hinge',\n",
       "                               max_iter=1000, n_iter_no_change=5, n_jobs=-1,\n",
       "                               penalty='l2', power_t=0.5, random_state=None,\n",
       "                               shuffle=True, tol=0.001, validation_fraction=0.1,\n",
       "                               verbose=0, warm_start=False))],\n",
       "         verbose=False)"
      ]
     },
     "execution_count": 45,
     "metadata": {},
     "output_type": "execute_result"
    }
   ],
   "source": [
    "import numpy as np\n",
    "from sklearn.linear_model import SGDClassifier\n",
    "from sklearn.preprocessing import StandardScaler\n",
    "from sklearn.pipeline import make_pipeline\n",
    "\n",
    "clf = make_pipeline(StandardScaler(),\n",
    "                    SGDClassifier(max_iter=1000, tol=1e-3, n_jobs=-1))\n",
    "clf.fit(xTrain, yTrain)\n"
   ]
  },
  {
   "cell_type": "code",
   "execution_count": 46,
   "metadata": {},
   "outputs": [
    {
     "data": {
      "text/plain": [
       "0.8112640801001252"
      ]
     },
     "execution_count": 46,
     "metadata": {},
     "output_type": "execute_result"
    },
    {
     "name": "stdout",
     "output_type": "stream",
     "text": [
      "['__abstractmethods__', '__class__', '__delattr__', '__dict__', '__dir__', '__doc__', '__eq__', '__format__', '__ge__', '__getattribute__', '__getitem__', '__getstate__', '__gt__', '__hash__', '__init__', '__init_subclass__', '__le__', '__len__', '__lt__', '__module__', '__ne__', '__new__', '__reduce__', '__reduce_ex__', '__repr__', '__setattr__', '__setstate__', '__sizeof__', '__str__', '__subclasshook__', '__weakref__', '_abc_impl', '_estimator_type', '_final_estimator', '_fit', '_get_param_names', '_get_params', '_get_tags', '_inverse_transform', '_iter', '_log_message', '_pairwise', '_replace_estimator', '_required_parameters', '_set_params', '_transform', '_validate_names', '_validate_steps', 'classes_', 'decision_function', 'fit', 'fit_predict', 'fit_transform', 'get_params', 'inverse_transform', 'memory', 'named_steps', 'predict', 'predict_log_proba', 'predict_proba', 'score', 'set_params', 'steps', 'transform', 'verbose']\n",
      "Predict Counter({False: 2203, True: 1792})\n",
      "Truth Counter({False: 1999, True: 1996})\n",
      "0.8112256278439821\n"
     ]
    }
   ],
   "source": [
    "clf.score(xTrain, yTrain)\n",
    "print(dir(clf))\n",
    "\n",
    "\n",
    "yPreds = clf.predict(xTrain)\n",
    "print(\"Predict\", Counter(yPreds))\n",
    "# print(type(yPreds))\n",
    "print(\"Truth\", Counter(yTrain))\n",
    "\n",
    "# print(yPreds)\n",
    "fpr, tpr, thresholds = metrics.roc_curve(yTrain, yPreds)\n",
    "print(metrics.auc(fpr, tpr))"
   ]
  },
  {
   "cell_type": "markdown",
   "metadata": {},
   "source": [
    "# LinearSVC"
   ]
  },
  {
   "cell_type": "code",
   "execution_count": 48,
   "metadata": {},
   "outputs": [
    {
     "name": "stderr",
     "output_type": "stream",
     "text": [
      "C:\\Users\\Justin\\Anaconda3\\lib\\site-packages\\sklearn\\svm\\base.py:929: ConvergenceWarning: Liblinear failed to converge, increase the number of iterations.\n",
      "  \"the number of iterations.\", ConvergenceWarning)\n"
     ]
    },
    {
     "data": {
      "text/plain": [
       "LinearSVC(C=1.0, class_weight=None, dual=True, fit_intercept=True,\n",
       "          intercept_scaling=1, loss='squared_hinge', max_iter=1000,\n",
       "          multi_class='ovr', penalty='l2', random_state=0, tol=1e-05,\n",
       "          verbose=0)"
      ]
     },
     "execution_count": 48,
     "metadata": {},
     "output_type": "execute_result"
    },
    {
     "name": "stderr",
     "output_type": "stream",
     "text": [
      "C:\\Users\\Justin\\Anaconda3\\lib\\site-packages\\sklearn\\svm\\base.py:929: ConvergenceWarning: Liblinear failed to converge, increase the number of iterations.\n",
      "  \"the number of iterations.\", ConvergenceWarning)\n"
     ]
    },
    {
     "data": {
      "text/plain": [
       "0.8270337922403004"
      ]
     },
     "execution_count": 48,
     "metadata": {},
     "output_type": "execute_result"
    },
    {
     "name": "stdout",
     "output_type": "stream",
     "text": [
      "['__abstractmethods__', '__class__', '__delattr__', '__dict__', '__dir__', '__doc__', '__eq__', '__format__', '__ge__', '__getattribute__', '__getitem__', '__getstate__', '__gt__', '__hash__', '__init__', '__init_subclass__', '__le__', '__len__', '__lt__', '__module__', '__ne__', '__new__', '__reduce__', '__reduce_ex__', '__repr__', '__setattr__', '__setstate__', '__sizeof__', '__str__', '__subclasshook__', '__weakref__', '_abc_impl', '_estimator_type', '_final_estimator', '_fit', '_get_param_names', '_get_params', '_get_tags', '_inverse_transform', '_iter', '_log_message', '_pairwise', '_replace_estimator', '_required_parameters', '_set_params', '_transform', '_validate_names', '_validate_steps', 'classes_', 'decision_function', 'fit', 'fit_predict', 'fit_transform', 'get_params', 'inverse_transform', 'memory', 'named_steps', 'predict', 'predict_log_proba', 'predict_proba', 'score', 'set_params', 'steps', 'transform', 'verbose']\n"
     ]
    },
    {
     "data": {
      "text/plain": [
       "<matplotlib.axes._subplots.AxesSubplot at 0x198ed439cc8>"
      ]
     },
     "execution_count": 48,
     "metadata": {},
     "output_type": "execute_result"
    },
    {
     "data": {
      "image/png": "[encoded data removed]",
      "text/plain": [
       "<Figure size 432x288 with 1 Axes>"
      ]
     },
     "metadata": {
      "needs_background": "light"
     },
     "output_type": "display_data"
    }
   ],
   "source": [
    "from sklearn.svm import LinearSVC\n",
    "from sklearn.pipeline import make_pipeline\n",
    "from sklearn.preprocessing import StandardScaler\n",
    "from sklearn.datasets import make_classification \n",
    "\n",
    "clf = make_pipeline(StandardScaler(),\n",
    "                    LinearSVC(random_state=0, tol=1e-5))\n",
    "s = LinearSVC(random_state=0, tol=1e-5)\n",
    "s.fit(xTrain,yTrain)\n",
    "\n",
    "fit = clf.fit(xTrain, yTrain)\n",
    "clf.score(xTrain,yTrain)\n",
    "print(dir(clf))\n",
    "pd.Series(s.coef_[0], index=features).nlargest(15).plot(kind='barh')"
   ]
  },
  {
   "cell_type": "markdown",
   "metadata": {},
   "source": [
    "# Iris dataset benchmarks\n",
    "[From this SO post](https://stackoverflow.com/a/32025662)"
   ]
  },
  {
   "cell_type": "code",
   "execution_count": 10,
   "metadata": {},
   "outputs": [
    {
     "data": {
      "text/plain": [
       "OneVsRestClassifier(estimator=SVC(C=1.0, cache_size=200,\n",
       "                                  class_weight='balanced', coef0=0.0,\n",
       "                                  decision_function_shape='ovr', degree=3,\n",
       "                                  gamma='auto_deprecated', kernel='linear',\n",
       "                                  max_iter=-1, probability=True,\n",
       "                                  random_state=None, shrinking=True, tol=0.001,\n",
       "                                  verbose=False),\n",
       "                    n_jobs=None)"
      ]
     },
     "execution_count": 10,
     "metadata": {},
     "output_type": "execute_result"
    },
    {
     "name": "stdout",
     "output_type": "stream",
     "text": [
      "Single SVC 21.410616636276245 0.9666666666666667\n"
     ]
    },
    {
     "data": {
      "text/plain": [
       "OneVsRestClassifier(estimator=BaggingClassifier(base_estimator=SVC(C=1.0,\n",
       "                                                                   cache_size=200,\n",
       "                                                                   class_weight='balanced',\n",
       "                                                                   coef0=0.0,\n",
       "                                                                   decision_function_shape='ovr',\n",
       "                                                                   degree=3,\n",
       "                                                                   gamma='auto_deprecated',\n",
       "                                                                   kernel='linear',\n",
       "                                                                   max_iter=-1,\n",
       "                                                                   probability=True,\n",
       "                                                                   random_state=None,\n",
       "                                                                   shrinking=True,\n",
       "                                                                   tol=0.001,\n",
       "                                                                   verbose=False),\n",
       "                                                bootstrap=True,\n",
       "                                                bootstrap_features=False,\n",
       "                                                max_features=1.0,\n",
       "                                                max_samples=0.1,\n",
       "                                                n_estimators=10, n_jobs=None,\n",
       "                                                oob_score=False,\n",
       "                                                random_state=None, verbose=0,\n",
       "                                                warm_start=False),\n",
       "                    n_jobs=None)"
      ]
     },
     "execution_count": 10,
     "metadata": {},
     "output_type": "execute_result"
    },
    {
     "name": "stdout",
     "output_type": "stream",
     "text": [
      "Bagging SVC 1.5999994277954102 0.96\n"
     ]
    },
    {
     "data": {
      "text/plain": [
       "RandomForestClassifier(bootstrap=True, class_weight=None, criterion='gini',\n",
       "                       max_depth=None, max_features='auto', max_leaf_nodes=None,\n",
       "                       min_impurity_decrease=0.0, min_impurity_split=None,\n",
       "                       min_samples_leaf=20, min_samples_split=2,\n",
       "                       min_weight_fraction_leaf=0.0, n_estimators=10,\n",
       "                       n_jobs=None, oob_score=False, random_state=None,\n",
       "                       verbose=0, warm_start=False)"
      ]
     },
     "execution_count": 10,
     "metadata": {},
     "output_type": "execute_result"
    },
    {
     "name": "stdout",
     "output_type": "stream",
     "text": [
      "Random Forest 0.02699756622314453 1.0\n"
     ]
    }
   ],
   "source": [
    "import time\n",
    "import numpy as np\n",
    "from sklearn.ensemble import BaggingClassifier, RandomForestClassifier\n",
    "from sklearn import datasets\n",
    "from sklearn.multiclass import OneVsRestClassifier\n",
    "from sklearn.svm import SVC\n",
    "\n",
    "iris = datasets.load_iris()\n",
    "X, y = iris.data, iris.target\n",
    "\n",
    "X = np.repeat(X, 100, axis=0)\n",
    "y = np.repeat(y, 100, axis=0)\n",
    "start = time.time()\n",
    "clf = OneVsRestClassifier(SVC(kernel='linear', probability=True, class_weight='balanced'))\n",
    "clf.fit(X, y)\n",
    "end = time.time()\n",
    "print(\"Single SVC\", end - start, clf.score(X,y))\n",
    "proba = clf.predict_proba(X)\n",
    "\n",
    "n_estimators = 10\n",
    "start = time.time()\n",
    "clf = OneVsRestClassifier(BaggingClassifier(SVC(kernel='linear', probability=True, class_weight='balanced'), max_samples=1.0 / n_estimators, n_estimators=n_estimators))\n",
    "clf.fit(X, y)\n",
    "end = time.time()\n",
    "print(\"Bagging SVC\", end - start, clf.score(X,y))\n",
    "proba = clf.predict_proba(X)\n",
    "\n",
    "start = time.time()\n",
    "clf = RandomForestClassifier(min_samples_leaf=20)\n",
    "clf.fit(X, y)\n",
    "end = time.time()\n",
    "print(\"Random Forest\", end - start, clf.score(X,y))\n",
    "proba = clf.predict_proba(X)\n"
   ]
  }
 ],
 "metadata": {
  "kernelspec": {
   "display_name": "Python 3",
   "language": "python",
   "name": "python3"
  },
  "language_info": {
   "codemirror_mode": {
    "name": "ipython",
    "version": 3
   },
   "file_extension": ".py",
   "mimetype": "text/x-python",
   "name": "python",
   "nbconvert_exporter": "python",
   "pygments_lexer": "ipython3",
   "version": "3.7.4"
  }
 },
 "nbformat": 4,
 "nbformat_minor": 4
}
