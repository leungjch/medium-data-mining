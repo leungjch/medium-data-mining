{
 "cells": [
  {
   "cell_type": "markdown",
   "metadata": {},
   "source": [
    "# Import modules"
   ]
  },
  {
   "cell_type": "code",
   "execution_count": 36,
   "metadata": {},
   "outputs": [],
   "source": [
    "from IPython.core.display import display, HTML\n",
    "import numpy as np\n",
    "import pandas as pd\n",
    "\n",
    "from bs4 import BeautifulSoup\n",
    "import re\n",
    "import statistics\n",
    "\n"
   ]
  },
  {
   "cell_type": "markdown",
   "metadata": {},
   "source": [
    "# Optional: Strip HTML"
   ]
  },
  {
   "cell_type": "code",
   "execution_count": 10,
   "metadata": {},
   "outputs": [],
   "source": [
    "# cols = ['ClapCount_Card', 'ClapCount_Story', 'Company', 'CompanyURL', 'PostID',\n",
    "#        'PublishedDate', 'ReadingTime', 'ResponseNum_Card', 'ResponseNum_Story',\n",
    "#        'StoryHTML', 'StoryIndex', 'StoryTitle', 'StoryURL', 'StoryURL_Story',\n",
    "#        'Tag1', 'Tag2', 'Tag3', 'Tag4', 'Tag5', 'TagSource', 'User', 'UserURL',\n",
    "#        'VoterCount', 'isPaywall']\n",
    "\n",
    "\n",
    "cols = ['ClapCount_Card', 'ClapCount_Story', 'Company', 'CompanyURL', 'PostID',\n",
    "       'PublishedDate', 'ReadingTime', 'ResponseNum_Card', 'ResponseNum_Story',\n",
    "       'StoryIndex', 'StoryTitle', 'StoryURL', 'StoryURL_Story',\n",
    "       'Tag1', 'Tag2', 'Tag3', 'Tag4', 'Tag5', 'TagSource', 'User', 'UserURL',\n",
    "       'VoterCount', 'isPaywall']\n",
    "import pandas as pd\n",
    "reader = pd.read_csv('df_story.csv', chunksize=20000)\n",
    "for chunk in reader:\n",
    "    chunk.to_csv('df_noHTML.csv', index=False, header=False, mode='a')\n",
    "\n",
    "    result = chunk\n",
    "    result['StoryHTML'] = ''\n",
    "\n",
    "    result.to_csv('df_noHTML.csv', index=False, header=False, mode='a')\n",
    "\n"
   ]
  },
  {
   "cell_type": "code",
   "execution_count": null,
   "metadata": {},
   "outputs": [],
   "source": [
    "df_noHTML = pd.read_csv(\"df_noHTML.csv\", names=cols)\n",
    "display(HTML(df_noHTML.head(5).to_html()))"
   ]
  },
  {
   "cell_type": "markdown",
   "metadata": {},
   "source": [
    "# Import data and filter N/A stories"
   ]
  },
  {
   "cell_type": "code",
   "execution_count": 39,
   "metadata": {},
   "outputs": [
    {
     "name": "stdout",
     "output_type": "stream",
     "text": [
      "100\n"
     ]
    }
   ],
   "source": [
    "df = pd.read_csv(\"data/df_story_chunk1.csv\", nrows=100)\n",
    "df.head()\n",
    "df = df[-df['PostID'].isnull()]\n",
    "print(len(df))\n"
   ]
  },
  {
   "cell_type": "markdown",
   "metadata": {},
   "source": [
    "# Check NA"
   ]
  },
  {
   "cell_type": "code",
   "execution_count": 11,
   "metadata": {},
   "outputs": [
    {
     "data": {
      "text/plain": [
       "0       False\n",
       "1       False\n",
       "2       False\n",
       "3       False\n",
       "4       False\n",
       "        ...  \n",
       "9995    False\n",
       "9996    False\n",
       "9997    False\n",
       "9998    False\n",
       "9999    False\n",
       "Name: PostID, Length: 10000, dtype: bool"
      ]
     },
     "execution_count": 11,
     "metadata": {},
     "output_type": "execute_result"
    }
   ],
   "source": []
  },
  {
   "cell_type": "markdown",
   "metadata": {},
   "source": [
    "# Extract features from HTML"
   ]
  },
  {
   "cell_type": "code",
   "execution_count": 34,
   "metadata": {},
   "outputs": [],
   "source": [
    "display(HTML(df.tail().to_html()))"
   ]
  },
  {
   "cell_type": "code",
   "execution_count": 82,
   "metadata": {},
   "outputs": [],
   "source": [
    "\n",
    "# Text from raw HTML\n",
    "def extract_features_from_html(data):\n",
    "    if pd.notnull(data['StoryHTML']):\n",
    "               \n",
    "        # Using beautifulsoup        \n",
    "        soup = BeautifulSoup(data['StoryHTML'])\n",
    "        \n",
    "        \n",
    "        # Extract num. images\n",
    "        img_count = int(len(soup.find_all(\"img\")))\n",
    "\n",
    "        \n",
    "        # Header information (author / title) is stored in <div> tag with no classname attribute\n",
    "        # First <div> tag is the article itself, remove every other <div> afterwards\n",
    "        for div in soup.find_all(\"div\", {'class':None})[1:]:\n",
    "            div.decompose()\n",
    "        \n",
    "        # Extract Text\n",
    "        text = soup.text\n",
    "        \n",
    "        # Extract num. words\n",
    "        word_count = int(len(soup.text.split()))\n",
    "        \n",
    "        # Extract code\n",
    "        # There are four ways that authors display code in a Medium article, the first two are retrievable.\n",
    "        # 1) Codeblock: Use ``` ``` which is converted into <pre> tag. Available in data.\n",
    "        # 2) Inline: <code> tag. Available in data.\n",
    "        # 3) Import a Gist file. N/A in data since Gists are embedded content which are not captured by Scrapy and would require a deeper request level.\n",
    "        # 4) Show it as an image. N/A in data since there is no distinguishing tag for \"code\" images and normal images.\n",
    "        \n",
    "        \n",
    "        # Extract num. code blocks that use the Medium ``` format (have <pre> tag)\n",
    "        codeblocks_default = soup.find_all(\"pre\")\n",
    "        code_default_count = len(codeblocks_default)\n",
    "        \n",
    "        # Get a list of the number of lines of code of each code block\n",
    "        # Every code block has number of <br> + 1 lines\n",
    "            # <pre>\n",
    "            # ....\n",
    "            # <br>\n",
    "            # ....\n",
    "            # </pre>        \n",
    "        # Then compute basic statistics\n",
    "        \n",
    "        code_default_lengths = [len(codeblock.find_all(\"br\"))+len(codeblock.find_all(\"span\")) for codeblock in codeblocks_default]\n",
    "        if len(code_default_lengths) > 0:\n",
    "            code_length_sum = sum(code_default_lengths)\n",
    "            code_length_median = statistics.median(code_default_lengths)\n",
    "            code_length_mean = statistics.mean(code_default_lengths)\n",
    "            code_length_min = min(code_default_lengths)\n",
    "            code_length_max = max(code_default_lengths)\n",
    "        else:\n",
    "            code_length_sum = 0\n",
    "            code_length_median = 0\n",
    "            code_length_mean = 0\n",
    "            code_length_min = 0\n",
    "            code_length_max = 0\n",
    "            \n",
    "            \n",
    "        # Extract number of <code> tags (inline code)\n",
    "        \n",
    "            \n",
    "        # Extract num. Gist code blocks\n",
    "        # Gist code blocks have form <figure class=\"ab cd ef ... >\"\n",
    "        # <figure> is also used to wrap images in article have form: \n",
    "            # <figure class = \"ab cd ef ... paragraph-image\", so we exclude those figure elements\n",
    "\n",
    "            \n",
    "#         gists = soup.find_all(\"figure\")\n",
    "#         if len(gists)>0:\n",
    "#             code_gist_count = len([x for x in gists if x.attrs.get(\"class\") and \"paragraph-image\" not in x.attrs.get(\"class\")])\n",
    "#         else:\n",
    "#             code_gist_count = 0\n",
    "\n",
    "        # An article has gist code blocks and default code blocks\n",
    "        code_count = code_default_count\n",
    "            \n",
    "                \n",
    "        # Extract a list of total links and their URLs\n",
    "        # We need to filter out Medium's internal links (share post, author profile, etc)\n",
    "        # These links contain the PostID, so we only collect <a> tags with href not containing PostID\n",
    "        links_all = soup.find_all(\"a\")\n",
    "        link_urls = [link.attrs.get('href') for link in links_all if str(data['PostID']) not in link.attrs.get('href')]\n",
    "        \n",
    "\n",
    "        # Extract total number of links\n",
    "        link_count = int(len(link_urls))\n",
    "        \n",
    "        # Extract number of highlights\n",
    "        highlights = soup.find_all(\"mark\")\n",
    "        highlight_count = int(len(highlights))\n",
    "\n",
    "        # Extract highlight text\n",
    "        highlights_text = [hlt.text for hlt in highlights]\n",
    "\n",
    "        # Extract image count\n",
    "        # A genuine image does not have alt (used for user logo), so we use this fact to verify image elements\n",
    "        # Get src and find number of unique URLs to find number of images\n",
    "        imgli = soup.find_all(\"img\")\n",
    "        newLi = [re.search(\"\\*.+(?![^\\.])\", img['src']).group(0).split(\".\", 1)[0] for img in imgli if (img.has_attr('src') and re.search(\"\\*.+(?![^\\.])\", img['src']) is not None)]\n",
    "        if len(newLi) == 0:\n",
    "            img_count = len(set([img.attrs['src'] for img in imgli if img.has_attr('src')]))\n",
    "        else:\n",
    "            img_count = len(set(newLi))-1\n",
    "    else:\n",
    "        text = np.NaN\n",
    "        word_count = np.NaN\n",
    "        code_count = np.NaN\n",
    "        img_count = np.NaN\n",
    "        link_count = np.NaN\n",
    "        link_urls = np.NaN\n",
    "        highlights_text = np.NaN\n",
    "        highlight_count = np.NaN\n",
    "        code_default_count = np.NaN\n",
    "        code_default_lengths = np.NaN\n",
    "        code_length_sum = np.NaN\n",
    "        code_length_median = np.NaN\n",
    "        code_length_mean = np.NaN\n",
    "        code_length_min = np.NaN\n",
    "        code_length_max = np.NaN\n",
    "        \n",
    "    return text, word_count, code_count, code_default_count, code_default_lengths, code_length_sum, code_length_median, code_length_mean, code_length_min, code_length_max, img_count, link_urls, link_count, highlights_text, highlight_count\n",
    "    \n",
    "test = df\n",
    "test[['Text', 'WordNum', 'CodeBlockNum', 'CodeBlockDefaultNum', \"CodeLengthList\", \"CodeLengthSum\", \"CodeLengthMedian\", \"CodeLengthMean\", \"CodeLengthMin\", \"CodeLengthMax\", 'ImgNum', 'LinkURLList', 'LinkNum', 'HLightTextList', 'HlightNum']] = df.apply(extract_features_from_html, axis=1, result_type=\"expand\")\n",
    "del test['StoryHTML']"
   ]
  },
  {
   "cell_type": "code",
   "execution_count": 87,
   "metadata": {},
   "outputs": [
    {
     "data": {
      "text/html": [
       "<table border=\"1\" class=\"dataframe\">\n",
       "  <thead>\n",
       "    <tr style=\"text-align: right;\">\n",
       "      <th></th>\n",
       "      <th>ClapCount_Card</th>\n",
       "      <th>ClapCount_Story</th>\n",
       "      <th>Company</th>\n",
       "      <th>CompanyURL</th>\n",
       "      <th>PostID</th>\n",
       "      <th>PublishedDate</th>\n",
       "      <th>ReadingTime</th>\n",
       "      <th>ResponseNum_Card</th>\n",
       "      <th>ResponseNum_Story</th>\n",
       "      <th>StoryIndex</th>\n",
       "      <th>StoryTitle</th>\n",
       "      <th>StoryURL</th>\n",
       "      <th>StoryURL_Story</th>\n",
       "      <th>Tag1</th>\n",
       "      <th>Tag2</th>\n",
       "      <th>Tag3</th>\n",
       "      <th>Tag4</th>\n",
       "      <th>Tag5</th>\n",
       "      <th>TagSource</th>\n",
       "      <th>User</th>\n",
       "      <th>UserURL</th>\n",
       "      <th>VoterCount</th>\n",
       "      <th>isPaywall</th>\n",
       "      <th>Text</th>\n",
       "      <th>WordNum</th>\n",
       "      <th>CodeBlockNum</th>\n",
       "      <th>CodeBlockDefaultNum</th>\n",
       "      <th>CodeLengthList</th>\n",
       "      <th>CodeLengthSum</th>\n",
       "      <th>CodeLengthMedian</th>\n",
       "      <th>CodeLengthMean</th>\n",
       "      <th>CodeLengthMin</th>\n",
       "      <th>CodeLengthMax</th>\n",
       "      <th>ImgNum</th>\n",
       "      <th>LinkURLList</th>\n",
       "      <th>LinkNum</th>\n",
       "      <th>HLightTextList</th>\n",
       "      <th>HlightNum</th>\n",
       "    </tr>\n",
       "  </thead>\n",
       "  <tbody>\n",
       "    <tr>\n",
       "      <th>42</th>\n",
       "      <td>0</td>\n",
       "      <td>0</td>\n",
       "      <td>NaN</td>\n",
       "      <td>NaN</td>\n",
       "      <td>9ba4ca4519fa</td>\n",
       "      <td>2020-04-30T11:11:32.418Z</td>\n",
       "      <td>6 min read</td>\n",
       "      <td>0</td>\n",
       "      <td>0</td>\n",
       "      <td>498</td>\n",
       "      <td>Top 5 Skills Required To Become A Digital Transformation Officer</td>\n",
       "      <td>https://medium.com/@novelvista.seo/top-5-skills-required-to-become-a-digital-transformation-officer-9ba4ca4519fa?source=tag_archive---------120-----------------------</td>\n",
       "      <td>https://medium.com/@novelvista.seo/top-5-skills-required-to-become-a-digital-transformation-officer-9ba4ca4519fa?source=tag_archive---------120-----------------------</td>\n",
       "      <td>skills</td>\n",
       "      <td>digital-transformation</td>\n",
       "      <td>big-data</td>\n",
       "      <td>machine-learning</td>\n",
       "      <td>quality</td>\n",
       "      <td>machine-learning</td>\n",
       "      <td>NovelVista</td>\n",
       "      <td>https://medium.com/@novelvista.seo</td>\n",
       "      <td>0</td>\n",
       "      <td>False</td>\n",
       "      <td>[Is Digital Transformation Officer a job role worth taking up?If you would have asked this same question a few years ago, our answer would have been “Maybe, maybe not”. Because just a decade ago, we could not even imagine that technology would be a blessing in disguise for organizational growth. Think about yourself. Could you ever think that there will be a virtual assistant to answer your every query instead of a customer care executive? No right?In our previous blog “ Digital Transformation: The Unsung Hero During COVID-19 Pandemic “ we discussed how COVID 19 has been aa blessing in disguise throughout. In this alarming scenario. In this blog, we are going to tell you about the skills you will require as a digital transformation officer to keep up the good work even in the post COVID19 scenario. But firstly, let us tell you about the responsibilities of a digital transformation officer in brief.With the rapid change of the global market and increasing customer demand, the responsibilities of Digital Transformation Officers as well are expanding day by day. Digital transformation of organizations can be a challenging task since every task will be either automated or heavily dependent on new technologies like Machine Learning, AI, Data Science and many more. Digital Transformation Officer is the one who can make this entire process a cakewalk by enlightening the employees about the new changes and guiding them through it. He monitors the entire digital growth of the organization and is responsible for incorporating new tools and technologies in order to give the business goals a new dimension. To summarize it, Digital Transformation Officer is the one who bridges the gap between business growth and the business growth the organization can achieve with the help of Digital Transformation. And to do the same, there is a set of soft skills as well as technical skills required. Here are the 5 must-have skills we have listed out that is required to become a Digital Transformation Officer. Have a look!Top 5 Skills to Become a Digital Transformation Officer:1. Big Data Analytics:Well, this one goes without saying. Can any organizations work without data? Of course not! So, how does the Big Data Analytics exactly help the organization in digital transformation? Big data is a field that treats ways to analyze data sets and systematically extract information to deal with data sets that are too large or complex to be dealt with by traditional data-processing application software. Data with many cases offer greater statistical power, while data with higher complexity (more attributes or columns) may lead to a higher false discovery rate. Big data challenges include capturing data, data storage, data analysis, search, sharing, transfer, visualization, querying, updating, information privacy, and data source. Big data was originally associated with three key concepts: , and. When we handle big data, we may not sample but simply observe and track what happens. Therefore, big data often includes data with sizes that exceed the capacity of traditional software to process within an acceptable time and On the other hand, Data analysis is a process of inspecting, cleansing, transforming, and modeling data with the goal of discovering useful information, informing conclusion and supporting decision-making. Data analysis has multiple facets and approaches, encompassing diverse techniques under a variety of names, and is used in different business, science, and social science domains. In today’s business world, data analysis plays a role in making decisions more scientific and helping businesses operate more effectively. So if we club them together, it can be a huge help for any organization. Big Data analytics is a term used to describe the examination of a large amount of data to see what patterns or other useful information can be found. Hence, if you are aspiring to become a digital transformation officer, it’s mandatory for you to know how to organize and analyze the data you have collected with the help of Big Data Analytics.2. Machine Learning:How much do we depend on automation today? You already know the answer to this one, since you are already using some kind of automation or the other at your workspace. Isn’t it? In order to make automation the main key to your digital transformation, one must have knowledge of machine learning. Machine learning is an application of Artificial Intelligence. It is the study of computer algorithms that improve automatically through experience. It is seen as a subset of artificial intelligence. Machine learning algorithms build a mathematical model based on sample data, known as “training data”, in order to make predictions or decisions without being explicitly programmed to do so. Machine learning is closely related to computational statistics, which focuses on making predictions using computers. The study of mathematical optimization delivers methods, theory, and application domains to the field of machine learning. Data mining is a related field of study, focusing on exploratory data analysis through unsupervised learning. In its application across business problems, machine learning is also referred to as predictive analytics.Machine learning algorithms are used in a wide variety of applications to impact business growth. Some of its common uses are such as email filtering and computer vision, where it is difficult or infeasible to develop conventional algorithms to perform the needed tasks. Hence, Machine Learning ahas the ability to accelerate the digital transformation of any organization to an entirely new horizon. And as a Digital Transformation Officer, you should have an in-depth knowledge of Machine Learning to make it work.3. Data and Digital Security:Nowadays, organizations are focusing on Continuous Delivery more than anything. Ut with increasing speed comes increased vulnerability and along with that, data threat. Also, when companies focus on Digital Marketing more and more to drive up the website traffic and reach potential customers, their social media accounts or mail accounts become visible and open towards the possibility of cybercrime. If you are willing to become a Digital Transformation Officer, it will be your responsibility to keep the data and the information of all the digital account safe. And how can you do that? With the help of cybersecurity of course!Cybersecurity or Information Technology security (IT security) is the protection of computer systems and networks from the theft of or damage to their hardware, software, or electronic data, as well as from the disruption or misdirection of the services they provide. Due to the increasing use of emerging technologies like IoT, wireless networks, WiFi, cloud computing, cybersecurity is being more and more important day by day. Hence, if you are not having expertise in this field, consider yourself doomed in your Digital Transformation Officer career already!4. Mobility Management:What was the last time you have seen a person without a phone in their hand? Probably in your childhood. Right? The entire world has been locked up inside the 7 inches screen. And that’s where all your potential customers are as well. A survey of Adweek says, most of the consumers spend 25% of their time on mobile phones daily. So, to impact the Digital Transformation speed of your organization, you need to know all about mobility management. Mobility management is one of the major functions of a GSM or a UMTS network that allows mobile phones to work. The aim of mobility management is to track where the subscribers are, allowing calls, SMS, and other mobile phone services to be delivered to them. So if you want to rock the world of Digital Transformation as a Digital Transformation Officer, learning all about Mobility Management is your perfect gig.5. Leadership Quality:Considering the fact that we are living in the digital era, we can simply say, Digital Transformation Officers are the ones who can bring the renaissance in the working methods of any organization. He should be the one to communicate with all the employees about the technical changes, stay up to date about new tools and technologies to implement them. If something goes wrong, he should be the person who would analyze and find out the bottlenecks and be resourceful enough to come up with a 2nd plan.Conclusion:According to PayScale.com, the average salary of a Digital Transformation Officer is $203,473. Promising, isn’t it? All you need to do for that is acquire the skills that are mentioned above and you are good to go!Wonder how to do that? Petty simple! Take up a Digital Transformation Officer training.We will be back with more interesting Digital transformation topics soon. Till then, stay upskilled!Originally published at https://www.novelvista.com.]</td>\n",
       "      <td>1403</td>\n",
       "      <td>0</td>\n",
       "      <td>0</td>\n",
       "      <td>[]</td>\n",
       "      <td>0</td>\n",
       "      <td>0.0</td>\n",
       "      <td>0.0</td>\n",
       "      <td>0</td>\n",
       "      <td>0</td>\n",
       "      <td>0</td>\n",
       "      <td>[https://www.novelvista.com:443/../blogs/covid-19/digital-transformation-an-unsung-hero-of-covid19-pandemic, https://www.payscale.com/research/US/Job=Chief_Digital_Officer/Salary, https://www.novelvista.com:443/../digital-transformation-officer-certification, https://www.novelvista.com/blogs/other/top-5-skills-to-become-digital-transformation-officer]</td>\n",
       "      <td>4</td>\n",
       "      <td>[]</td>\n",
       "      <td>0</td>\n",
       "    </tr>\n",
       "  </tbody>\n",
       "</table>"
      ],
      "text/plain": [
       "<IPython.core.display.HTML object>"
      ]
     },
     "metadata": {},
     "output_type": "display_data"
    }
   ],
   "source": [
    "display(HTML(test.sample(1).to_html()))"
   ]
  },
  {
   "cell_type": "code",
   "execution_count": 269,
   "metadata": {},
   "outputs": [
    {
     "name": "stdout",
     "output_type": "stream",
     "text": [
      "[]\n"
     ]
    }
   ],
   "source": [
    "test_html = df.iloc[547].StoryHTML\n",
    "testsoup = BeautifulSoup(test_html, 'lxml')\n",
    "print(testsoup.find_all(\"figure\", {'class':re.compile(\"/.*[^image]$/\")}))"
   ]
  },
  {
   "cell_type": "code",
   "execution_count": 198,
   "metadata": {},
   "outputs": [
    {
     "name": "stdout",
     "output_type": "stream",
     "text": [
      "545    https://medium.com/dataform/sending-data-from-bigquery-to-intercom-using-google-cloud-functions-c65f26906a4?source=tag_archive---------2-----------------------\n",
      "546    https://medium.com/datadriveninvestor/java-enums-what-a-special-type-276d27423a71?source=tag_archive---------0-----------------------                          \n"
     ]
    }
   ],
   "source": [
    "# display(HTML(df.head(5).to_html()))\n",
    "pd.set_option('display.max_colwidth', -1)\n",
    "\n",
    "print(df[df['CodeNum']>0].head(100)['StoryURL'].to_string())\n",
    "\n"
   ]
  },
  {
   "cell_type": "code",
   "execution_count": 363,
   "metadata": {},
   "outputs": [
    {
     "name": "stdout",
     "output_type": "stream",
     "text": [
      "9.057077070026525\n"
     ]
    },
    {
     "data": {
      "image/png": "[encoded data removed]",
      "text/plain": [
       "<Figure size 432x288 with 1 Axes>"
      ]
     },
     "metadata": {
      "needs_background": "light"
     },
     "output_type": "display_data"
    }
   ],
   "source": [
    "import matplotlib.pyplot as plt\n",
    "print(df[df['CodeLengthMean']>0]['CodeLengthMean'].mean())\n",
    "df['CodeLengthMean'].hist(bins=60)\n",
    "plt.show()"
   ]
  }
 ],
 "metadata": {
  "kernelspec": {
   "display_name": "Python 3",
   "language": "python",
   "name": "python3"
  },
  "language_info": {
   "codemirror_mode": {
    "name": "ipython",
    "version": 3
   },
   "file_extension": ".py",
   "mimetype": "text/x-python",
   "name": "python",
   "nbconvert_exporter": "python",
   "pygments_lexer": "ipython3",
   "version": "3.7.4"
  }
 },
 "nbformat": 4,
 "nbformat_minor": 4
}
