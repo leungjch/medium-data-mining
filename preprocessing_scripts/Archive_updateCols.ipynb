{
 "cells": [
  {
   "cell_type": "code",
   "execution_count": 2,
   "metadata": {},
   "outputs": [],
   "source": [
    "import pandas as pd\n",
    "import numpy as np\n",
    "from IPython.display import display, HTML\n"
   ]
  },
  {
   "cell_type": "code",
   "execution_count": 28,
   "metadata": {},
   "outputs": [
    {
     "name": "stdout",
     "output_type": "stream",
     "text": [
      "Index(['n', 'ClapCount_Card', 'ClapCount_Story', 'Company', 'CompanyURL',\n",
      "       'PostID', 'PublishedDate', 'ReadingTime', 'ResponseNum_Card',\n",
      "       'ResponseNum_Story', 'StoryHTML', 'StoryIndex', 'StoryTitle',\n",
      "       'StoryURL', 'StoryURL_Story', 'Tag1', 'Tag2', 'Tag3', 'Tag4', 'Tag5',\n",
      "       'TagSource', 'User', 'UserURL', 'VoterCount', 'isPaywall'],\n",
      "      dtype='object')\n"
     ]
    },
    {
     "data": {
      "text/html": [
       "<table border=\"1\" class=\"dataframe\">\n",
       "  <thead>\n",
       "    <tr style=\"text-align: right;\">\n",
       "      <th></th>\n",
       "      <th>n</th>\n",
       "      <th>ClapCount_Card</th>\n",
       "      <th>ClapCount_Story</th>\n",
       "      <th>Company</th>\n",
       "      <th>CompanyURL</th>\n",
       "      <th>PostID</th>\n",
       "      <th>PublishedDate</th>\n",
       "      <th>ReadingTime</th>\n",
       "      <th>ResponseNum_Card</th>\n",
       "      <th>ResponseNum_Story</th>\n",
       "      <th>StoryHTML</th>\n",
       "      <th>StoryIndex</th>\n",
       "      <th>StoryTitle</th>\n",
       "      <th>StoryURL</th>\n",
       "      <th>StoryURL_Story</th>\n",
       "      <th>Tag1</th>\n",
       "      <th>Tag2</th>\n",
       "      <th>Tag3</th>\n",
       "      <th>Tag4</th>\n",
       "      <th>Tag5</th>\n",
       "      <th>TagSource</th>\n",
       "      <th>User</th>\n",
       "      <th>UserURL</th>\n",
       "      <th>VoterCount</th>\n",
       "      <th>isPaywall</th>\n",
       "    </tr>\n",
       "  </thead>\n",
       "  <tbody>\n",
       "    <tr>\n",
       "      <th>0</th>\n",
       "      <td>0</td>\n",
       "      <td>0</td>\n",
       "      <td>0.0</td>\n",
       "      <td>NaN</td>\n",
       "      <td>NaN</td>\n",
       "      <td>c56a9be83999</td>\n",
       "      <td>2020-05-17T04:21:17.065Z</td>\n",
       "      <td>2 min read</td>\n",
       "      <td>0</td>\n",
       "      <td>0</td>\n",
       "      <td>NaN</td>\n",
       "      <td>2</td>\n",
       "      <td>Make Your Own Voice Control Appliances using the HC-05 Bluetooth Module.</td>\n",
       "      <td>https://medium.com/@ravindra.sombati/make-your-own-voice-control-appliances-using-the-hc-05-bluetooth-module-c56a9be83999?source=tag_archive---------0-----------------------</td>\n",
       "      <td>https://medium.com/@ravindra.sombati/make-your-own-voice-control-appliances-using-the-hc-05-bluetooth-module-c56a9be83999?source=tag_archive---------0-----------------------</td>\n",
       "      <td>arduino</td>\n",
       "      <td>linux</td>\n",
       "      <td>embedded-systems</td>\n",
       "      <td>c-programming</td>\n",
       "      <td>NaN</td>\n",
       "      <td>c-programming</td>\n",
       "      <td>Ravindra Rana</td>\n",
       "      <td>https://medium.com/@ravindra.sombati</td>\n",
       "      <td>0.0</td>\n",
       "      <td>False</td>\n",
       "    </tr>\n",
       "    <tr>\n",
       "      <th>1</th>\n",
       "      <td>1</td>\n",
       "      <td>2</td>\n",
       "      <td>2.0</td>\n",
       "      <td>NaN</td>\n",
       "      <td>NaN</td>\n",
       "      <td>f5adff36e2cc</td>\n",
       "      <td>2020-02-04T17:43:02.655Z</td>\n",
       "      <td>4 min read</td>\n",
       "      <td>0</td>\n",
       "      <td>0</td>\n",
       "      <td>NaN</td>\n",
       "      <td>10</td>\n",
       "      <td>How to customize font size in R Markdown documents</td>\n",
       "      <td>https://medium.com/@HadrienD/how-to-customize-font-size-in-r-markdown-documents-f5adff36e2cc?source=tag_archive---------0-----------------------</td>\n",
       "      <td>https://medium.com/@HadrienD/how-to-customize-font-size-in-r-markdown-documents-f5adff36e2cc?source=tag_archive---------0-----------------------</td>\n",
       "      <td>r-markdown</td>\n",
       "      <td>r</td>\n",
       "      <td>css</td>\n",
       "      <td>NaN</td>\n",
       "      <td>NaN</td>\n",
       "      <td>r-markdown</td>\n",
       "      <td>Hadrien Dykiel</td>\n",
       "      <td>https://medium.com/@HadrienD</td>\n",
       "      <td>2.0</td>\n",
       "      <td>False</td>\n",
       "    </tr>\n",
       "    <tr>\n",
       "      <th>2</th>\n",
       "      <td>2</td>\n",
       "      <td>1</td>\n",
       "      <td>1.0</td>\n",
       "      <td>NaN</td>\n",
       "      <td>NaN</td>\n",
       "      <td>5995274eeb54</td>\n",
       "      <td>2020-05-17T07:06:01.244Z</td>\n",
       "      <td>4 min read</td>\n",
       "      <td>0</td>\n",
       "      <td>0</td>\n",
       "      <td>NaN</td>\n",
       "      <td>89</td>\n",
       "      <td>React TipsâââData Flow and Pure Components</td>\n",
       "      <td>https://medium.com/@hohanga/react-tips-data-flow-and-pure-components-5995274eeb54?source=tag_archive---------18-----------------------</td>\n",
       "      <td>https://medium.com/@hohanga/react-tips-data-flow-and-pure-components-5995274eeb54?source=tag_archive---------18-----------------------</td>\n",
       "      <td>javascript</td>\n",
       "      <td>react</td>\n",
       "      <td>web-development</td>\n",
       "      <td>programming</td>\n",
       "      <td>technology</td>\n",
       "      <td>programming</td>\n",
       "      <td>John Au-Yeung</td>\n",
       "      <td>https://medium.com/@hohanga</td>\n",
       "      <td>1.0</td>\n",
       "      <td>True</td>\n",
       "    </tr>\n",
       "    <tr>\n",
       "      <th>3</th>\n",
       "      <td>3</td>\n",
       "      <td>0</td>\n",
       "      <td>0.0</td>\n",
       "      <td>NaN</td>\n",
       "      <td>NaN</td>\n",
       "      <td>248c432de9c3</td>\n",
       "      <td>2020-05-17T11:57:56.489Z</td>\n",
       "      <td>2 min read</td>\n",
       "      <td>0</td>\n",
       "      <td>0</td>\n",
       "      <td>NaN</td>\n",
       "      <td>88</td>\n",
       "      <td>How to Stress Test Algorithm written in Python</td>\n",
       "      <td>https://medium.com/@kapilutkarsh1/how-to-stress-test-algorithm-written-in-python-248c432de9c3?source=tag_archive---------67-----------------------</td>\n",
       "      <td>https://medium.com/@kapilutkarsh1/how-to-stress-test-algorithm-written-in-python-248c432de9c3?source=tag_archive---------67-----------------------</td>\n",
       "      <td>algorithms</td>\n",
       "      <td>python</td>\n",
       "      <td>programming</td>\n",
       "      <td>NaN</td>\n",
       "      <td>NaN</td>\n",
       "      <td>programming</td>\n",
       "      <td>utkarsh kapil</td>\n",
       "      <td>https://medium.com/@kapilutkarsh1</td>\n",
       "      <td>0.0</td>\n",
       "      <td>True</td>\n",
       "    </tr>\n",
       "    <tr>\n",
       "      <th>4</th>\n",
       "      <td>4</td>\n",
       "      <td>198</td>\n",
       "      <td>198.0</td>\n",
       "      <td>The Writing Cooperative</td>\n",
       "      <td>https://writingcooperative.com?source=tag_archive---------40-----------------------</td>\n",
       "      <td>35c2918e89ba</td>\n",
       "      <td>2018-12-31T16:49:37.000Z</td>\n",
       "      <td>5 min read</td>\n",
       "      <td>1 response</td>\n",
       "      <td>1</td>\n",
       "      <td>NaN</td>\n",
       "      <td>167</td>\n",
       "      <td>The Undeniable Benefits of Creative Writing for Software Developers</td>\n",
       "      <td>https://writingcooperative.com/the-undeniable-benefits-of-creative-writing-for-software-developers-35c2918e89ba?source=tag_archive---------40-----------------------#--responses</td>\n",
       "      <td>https://writingcooperative.com/the-undeniable-benefits-of-creative-writing-for-software-developers-35c2918e89ba?source=tag_archive---------40-----------------------&amp;gi=2f0a4d3c96bc</td>\n",
       "      <td>programming</td>\n",
       "      <td>writing</td>\n",
       "      <td>creativity</td>\n",
       "      <td>inspiration</td>\n",
       "      <td>productivity</td>\n",
       "      <td>programming</td>\n",
       "      <td>Piotr Gaczkowski</td>\n",
       "      <td>https://writingcooperative.com/@doomhammerng</td>\n",
       "      <td>25.0</td>\n",
       "      <td>True</td>\n",
       "    </tr>\n",
       "  </tbody>\n",
       "</table>"
      ],
      "text/plain": [
       "<IPython.core.display.HTML object>"
      ]
     },
     "metadata": {},
     "output_type": "display_data"
    }
   ],
   "source": [
    "\n",
    "cols_withHTML = ['n', 'ClapCount_Card', 'ClapCount_Story', 'Company', 'CompanyURL', 'PostID',\n",
    "       'PublishedDate', 'ReadingTime', 'ResponseNum_Card', 'ResponseNum_Story', 'StoryHTML',\n",
    "       'StoryIndex', 'StoryTitle', 'StoryURL', 'StoryURL_Story',\n",
    "       'Tag1', 'Tag2', 'Tag3', 'Tag4', 'Tag5', 'TagSource', 'User', 'UserURL',\n",
    "       'VoterCount', 'isPaywall']\n",
    "df_noHTML.columns = cols_withHTML\n",
    "print(df_noHTML.columns)\n",
    "display(HTML(df_noHTML.head().to_html()))\n",
    "del df_noHTML['n']\n",
    "del df_noHTML['StoryHTML']\n",
    "df_noHTML.to_csv(\"data/df_story_noHTML_updateCols_Jul27\")"
   ]
  },
  {
   "cell_type": "code",
   "execution_count": 17,
   "metadata": {},
   "outputs": [
    {
     "name": "stderr",
     "output_type": "stream",
     "text": [
      "C:\\Users\\Justin\\Anaconda3\\lib\\site-packages\\IPython\\core\\interactiveshell.py:3058: DtypeWarning: Columns (8) have mixed types. Specify dtype option on import or set low_memory=False.\n",
      "  interactivity=interactivity, compiler=compiler, result=result)\n"
     ]
    }
   ],
   "source": [
    "df_noHTML = pd.read_csv(\"df_story_noHTML_updateCols_Jul27.csv\")"
   ]
  },
  {
   "cell_type": "code",
   "execution_count": 12,
   "metadata": {},
   "outputs": [],
   "source": [
    "df_noHTML.to_csv(\"data/df_story_noHTML_updateCols_Jul27.csv\", index=False)"
   ]
  },
  {
   "cell_type": "code",
   "execution_count": 20,
   "metadata": {},
   "outputs": [
    {
     "data": {
      "text/plain": [
       "6869142"
      ]
     },
     "execution_count": 20,
     "metadata": {},
     "output_type": "execute_result"
    }
   ],
   "source": [
    "len(df_noHTML)"
   ]
  }
 ],
 "metadata": {
  "kernelspec": {
   "display_name": "Python 3",
   "language": "python",
   "name": "python3"
  },
  "language_info": {
   "codemirror_mode": {
    "name": "ipython",
    "version": 3
   },
   "file_extension": ".py",
   "mimetype": "text/x-python",
   "name": "python",
   "nbconvert_exporter": "python",
   "pygments_lexer": "ipython3",
   "version": "3.7.4"
  }
 },
 "nbformat": 4,
 "nbformat_minor": 4
}
