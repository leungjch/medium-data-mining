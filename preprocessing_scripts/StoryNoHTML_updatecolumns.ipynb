{
 "cells": [
  {
   "cell_type": "code",
   "execution_count": 24,
   "metadata": {},
   "outputs": [],
   "source": [
    "data = pd.read_csv(\"../data/df_story_noHTML.csv\")"
   ]
  },
  {
   "cell_type": "code",
   "execution_count": 26,
   "metadata": {},
   "outputs": [
    {
     "data": {
      "text/html": [
       "<table border=\"1\" class=\"dataframe\">\n",
       "  <thead>\n",
       "    <tr style=\"text-align: right;\">\n",
       "      <th></th>\n",
       "      <th>ClapCount_Card</th>\n",
       "      <th>ClapCount_Story</th>\n",
       "      <th>Company</th>\n",
       "      <th>CompanyURL</th>\n",
       "      <th>PostID</th>\n",
       "      <th>PublishedDate</th>\n",
       "      <th>ReadingTime</th>\n",
       "      <th>ResponseNum_Card</th>\n",
       "      <th>ResponseNum_Story</th>\n",
       "      <th>StoryIndex</th>\n",
       "      <th>StoryTitle</th>\n",
       "      <th>StoryURL</th>\n",
       "      <th>StoryURL_Story</th>\n",
       "      <th>Tag1</th>\n",
       "      <th>Tag2</th>\n",
       "      <th>Tag3</th>\n",
       "      <th>Tag4</th>\n",
       "      <th>Tag5</th>\n",
       "      <th>TagSource</th>\n",
       "      <th>User</th>\n",
       "      <th>UserURL</th>\n",
       "      <th>VoterCount</th>\n",
       "      <th>isPaywall</th>\n",
       "    </tr>\n",
       "  </thead>\n",
       "  <tbody>\n",
       "    <tr>\n",
       "      <th>0</th>\n",
       "      <td>0</td>\n",
       "      <td>0.0</td>\n",
       "      <td>NaN</td>\n",
       "      <td>NaN</td>\n",
       "      <td>c56a9be83999</td>\n",
       "      <td>2020-05-17T04:21:17.065Z</td>\n",
       "      <td>2 min read</td>\n",
       "      <td>0</td>\n",
       "      <td>0</td>\n",
       "      <td>2</td>\n",
       "      <td>Make Your Own Voice Control Appliances using the HC-05 Bluetooth Module.</td>\n",
       "      <td>https://medium.com/@ravindra.sombati/make-your-own-voice-control-appliances-using-the-hc-05-bluetooth-module-c56a9be83999?source=tag_archive---------0-----------------------</td>\n",
       "      <td>https://medium.com/@ravindra.sombati/make-your-own-voice-control-appliances-using-the-hc-05-bluetooth-module-c56a9be83999?source=tag_archive---------0-----------------------</td>\n",
       "      <td>arduino</td>\n",
       "      <td>linux</td>\n",
       "      <td>embedded-systems</td>\n",
       "      <td>c-programming</td>\n",
       "      <td>NaN</td>\n",
       "      <td>c-programming</td>\n",
       "      <td>Ravindra Rana</td>\n",
       "      <td>https://medium.com/@ravindra.sombati</td>\n",
       "      <td>0.0</td>\n",
       "      <td>False</td>\n",
       "    </tr>\n",
       "  </tbody>\n",
       "</table>"
      ],
      "text/plain": [
       "<IPython.core.display.HTML object>"
      ]
     },
     "metadata": {},
     "output_type": "display_data"
    }
   ],
   "source": [
    "cols = ['n', 'ClapCount_Card', 'ClapCount_Story', 'Company', 'CompanyURL', 'PostID',\n",
    "       'PublishedDate', 'ReadingTime', 'ResponseNum_Card', 'ResponseNum_Story', 'StoryHTML',\n",
    "       'StoryIndex', 'StoryTitle', 'StoryURL', 'StoryURL_Story',\n",
    "       'Tag1', 'Tag2', 'Tag3', 'Tag4', 'Tag5', 'TagSource', 'User', 'UserURL',\n",
    "       'VoterCount', 'isPaywall']\n",
    "data.columns = cols\n",
    "del data['n']\n",
    "del data['StoryHTML']\n",
    "display(HTML(data.head(1).to_html()))\n",
    "data.to_csv(\"df_story_noHTML_fixCols.csv\", index=False, header=True)"
   ]
  }
 ],
 "metadata": {
  "kernelspec": {
   "display_name": "Python 3",
   "language": "python",
   "name": "python3"
  },
  "language_info": {
   "codemirror_mode": {
    "name": "ipython",
    "version": 3
   },
   "file_extension": ".py",
   "mimetype": "text/x-python",
   "name": "python",
   "nbconvert_exporter": "python",
   "pygments_lexer": "ipython3",
   "version": "3.7.4"
  }
 },
 "nbformat": 4,
 "nbformat_minor": 4
}
