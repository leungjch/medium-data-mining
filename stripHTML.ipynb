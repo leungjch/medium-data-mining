{
 "cells": [
  {
   "cell_type": "code",
   "execution_count": 2,
   "metadata": {},
   "outputs": [],
   "source": [
    "import numpy as np\n",
    "import pandas as pd\n"
   ]
  },
  {
   "cell_type": "markdown",
   "metadata": {},
   "source": [
    "# Stripping HTML content"
   ]
  },
  {
   "cell_type": "code",
   "execution_count": 11,
   "metadata": {},
   "outputs": [
    {
     "name": "stdout",
     "output_type": "stream",
     "text": [
      "4466923\n"
     ]
    }
   ],
   "source": [
    "count = 0\n",
    "header = True\n",
    "for data in pd.read_csv('df_story_chunk1.csv',encoding = 'ISO-8859-1',chunksize  = 100000, low_memory=False):\n",
    "    count += 1                          # counting the number of chunks\n",
    "    lastlen = len(data)                 # finding the length of last chunk\n",
    "    data['StoryHTML'] = ''\n",
    "    data.to_csv(\"df_story_chunk1_noHTML.csv\", header=False, mode=\"a\")\n",
    "    header = False\n",
    "datalength = (count*100000 + lastlen - 100000) # length of total file\n",
    "print(datalength)"
   ]
  },
  {
   "cell_type": "code",
   "execution_count": 34,
   "metadata": {},
   "outputs": [],
   "source": [
    "cols_withHTML = ['ClapCount_Card', 'ClapCount_Story', 'Company', 'CompanyURL', 'PostID',\n",
    "       'PublishedDate', 'ReadingTime', 'ResponseNum_Card', 'ResponseNum_Story',\n",
    "       'StoryHTML', 'StoryIndex', 'StoryTitle', 'StoryURL', 'StoryURL_Story',\n",
    "       'Tag1', 'Tag2', 'Tag3', 'Tag4', 'Tag5', 'TagSource', 'User', 'UserURL',\n",
    "       'VoterCount', 'isPaywall']\n",
    "\n",
    "cols = ['ClapCount_Card', 'ClapCount_Story', 'Company', 'CompanyURL', 'PostID',\n",
    "       'PublishedDate', 'ReadingTime', 'ResponseNum_Card', 'ResponseNum_Story',\n",
    "       'StoryIndex', 'StoryTitle', 'StoryURL', 'StoryURL_Story',\n",
    "       'Tag1', 'Tag2', 'Tag3', 'Tag4', 'Tag5', 'TagSource', 'User', 'UserURL',\n",
    "       'VoterCount', 'isPaywall']\n",
    "\n",
    "data1 = pd.read_csv(\"df_story_chunk1_noHTML.csv\", names=cols)\n",
    "data2 = pd.read_csv(\"df_story_chunk2_noHTML.csv\", names=cols)\n",
    "data3 = pd.read_csv(\"df_story_chunk3_noHTML.csv\", names=cols)"
   ]
  },
  {
   "cell_type": "code",
   "execution_count": 17,
   "metadata": {
    "collapsed": true,
    "jupyter": {
     "outputs_hidden": true
    }
   },
   "outputs": [
    {
     "data": {
      "text/html": [
       "<table border=\"1\" class=\"dataframe\">\n",
       "  <thead>\n",
       "    <tr style=\"text-align: right;\">\n",
       "      <th></th>\n",
       "      <th></th>\n",
       "      <th>ClapCount_Card</th>\n",
       "      <th>ClapCount_Story</th>\n",
       "      <th>Company</th>\n",
       "      <th>CompanyURL</th>\n",
       "      <th>PostID</th>\n",
       "      <th>PublishedDate</th>\n",
       "      <th>ReadingTime</th>\n",
       "      <th>ResponseNum_Card</th>\n",
       "      <th>ResponseNum_Story</th>\n",
       "      <th>StoryIndex</th>\n",
       "      <th>StoryTitle</th>\n",
       "      <th>StoryURL</th>\n",
       "      <th>StoryURL_Story</th>\n",
       "      <th>Tag1</th>\n",
       "      <th>Tag2</th>\n",
       "      <th>Tag3</th>\n",
       "      <th>Tag4</th>\n",
       "      <th>Tag5</th>\n",
       "      <th>TagSource</th>\n",
       "      <th>User</th>\n",
       "      <th>UserURL</th>\n",
       "      <th>VoterCount</th>\n",
       "      <th>isPaywall</th>\n",
       "    </tr>\n",
       "  </thead>\n",
       "  <tbody>\n",
       "    <tr>\n",
       "      <th>0</th>\n",
       "      <th>0</th>\n",
       "      <td>0.0</td>\n",
       "      <td>NaN</td>\n",
       "      <td>NaN</td>\n",
       "      <td>bb072607f265</td>\n",
       "      <td>2018-10-15T00:00:00.000Z</td>\n",
       "      <td>2 min read</td>\n",
       "      <td>1 response</td>\n",
       "      <td>1.0</td>\n",
       "      <td>NaN</td>\n",
       "      <td>3860955</td>\n",
       "      <td>After Leakage Of Millions Of User S Important Data Google Plus Has BeenÂ Closed</td>\n",
       "      <td>https://medium.com/@mshafiqrehman656/after-leakage-of-millions-of-user-s-important-data-google-plus-has-been-closed-bb072607f265?source=tag_archive---------104-----------------------#--responses</td>\n",
       "      <td>https://medium.com/@mshafiqrehman656/after-leakage-of-millions-of-user-s-important-data-google-plus-has-been-closed-bb072607f265?source=tag_archive---------104-----------------------</td>\n",
       "      <td>closed-google</td>\n",
       "      <td>google</td>\n",
       "      <td>social-media</td>\n",
       "      <td>google-plus</td>\n",
       "      <td>NaN</td>\n",
       "      <td>social-media</td>\n",
       "      <td>M shafiq</td>\n",
       "      <td>https://medium.com/@mshafiqrehman656</td>\n",
       "      <td>0.0</td>\n",
       "      <td>False</td>\n",
       "    </tr>\n",
       "    <tr>\n",
       "      <th>1</th>\n",
       "      <th>0</th>\n",
       "      <td>0.0</td>\n",
       "      <td>NaN</td>\n",
       "      <td>NaN</td>\n",
       "      <td>10385089e7d0</td>\n",
       "      <td>2018-10-15T13:16:55.000Z</td>\n",
       "      <td>3 min read</td>\n",
       "      <td>0</td>\n",
       "      <td>0.0</td>\n",
       "      <td>NaN</td>\n",
       "      <td>3860957</td>\n",
       "      <td>WeMe Is For Me andÂ You</td>\n",
       "      <td>https://medium.com/@mrbusinessgolf/weme-is-for-me-and-you-10385089e7d0?source=tag_archive---------105-----------------------</td>\n",
       "      <td>https://medium.com/@mrbusinessgolf/weme-is-for-me-and-you-10385089e7d0?source=tag_archive---------105-----------------------</td>\n",
       "      <td>business-coaching</td>\n",
       "      <td>mewe</td>\n",
       "      <td>social-media</td>\n",
       "      <td>social-networking</td>\n",
       "      <td>NaN</td>\n",
       "      <td>social-media</td>\n",
       "      <td>Scot Duke</td>\n",
       "      <td>https://medium.com/@mrbusinessgolf</td>\n",
       "      <td>0.0</td>\n",
       "      <td>False</td>\n",
       "    </tr>\n",
       "    <tr>\n",
       "      <th>2</th>\n",
       "      <th>0</th>\n",
       "      <td>0.0</td>\n",
       "      <td>NaN</td>\n",
       "      <td>NaN</td>\n",
       "      <td>6bb0835a1803</td>\n",
       "      <td>2018-10-15T12:34:20.957Z</td>\n",
       "      <td>2 min read</td>\n",
       "      <td>0</td>\n",
       "      <td>0.0</td>\n",
       "      <td>NaN</td>\n",
       "      <td>3860958</td>\n",
       "      <td>RÃ©seaux sociauxÂ : mes 5 infos culture web du lundiÂ !</td>\n",
       "      <td>https://medium.com/@dimitriarcanger/r%C3%A9seaux-sociaux-mes-5-infos-culture-web-du-lundi-6bb0835a1803?source=tag_archive---------73-----------------------</td>\n",
       "      <td>https://medium.com/@dimitriarcanger/r%C3%A9seaux-sociaux-mes-5-infos-culture-web-du-lundi-6bb0835a1803?source=tag_archive---------73-----------------------</td>\n",
       "      <td>social-media</td>\n",
       "      <td>community-management</td>\n",
       "      <td>rÃ©seaux-sociaux</td>\n",
       "      <td>social-network</td>\n",
       "      <td>NaN</td>\n",
       "      <td>social-media</td>\n",
       "      <td>Dimitri Arcanger</td>\n",
       "      <td>https://medium.com/@dimitriarcanger</td>\n",
       "      <td>0.0</td>\n",
       "      <td>False</td>\n",
       "    </tr>\n",
       "    <tr>\n",
       "      <th>3</th>\n",
       "      <th>0</th>\n",
       "      <td>0.0</td>\n",
       "      <td>NaN</td>\n",
       "      <td>NaN</td>\n",
       "      <td>32b641971e25</td>\n",
       "      <td>2018-10-15T09:31:05.944Z</td>\n",
       "      <td>4 min read</td>\n",
       "      <td>0</td>\n",
       "      <td>0.0</td>\n",
       "      <td>NaN</td>\n",
       "      <td>3860967</td>\n",
       "      <td>Top 7 Social Media WritingÂ Tips</td>\n",
       "      <td>https://medium.com/@marieharwood/top-7-social-media-writing-tips-32b641971e25?source=tag_archive---------110-----------------------</td>\n",
       "      <td>https://medium.com/@marieharwood/top-7-social-media-writing-tips-32b641971e25?source=tag_archive---------110-----------------------</td>\n",
       "      <td>social-media</td>\n",
       "      <td>social-media-marketing</td>\n",
       "      <td>facebook</td>\n",
       "      <td>twitter</td>\n",
       "      <td>instagram</td>\n",
       "      <td>social-media</td>\n",
       "      <td>Different Gravy Digital</td>\n",
       "      <td>https://medium.com/@marieharwood</td>\n",
       "      <td>0.0</td>\n",
       "      <td>False</td>\n",
       "    </tr>\n",
       "    <tr>\n",
       "      <th>4</th>\n",
       "      <th>0</th>\n",
       "      <td>0.0</td>\n",
       "      <td>NaN</td>\n",
       "      <td>NaN</td>\n",
       "      <td>29105c8f4f41</td>\n",
       "      <td>2018-10-15T19:58:39.970Z</td>\n",
       "      <td>3 min read</td>\n",
       "      <td>0</td>\n",
       "      <td>0.0</td>\n",
       "      <td>NaN</td>\n",
       "      <td>3860956</td>\n",
       "      <td>How to Build Facebook Page Followersâ¦ andÂ QUICK!</td>\n",
       "      <td>https://medium.com/@jashleypanter/how-to-build-facebook-page-followers-and-quick-29105c8f4f41?source=tag_archive---------72-----------------------</td>\n",
       "      <td>https://medium.com/@jashleypanter/how-to-build-facebook-page-followers-and-quick-29105c8f4f41?source=tag_archive---------72-----------------------</td>\n",
       "      <td>social-media</td>\n",
       "      <td>facebook</td>\n",
       "      <td>digital-marketing</td>\n",
       "      <td>marketing</td>\n",
       "      <td>growth-hacking</td>\n",
       "      <td>social-media</td>\n",
       "      <td>J. Ashley Panter</td>\n",
       "      <td>https://medium.com/@jashleypanter</td>\n",
       "      <td>0.0</td>\n",
       "      <td>True</td>\n",
       "    </tr>\n",
       "  </tbody>\n",
       "</table>"
      ],
      "text/plain": [
       "<IPython.core.display.HTML object>"
      ]
     },
     "metadata": {},
     "output_type": "display_data"
    }
   ],
   "source": [
    "from IPython.display import display, HTML\n",
    "\n",
    "data.head()\n",
    "display(HTML(data.head().to_html()))"
   ]
  },
  {
   "cell_type": "code",
   "execution_count": 35,
   "metadata": {},
   "outputs": [],
   "source": [
    "tagsCrawled = np.concatenate([data1['TagSource'].unique(),data2['TagSource'].unique(),data3['TagSource'].unique()])\n",
    "\n",
    "tagsCrawled = list(tagsCrawled)"
   ]
  },
  {
   "cell_type": "code",
   "execution_count": 36,
   "metadata": {},
   "outputs": [],
   "source": [
    "tagsScrape = list(pd.read_csv(\"cleantags_final_m10.csv\", names = ['tag'])[0:13000].tag)"
   ]
  },
  {
   "cell_type": "code",
   "execution_count": 37,
   "metadata": {},
   "outputs": [],
   "source": [
    "diff = list(set(tagsScrape) - set(tagsCrawled))"
   ]
  },
  {
   "cell_type": "code",
   "execution_count": 38,
   "metadata": {},
   "outputs": [],
   "source": [
    "diffIndex = {}\n",
    "for item in diff:\n",
    "    diffIndex[item] = tagsScrape.index(item)"
   ]
  },
  {
   "cell_type": "code",
   "execution_count": 51,
   "metadata": {},
   "outputs": [
    {
     "name": "stdout",
     "output_type": "stream",
     "text": [
      "1984\n"
     ]
    },
    {
     "data": {
      "text/html": [
       "<div>\n",
       "<style scoped>\n",
       "    .dataframe tbody tr th:only-of-type {\n",
       "        vertical-align: middle;\n",
       "    }\n",
       "\n",
       "    .dataframe tbody tr th {\n",
       "        vertical-align: top;\n",
       "    }\n",
       "\n",
       "    .dataframe thead th {\n",
       "        text-align: right;\n",
       "    }\n",
       "</style>\n",
       "<table border=\"1\" class=\"dataframe\">\n",
       "  <thead>\n",
       "    <tr style=\"text-align: right;\">\n",
       "      <th></th>\n",
       "      <th>tag</th>\n",
       "    </tr>\n",
       "  </thead>\n",
       "  <tbody>\n",
       "    <tr>\n",
       "      <td>0</td>\n",
       "      <td>avoid-lawsuit</td>\n",
       "    </tr>\n",
       "    <tr>\n",
       "      <td>1</td>\n",
       "      <td>sql-exercise</td>\n",
       "    </tr>\n",
       "    <tr>\n",
       "      <td>2</td>\n",
       "      <td>codingtag</td>\n",
       "    </tr>\n",
       "    <tr>\n",
       "      <td>3</td>\n",
       "      <td>live-support-software</td>\n",
       "    </tr>\n",
       "    <tr>\n",
       "      <td>4</td>\n",
       "      <td>firebase-tutorial</td>\n",
       "    </tr>\n",
       "    <tr>\n",
       "      <td>...</td>\n",
       "      <td>...</td>\n",
       "    </tr>\n",
       "    <tr>\n",
       "      <td>1979</td>\n",
       "      <td>software-perumahan</td>\n",
       "    </tr>\n",
       "    <tr>\n",
       "      <td>1980</td>\n",
       "      <td>best-buy-projector</td>\n",
       "    </tr>\n",
       "    <tr>\n",
       "      <td>1981</td>\n",
       "      <td>speaking-developish</td>\n",
       "    </tr>\n",
       "    <tr>\n",
       "      <td>1982</td>\n",
       "      <td>software-failure</td>\n",
       "    </tr>\n",
       "    <tr>\n",
       "      <td>1983</td>\n",
       "      <td>shopify-template</td>\n",
       "    </tr>\n",
       "  </tbody>\n",
       "</table>\n",
       "<p>1984 rows × 1 columns</p>\n",
       "</div>"
      ],
      "text/plain": [
       "                        tag\n",
       "0             avoid-lawsuit\n",
       "1              sql-exercise\n",
       "2                 codingtag\n",
       "3     live-support-software\n",
       "4         firebase-tutorial\n",
       "...                     ...\n",
       "1979     software-perumahan\n",
       "1980     best-buy-projector\n",
       "1981    speaking-developish\n",
       "1982       software-failure\n",
       "1983       shopify-template\n",
       "\n",
       "[1984 rows x 1 columns]"
      ]
     },
     "execution_count": 51,
     "metadata": {},
     "output_type": "execute_result"
    }
   ],
   "source": [
    "print(len(diffIndex))\n",
    "df_diff = pd.DataFrame(list(diffIndex))\n",
    "df_diff.columns = ['tag']\n",
    "df_diff"
   ]
  },
  {
   "cell_type": "code",
   "execution_count": 24,
   "metadata": {},
   "outputs": [],
   "source": [
    "cols_withHTML = ['ClapCount_Card', 'ClapCount_Story', 'Company', 'CompanyURL', 'PostID',\n",
    "       'PublishedDate', 'ReadingTime', 'ResponseNum_Card', 'ResponseNum_Story',\n",
    "       'StoryHTML', 'StoryIndex', 'StoryTitle', 'StoryURL', 'StoryURL_Story',\n",
    "       'Tag1', 'Tag2', 'Tag3', 'Tag4', 'Tag5', 'TagSource', 'User', 'UserURL',\n",
    "       'VoterCount', 'isPaywall']\n",
    "\n",
    "archive = pd.read_csv(\"df_archive_v2_m27.csv\", names=cols_withHTML)"
   ]
  },
  {
   "cell_type": "code",
   "execution_count": 26,
   "metadata": {},
   "outputs": [
    {
     "name": "stderr",
     "output_type": "stream",
     "text": [
      "C:\\Users\\Justin\\Anaconda3\\lib\\site-packages\\ipykernel_launcher.py:1: FutureWarning: The signature of `Series.to_csv` was aligned to that of `DataFrame.to_csv`, and argument 'header' will change its default value from False to True: please pass an explicit value to suppress this warning.\n",
      "  \"\"\"Entry point for launching an IPython kernel.\n"
     ]
    }
   ],
   "source": [
    "archive.groupby(['TagSource']).size().to_csv(\"archive_tagsource.csv\")"
   ]
  },
  {
   "cell_type": "code",
   "execution_count": 33,
   "metadata": {},
   "outputs": [
    {
     "data": {
      "text/html": [
       "<div>\n",
       "<style scoped>\n",
       "    .dataframe tbody tr th:only-of-type {\n",
       "        vertical-align: middle;\n",
       "    }\n",
       "\n",
       "    .dataframe tbody tr th {\n",
       "        vertical-align: top;\n",
       "    }\n",
       "\n",
       "    .dataframe thead th {\n",
       "        text-align: right;\n",
       "    }\n",
       "</style>\n",
       "<table border=\"1\" class=\"dataframe\">\n",
       "  <thead>\n",
       "    <tr style=\"text-align: right;\">\n",
       "      <th></th>\n",
       "      <th>tag</th>\n",
       "      <th>n</th>\n",
       "    </tr>\n",
       "  </thead>\n",
       "  <tbody>\n",
       "    <tr>\n",
       "      <td>0</td>\n",
       "      <td>0800-098-8354</td>\n",
       "      <td>7</td>\n",
       "    </tr>\n",
       "    <tr>\n",
       "      <td>1</td>\n",
       "      <td>0chain</td>\n",
       "      <td>10</td>\n",
       "    </tr>\n",
       "    <tr>\n",
       "      <td>2</td>\n",
       "      <td>1-million</td>\n",
       "      <td>10</td>\n",
       "    </tr>\n",
       "    <tr>\n",
       "      <td>3</td>\n",
       "      <td>1-million-cups</td>\n",
       "      <td>10</td>\n",
       "    </tr>\n",
       "    <tr>\n",
       "      <td>4</td>\n",
       "      <td>1-on-1</td>\n",
       "      <td>10</td>\n",
       "    </tr>\n",
       "  </tbody>\n",
       "</table>\n",
       "</div>"
      ],
      "text/plain": [
       "              tag   n\n",
       "0   0800-098-8354   7\n",
       "1          0chain  10\n",
       "2       1-million  10\n",
       "3  1-million-cups  10\n",
       "4          1-on-1  10"
      ]
     },
     "execution_count": 33,
     "metadata": {},
     "output_type": "execute_result"
    }
   ],
   "source": [
    "# number of rows per tag\n",
    "archive_tags = pd.read_csv(\"archive_tagsource.csv\", names=['tag', 'n'])\n",
    "archive_tags.head()"
   ]
  },
  {
   "cell_type": "code",
   "execution_count": 60,
   "metadata": {},
   "outputs": [
    {
     "name": "stderr",
     "output_type": "stream",
     "text": [
      "C:\\Users\\Justin\\Anaconda3\\lib\\site-packages\\ipykernel_launcher.py:3: FutureWarning: The signature of `Series.to_csv` was aligned to that of `DataFrame.to_csv`, and argument 'header' will change its default value from False to True: please pass an explicit value to suppress this warning.\n",
      "  This is separate from the ipykernel package so we can avoid doing imports until\n"
     ]
    },
    {
     "data": {
      "text/plain": [
       "9303"
      ]
     },
     "execution_count": 60,
     "metadata": {},
     "output_type": "execute_result"
    }
   ],
   "source": [
    "# Inner join archive and diffIndex\n",
    "merged_inner = pd.merge(left=df_diff, right=archive_tags, left_on='tag', right_on='tag')\n",
    "merged_inner['tag'].to_csv(\"tags_to_complete_jul26.csv\", index=False)\n",
    "merged_inner.head()\n",
    "sum(merged_inner['n'])"
   ]
  }
 ],
 "metadata": {
  "kernelspec": {
   "display_name": "Python 3",
   "language": "python",
   "name": "python3"
  },
  "language_info": {
   "codemirror_mode": {
    "name": "ipython",
    "version": 3
   },
   "file_extension": ".py",
   "mimetype": "text/x-python",
   "name": "python",
   "nbconvert_exporter": "python",
   "pygments_lexer": "ipython3",
   "version": "3.7.4"
  }
 },
 "nbformat": 4,
 "nbformat_minor": 4
}
