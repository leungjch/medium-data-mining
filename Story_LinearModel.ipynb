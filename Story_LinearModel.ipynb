{
 "cells": [
  {
   "cell_type": "code",
   "execution_count": 28,
   "metadata": {},
   "outputs": [],
   "source": [
    "import numpy as np\n",
    "import pandas as pd\n",
    "from sklearn.linear_model import LinearRegression\n",
    "import statsmodels.api as sm\n",
    "from IPython.core.display import display, HTML\n",
    "\n",
    "from IPython.core.interactiveshell import InteractiveShell\n",
    "import matplotlib.pyplot as plt\n",
    "InteractiveShell.ast_node_interactivity = \"all\"\n",
    "pd.set_option('display.max_columns', None)\n",
    "pd.set_option('display.max_rows', None)\n",
    "from collections import Counter\n"
   ]
  },
  {
   "cell_type": "code",
   "execution_count": 72,
   "metadata": {},
   "outputs": [],
   "source": [
    "df = pd.read_csv(\"data/df_story_features_large_Jul29.csv\")"
   ]
  },
  {
   "cell_type": "code",
   "execution_count": 494,
   "metadata": {},
   "outputs": [],
   "source": [
    "# Print columns\n",
    "# df.columns.tolist()\n",
    "\n",
    "# display(HTML(df.head(1).to_html()))"
   ]
  },
  {
   "cell_type": "markdown",
   "metadata": {},
   "source": [
    "# Generate binary dependent variable (for logit)"
   ]
  },
  {
   "cell_type": "code",
   "execution_count": 4,
   "metadata": {},
   "outputs": [],
   "source": [
    "df['isPopular'] = (df['ClapCount_Story'] < df['ClapCount_Story'].median()).astype(int)"
   ]
  },
  {
   "cell_type": "markdown",
   "metadata": {},
   "source": [
    "# Split train / test (80/20)"
   ]
  },
  {
   "cell_type": "code",
   "execution_count": 110,
   "metadata": {},
   "outputs": [],
   "source": [
    "mask = np.random.rand(len(df)) < 1\n",
    "train = df[mask]\n",
    "test = df[~mask]"
   ]
  },
  {
   "cell_type": "code",
   "execution_count": 43,
   "metadata": {
    "jupyter": {
     "source_hidden": true
    }
   },
   "outputs": [],
   "source": [
    "xFeatures = ['isPaywall', 'isPublication', 'WordNum', 'SentimentPolarity', 'SentimentSubjectivity',  \"TextSyllableNum\",\n",
    "          \"TextLexiconNum\", \"TextSentenceNum\", \"ReadabilityFleschEase\", \"ReadabilitySMOG\", \"ReadabilityFleschKincaid\", \"ReadabilityColemanLiau\", \"ReadabilityARI\", \"ReadabilityDaleChall\", \"ReadabilityDifficultWordsNum\", \"ReadabilityLinsearWriteFormula\", \"ReadabilityGunningFog\", \"ReadabilityReadingTime\", \"ReadabilityConsensus\", \n",
    "        'ReadingTime', 'HasFeaturedImage', 'CodeInlineNum', 'TagNum',\n",
    "        'CodeBlockNum', 'CodeBlockLengthSum', 'CodeBlockLengthMedian', 'CodeBlockLengthMean',\n",
    "        'CodeBlockLengthStd', 'CodeBlockLengthMin', 'CodeBlockLengthMax',\n",
    "        'ListOlNum', 'ListOlSum', 'ListOlMedian', 'ListOlMean', 'ListOlStd', 'ListOlMin', 'ListOlMax', \n",
    "        'ListUlNum', 'ListUlSum', 'ListUlMedian', 'ListUlMean', 'ListUlStd', 'ListUlMin', 'ListUlMax', \n",
    "        'ImgNum', 'LinkNum',\n",
    "        'HlightNum', 'ParagraphNum', 'ItalicNum', 'BoldNum', \n",
    "        'AuthorArticlesClap_mean','AuthorArticlesClap_median','AuthorArticlesClap_count','AuthorArticlesClap_sum',\n",
    "        'AuthorArticlesResponse_mean','AuthorArticlesResponse_median','AuthorArticlesResponse_sum',\n",
    "        'AuthorArticlesVoter_mean','AuthorArticlesVoter_median','AuthorArticlesVoter_sum',\n",
    "        \n",
    "        'TagUseSum', 'TagUseMean', 'TagUseMedian', \n",
    "        'TagClapSum','TagClapMean', 'TagClapMedian',  \n",
    "        'PublicationClap_mean','PublicationClap_median','PublicationClap_count','PublicationClap_sum',\n",
    "        'PublicationReadingTime_mean','PublicationReadingTime_median','PublicationReadingTime_sum',\n",
    "        'PublicationVoter_mean','PublicationVoter_median','PublicationVoter_sum',\n",
    "        'PublicationisPaywall_mean','PublicationisPaywall_median','PublicationisPaywall_sum',]\n",
    "\n",
    "yFeatures = 'ClapCount_Story' # For linreg\n",
    "# yFeatures = 'isPopular' # For logreg\n",
    "\n",
    "xTrain = train[xFeatures]\n",
    "yTrain = train[yFeatures]\n",
    "\n",
    "xTest = test[xFeatures]\n",
    "yTest = test[yFeatures]"
   ]
  },
  {
   "cell_type": "code",
   "execution_count": 111,
   "metadata": {},
   "outputs": [],
   "source": [
    "features = [\"isPaywall\",\"isPublication\",\n",
    "\"SentimentPolarity\",\"SentimentSubjectivity\",\n",
    "\"WordNum\",\"TextSyllableNum\",\"TextLexiconNum\",\"TextSentenceNum\",\n",
    "\"ReadabilityFleschEase\",\"ReadabilitySMOG\",\"ReadabilityFleschKincaid\",\"ReadabilityColemanLiau\",\"ReadabilityARI\",\"ReadabilityDaleChall\",\"ReadabilityDifficultWordsNum\",\"ReadabilityLinsearWriteFormula\",\"ReadabilityGunningFog\",\"ReadabilityReadingTime\",\"ReadabilityConsensus\",\n",
    "\"ReadingTime\",\"HasFeaturedImage\",\"CodeInlineNum\",\"TagNum\",\"CodeBlockNum\",\n",
    "\"CodeBlockLengthSum\",\"CodeBlockLengthMedian\",\"CodeBlockLengthMean\",\"CodeBlockLengthStd\",\"CodeBlockLengthMin\",\"CodeBlockLengthMax\",\n",
    "\"ListOlNum\",\"ListOlSum\",\"ListOlMedian\",\"ListOlMean\",\"ListOlStd\",\"ListOlMin\",\"ListOlMax\",\n",
    "\"ListUlNum\",\"ListUlSum\",\"ListUlMedian\",\"ListUlMean\",\"ListUlStd\",\"ListUlMin\",\"ListUlMax\",\"ImgNum\",\"LinkNum\",\"HlightNum\",\n",
    "\"ParagraphNum\",\"ItalicNum\",\"BoldNum\",\n",
    "# \"AuthorArticlesClap_mean\",\"AuthorArticlesClap_median\",\"AuthorArticlesClap_count\",\"AuthorArticlesClap_sum\",\"AuthorArticlesResponse_mean\",\n",
    "\"AuthorArticlesClap_count\",\n",
    "# \"AuthorArticlesResponse_median\",\"AuthorArticlesResponse_sum\",\n",
    "\"AuthorArticlesVoter_mean\",\"AuthorArticlesVoter_median\",\"AuthorArticlesVoter_sum\",\n",
    "\"TagUseSum\",\"TagUseMean\",\"TagUseMedian\",\"TagClapSum\",\"TagClapMean\",\"TagClapMedian\",\n",
    "# \"PublicationClap_mean\",\"PublicationClap_median\",\n",
    "\"PublicationClap_count\",\"PublicationClap_sum\",\"PublicationReadingTime_mean\",\"PublicationReadingTime_median\",\"PublicationReadingTime_sum\",\"PublicationVoter_mean\",\"PublicationVoter_median\",\"PublicationVoter_sum\",\"PublicationisPaywall_mean\",\"PublicationisPaywall_median\",\"PublicationisPaywall_sum\"\n",
    "\n",
    "]\n",
    "\n",
    "depvar = 'ClapCount_Story'\n",
    "\n",
    "xTrain = train[features]\n",
    "yTrain = train[depvar]\n",
    "\n",
    "xTest = test[features]\n",
    "yTest = test[depvar]"
   ]
  },
  {
   "cell_type": "markdown",
   "metadata": {},
   "source": [
    "# Investigate distribution of response variable"
   ]
  },
  {
   "cell_type": "code",
   "execution_count": 77,
   "metadata": {},
   "outputs": [
    {
     "data": {
      "text/plain": [
       "5.0"
      ]
     },
     "execution_count": 77,
     "metadata": {},
     "output_type": "execute_result"
    },
    {
     "data": {
      "text/plain": [
       "VoterCount    2.0\n",
       "dtype: float64"
      ]
     },
     "execution_count": 77,
     "metadata": {},
     "output_type": "execute_result"
    },
    {
     "data": {
      "text/plain": [
       "0.46517206959914703"
      ]
     },
     "execution_count": 77,
     "metadata": {},
     "output_type": "execute_result"
    }
   ],
   "source": [
    "yTrain.median()\n",
    "df[['VoterCount']].median()\n",
    "len(df[df['VoterCount']<2])/len(df)"
   ]
  },
  {
   "cell_type": "markdown",
   "metadata": {},
   "source": [
    "# Check NA columns"
   ]
  },
  {
   "cell_type": "code",
   "execution_count": 58,
   "metadata": {
    "collapsed": true,
    "jupyter": {
     "outputs_hidden": true
    }
   },
   "outputs": [
    {
     "data": {
      "text/plain": [
       "isPaywall                         False\n",
       "isPublication                     False\n",
       "WordNum                           False\n",
       "SentimentPolarity                 False\n",
       "SentimentSubjectivity             False\n",
       "TextSyllableNum                   False\n",
       "TextLexiconNum                    False\n",
       "TextSentenceNum                   False\n",
       "ReadabilityFleschEase             False\n",
       "ReadabilitySMOG                   False\n",
       "ReadabilityFleschKincaid          False\n",
       "ReadabilityColemanLiau            False\n",
       "ReadabilityARI                    False\n",
       "ReadabilityDaleChall              False\n",
       "ReadabilityDifficultWordsNum      False\n",
       "ReadabilityLinsearWriteFormula    False\n",
       "ReadabilityGunningFog             False\n",
       "ReadabilityReadingTime            False\n",
       "ReadabilityConsensus              False\n",
       "ReadingTime                       False\n",
       "HasFeaturedImage                  False\n",
       "CodeInlineNum                     False\n",
       "TagNum                            False\n",
       "CodeBlockNum                      False\n",
       "CodeBlockLengthSum                False\n",
       "CodeBlockLengthMedian             False\n",
       "CodeBlockLengthMean               False\n",
       "CodeBlockLengthStd                False\n",
       "CodeBlockLengthMin                False\n",
       "CodeBlockLengthMax                False\n",
       "ListOlNum                         False\n",
       "ListOlSum                         False\n",
       "ListOlMedian                      False\n",
       "ListOlMean                        False\n",
       "ListOlStd                         False\n",
       "ListOlMin                         False\n",
       "ListOlMax                         False\n",
       "ListUlNum                         False\n",
       "ListUlSum                         False\n",
       "ListUlMedian                      False\n",
       "ListUlMean                        False\n",
       "ListUlStd                         False\n",
       "ListUlMin                         False\n",
       "ListUlMax                         False\n",
       "ImgNum                            False\n",
       "LinkNum                           False\n",
       "HlightNum                         False\n",
       "ParagraphNum                      False\n",
       "ItalicNum                         False\n",
       "BoldNum                           False\n",
       "AuthorArticlesClap_mean           False\n",
       "AuthorArticlesClap_median         False\n",
       "AuthorArticlesClap_count          False\n",
       "AuthorArticlesClap_sum            False\n",
       "AuthorArticlesResponse_mean       False\n",
       "AuthorArticlesResponse_median     False\n",
       "AuthorArticlesResponse_sum        False\n",
       "AuthorArticlesVoter_mean          False\n",
       "AuthorArticlesVoter_median        False\n",
       "AuthorArticlesVoter_sum           False\n",
       "TagUseSum                         False\n",
       "TagUseMean                        False\n",
       "TagUseMedian                      False\n",
       "TagClapSum                        False\n",
       "TagClapMean                       False\n",
       "TagClapMedian                     False\n",
       "PublicationClap_mean              False\n",
       "PublicationClap_median            False\n",
       "PublicationClap_count             False\n",
       "PublicationClap_sum               False\n",
       "PublicationReadingTime_mean       False\n",
       "PublicationReadingTime_median     False\n",
       "PublicationReadingTime_sum        False\n",
       "PublicationVoter_mean             False\n",
       "PublicationVoter_median           False\n",
       "PublicationVoter_sum              False\n",
       "PublicationisPaywall_mean         False\n",
       "PublicationisPaywall_median       False\n",
       "PublicationisPaywall_sum          False\n",
       "dtype: bool"
      ]
     },
     "execution_count": 58,
     "metadata": {},
     "output_type": "execute_result"
    }
   ],
   "source": [
    "pd.set_option('display.max_rows', 1000)\n",
    "display((df[df['TagNum']==0]))\n",
    "xTrain.isna().any()"
   ]
  },
  {
   "cell_type": "markdown",
   "metadata": {},
   "source": [
    "# Model data"
   ]
  },
  {
   "cell_type": "code",
   "execution_count": 112,
   "metadata": {},
   "outputs": [],
   "source": [
    "reg = LinearRegression().fit(xTrain, yTrain)"
   ]
  },
  {
   "cell_type": "code",
   "execution_count": 113,
   "metadata": {},
   "outputs": [
    {
     "data": {
      "text/plain": [
       "0.07631876354359224"
      ]
     },
     "execution_count": 113,
     "metadata": {},
     "output_type": "execute_result"
    }
   ],
   "source": [
    "reg.score(xTrain,yTrain)"
   ]
  },
  {
   "cell_type": "markdown",
   "metadata": {},
   "source": [
    "# statsmodel"
   ]
  },
  {
   "cell_type": "code",
   "execution_count": 47,
   "metadata": {},
   "outputs": [
    {
     "data": {
      "text/plain": [
       "Counter({False: 44050, True: 35984})"
      ]
     },
     "execution_count": 47,
     "metadata": {},
     "output_type": "execute_result"
    },
    {
     "name": "stdout",
     "output_type": "stream",
     "text": [
      "0\n",
      "64669    0\n",
      "Name: Company, dtype: object\n"
     ]
    }
   ],
   "source": [
    "Counter(df['isPublication'])\n",
    "print(len(df[df['Company'].isnull()]))\n",
    "print(df.sample()['Company'])"
   ]
  },
  {
   "cell_type": "code",
   "execution_count": 106,
   "metadata": {},
   "outputs": [
    {
     "name": "stdout",
     "output_type": "stream",
     "text": [
      "PublicationClap_mean            6.836945e-64\n",
      "ParagraphNum                    1.557539e-52\n",
      "CodeInlineNum                   7.696876e-23\n",
      "ReadingTime                     5.984957e-15\n",
      "PublicationisPaywall_sum        2.297522e-12\n",
      "PublicationVoter_median         2.313637e-10\n",
      "LinkNum                         3.793769e-10\n",
      "TextSyllableNum                 2.799455e-09\n",
      "CodeBlockLengthSum              3.089377e-09\n",
      "CodeBlockLengthMax              9.296785e-09\n",
      "ReadabilityReadingTime          1.080890e-07\n",
      "TagUseMedian                    2.408881e-06\n",
      "PublicationReadingTime_sum      8.722049e-06\n",
      "CodeBlockLengthStd              2.649779e-05\n",
      "ReadabilitySMOG                 4.109375e-05\n",
      "CodeBlockLengthMin              6.657543e-05\n",
      "PublicationReadingTime_mean     2.109230e-04\n",
      "TagClapSum                      3.996589e-04\n",
      "TextLexiconNum                  4.330973e-04\n",
      "PublicationClap_count           5.137085e-04\n",
      "PublicationVoter_sum            6.751645e-04\n",
      "CodeBlockNum                    9.392410e-04\n",
      "TagNum                          1.977122e-03\n",
      "ImgNum                          2.785978e-03\n",
      "ReadabilityDifficultWordsNum    3.212263e-03\n",
      "ItalicNum                       3.442347e-03\n",
      "isPaywall                       5.895635e-03\n",
      "WordNum                         8.745468e-03\n",
      "AuthorArticlesVoter_mean        1.024125e-02\n",
      "CodeBlockLengthMean             1.064480e-02\n",
      "isPublication                   1.171493e-02\n",
      "ListOlNum                       2.078458e-02\n",
      "ListUlNum                       4.944670e-02\n",
      "dtype: float64\n",
      "                                 OLS Regression Results                                \n",
      "=======================================================================================\n",
      "Dep. Variable:        ClapCount_Story   R-squared (uncentered):                   0.091\n",
      "Model:                            OLS   Adj. R-squared (uncentered):              0.090\n",
      "Method:                 Least Squares   F-statistic:                              193.0\n",
      "Date:                Wed, 29 Jul 2020   Prob (F-statistic):                        0.00\n",
      "Time:                        18:34:27   Log-Likelihood:                     -1.2099e+06\n",
      "No. Observations:              141317   AIC:                                  2.420e+06\n",
      "Df Residuals:                  141244   BIC:                                  2.421e+06\n",
      "Df Model:                          73                                                  \n",
      "Covariance Type:            nonrobust                                                  \n",
      "==================================================================================================\n",
      "                                     coef    std err          t      P>|t|      [0.025      0.975]\n",
      "--------------------------------------------------------------------------------------------------\n",
      "isPaywall                         53.8823     19.568      2.754      0.006      15.529      92.236\n",
      "isPublication                     42.9581     17.042      2.521      0.012       9.555      76.361\n",
      "SentimentPolarity                -27.5116     30.832     -0.892      0.372     -87.942      32.919\n",
      "SentimentSubjectivity             51.2420     28.381      1.806      0.071      -4.384     106.868\n",
      "WordNum                           -0.6040      0.230     -2.622      0.009      -1.056      -0.152\n",
      "TextSyllableNum                   -0.1246      0.021     -5.943      0.000      -0.166      -0.084\n",
      "TextLexiconNum                     0.8053      0.229      3.519      0.000       0.357       1.254\n",
      "TextSentenceNum                   -0.1074      0.312     -0.344      0.731      -0.719       0.504\n",
      "ReadabilityFleschEase             -0.2327      0.274     -0.848      0.396      -0.770       0.305\n",
      "ReadabilitySMOG                   -2.8427      0.693     -4.101      0.000      -4.201      -1.484\n",
      "ReadabilityFleschKincaid          -2.1788      2.610     -0.835      0.404      -7.295       2.938\n",
      "ReadabilityColemanLiau             0.9142      0.936      0.977      0.329      -0.920       2.748\n",
      "ReadabilityARI                    -1.2699      1.133     -1.121      0.262      -3.490       0.950\n",
      "ReadabilityDaleChall               3.1722      2.420      1.311      0.190      -1.570       7.915\n",
      "ReadabilityDifficultWordsNum      -0.2424      0.082     -2.947      0.003      -0.404      -0.081\n",
      "ReadabilityLinsearWriteFormula    -0.1194      0.265     -0.451      0.652      -0.638       0.400\n",
      "ReadabilityGunningFog              2.5325      1.567      1.616      0.106      -0.539       5.604\n",
      "ReadabilityReadingTime            -1.1858      0.223     -5.313      0.000      -1.623      -0.748\n",
      "ReadabilityConsensus              -0.2237      0.149     -1.502      0.133      -0.516       0.068\n",
      "ReadingTime                       32.3536      4.145      7.805      0.000      24.229      40.478\n",
      "HasFeaturedImage                  -5.6167      8.972     -0.626      0.531     -23.201      11.968\n",
      "CodeInlineNum                      3.7220      0.378      9.840      0.000       2.981       4.463\n",
      "TagNum                           -19.1342      6.185     -3.094      0.002     -31.256      -7.012\n",
      "CodeBlockNum                       4.8733      1.473      3.308      0.001       1.986       7.761\n",
      "CodeBlockLengthSum                 2.0192      0.341      5.927      0.000       1.351       2.687\n",
      "CodeBlockLengthMedian              7.1172      4.760      1.495      0.135      -2.212      16.447\n",
      "CodeBlockLengthMean              -25.2709      9.894     -2.554      0.011     -44.663      -5.879\n",
      "CodeBlockLengthStd                41.0897      9.779      4.202      0.000      21.923      60.257\n",
      "CodeBlockLengthMin                29.3281      7.354      3.988      0.000      14.915      43.741\n",
      "CodeBlockLengthMax               -12.4614      2.170     -5.743      0.000     -16.714      -8.209\n",
      "ListOlNum                        -10.7057      4.631     -2.312      0.021     -19.782      -1.630\n",
      "ListOlSum                          0.0100      0.022      0.448      0.654      -0.034       0.054\n",
      "ListOlMedian                      -0.0169      0.193     -0.087      0.930      -0.395       0.361\n",
      "ListOlMean                        -0.0303      0.538     -0.056      0.955      -1.084       1.024\n",
      "ListOlStd                         -0.0143      0.483     -0.030      0.976      -0.962       0.933\n",
      "ListOlMin                         -0.0003      0.384     -0.001      0.999      -0.753       0.753\n",
      "ListOlMax                          0.0517      0.182      0.284      0.776      -0.305       0.408\n",
      "ListUlNum                         -3.6061      1.835     -1.965      0.049      -7.204      -0.009\n",
      "ListUlSum                          0.0062      0.008      0.754      0.451      -0.010       0.022\n",
      "ListUlMedian                      -0.0876      0.146     -0.601      0.548      -0.373       0.198\n",
      "ListUlMean                         0.2499      0.276      0.905      0.366      -0.291       0.791\n",
      "ListUlStd                         -0.0410      0.226     -0.181      0.856      -0.484       0.402\n",
      "ListUlMin                         -0.1110      0.167     -0.664      0.507      -0.439       0.217\n",
      "ListUlMax                         -0.0288      0.071     -0.408      0.683      -0.167       0.110\n",
      "ImgNum                            -0.7251      0.242     -2.990      0.003      -1.200      -0.250\n",
      "LinkNum                            1.8733      0.299      6.263      0.000       1.287       2.460\n",
      "HlightNum                        -11.3571     57.775     -0.197      0.844    -124.595     101.881\n",
      "ParagraphNum                       4.3338      0.284     15.260      0.000       3.777       4.890\n",
      "ItalicNum                         -0.8195      0.280     -2.925      0.003      -1.369      -0.270\n",
      "BoldNum                            0.2321      0.236      0.986      0.324      -0.230       0.694\n",
      "AuthorArticlesClap_count           0.0182      0.018      1.009      0.313      -0.017       0.053\n",
      "AuthorArticlesVoter_mean        -111.1226     43.279     -2.568      0.010    -195.948     -26.297\n",
      "AuthorArticlesVoter_median        36.7411     33.002      1.113      0.266     -27.942     101.424\n",
      "AuthorArticlesVoter_sum            0.0154      0.080      0.192      0.848      -0.142       0.173\n",
      "TagUseSum                      -3.734e-05      0.000     -0.213      0.831      -0.000       0.000\n",
      "TagUseMean                        -0.0005      0.001     -0.731      0.465      -0.002       0.001\n",
      "TagUseMedian                       0.0017      0.000      4.716      0.000       0.001       0.002\n",
      "TagClapSum                      3.766e-06   1.06e-06      3.540      0.000    1.68e-06    5.85e-06\n",
      "TagClapMean                    -4.367e-06   3.57e-06     -1.223      0.221   -1.14e-05    2.63e-06\n",
      "TagClapMedian                  -5.884e-06   3.06e-06     -1.921      0.055   -1.19e-05    1.18e-07\n",
      "PublicationClap_mean               1.2666      0.075     16.884      0.000       1.120       1.414\n",
      "PublicationClap_median            -0.0209      0.084     -0.250      0.803      -0.185       0.143\n",
      "PublicationClap_count             -0.0496      0.014     -3.474      0.001      -0.078      -0.022\n",
      "PublicationClap_sum             3.032e-05   1.55e-05      1.951      0.051   -1.44e-07    6.08e-05\n",
      "PublicationReadingTime_mean      -31.7401      8.565     -3.706      0.000     -48.528     -14.952\n",
      "PublicationReadingTime_median      7.3875      9.136      0.809      0.419     -10.518      25.293\n",
      "PublicationReadingTime_sum         0.0104      0.002      4.447      0.000       0.006       0.015\n",
      "PublicationVoter_mean              0.7116      0.429      1.659      0.097      -0.129       1.552\n",
      "PublicationVoter_median           -3.7263      0.588     -6.339      0.000      -4.878      -2.574\n",
      "PublicationVoter_sum              -0.0003    9.5e-05     -3.400      0.001      -0.001      -0.000\n",
      "PublicationisPaywall_mean         33.7995     63.665      0.531      0.595     -90.982     158.581\n",
      "PublicationisPaywall_median      -56.5560     51.599     -1.096      0.273    -157.688      44.576\n",
      "PublicationisPaywall_sum          -0.0209      0.003     -7.016      0.000      -0.027      -0.015\n",
      "==============================================================================\n",
      "Omnibus:                   546206.170   Durbin-Watson:                   1.915\n",
      "Prob(Omnibus):                  0.000   Jarque-Bera (JB):    1051250398624.309\n",
      "Skew:                          91.732   Prob(JB):                         0.00\n",
      "Kurtosis:                   13363.434   Cond. No.                     5.88e+08\n",
      "==============================================================================\n",
      "\n",
      "Warnings:\n",
      "[1] Standard Errors assume that the covariance matrix of the errors is correctly specified.\n",
      "[2] The condition number is large, 5.88e+08. This might indicate that there are\n",
      "strong multicollinearity or other numerical problems.\n"
     ]
    }
   ],
   "source": [
    "mod = sm.OLS(yTrain,xTrain.astype(float))\n",
    "fii = mod.fit()\n",
    "\n",
    "p_values = fii.pvalues\n",
    "print(p_values[p_values<0.05].sort_values(ascending=True))\n",
    "print(fii.summary())"
   ]
  },
  {
   "cell_type": "markdown",
   "metadata": {},
   "source": [
    "# Logistic Regression"
   ]
  },
  {
   "cell_type": "code",
   "execution_count": 24,
   "metadata": {},
   "outputs": [],
   "source": [
    "from sklearn.linear_model import LogisticRegression"
   ]
  },
  {
   "cell_type": "code",
   "execution_count": 25,
   "metadata": {},
   "outputs": [
    {
     "name": "stderr",
     "output_type": "stream",
     "text": [
      "C:\\Users\\Justin\\Anaconda3\\lib\\site-packages\\sklearn\\linear_model\\logistic.py:432: FutureWarning: Default solver will be changed to 'lbfgs' in 0.22. Specify a solver to silence this warning.\n",
      "  FutureWarning)\n"
     ]
    },
    {
     "data": {
      "text/plain": [
       "LogisticRegression(C=1.0, class_weight=None, dual=False, fit_intercept=True,\n",
       "                   intercept_scaling=1, l1_ratio=None, max_iter=100,\n",
       "                   multi_class='warn', n_jobs=None, penalty='l2',\n",
       "                   random_state=None, solver='warn', tol=0.0001, verbose=0,\n",
       "                   warm_start=False)"
      ]
     },
     "execution_count": 25,
     "metadata": {},
     "output_type": "execute_result"
    }
   ],
   "source": [
    "logit = LogisticRegression()\n",
    "logit.fit(xTrain,yTrain)"
   ]
  },
  {
   "cell_type": "code",
   "execution_count": 26,
   "metadata": {},
   "outputs": [
    {
     "data": {
      "text/plain": [
       "0.7158671586715867"
      ]
     },
     "execution_count": 26,
     "metadata": {},
     "output_type": "execute_result"
    }
   ],
   "source": [
    "logit.score(xTrain,yTrain)\n",
    "importance = logit.coef_[0]\n",
    "# summarize feature importance\n",
    "# for i,v in enumerate(importance):\n",
    "# \tprint('Feature: %0d, Score: %.5f' % (i,v))\n"
   ]
  },
  {
   "cell_type": "code",
   "execution_count": 27,
   "metadata": {},
   "outputs": [
    {
     "name": "stdout",
     "output_type": "stream",
     "text": [
      "Predict Counter({1: 220, 0: 163})\n",
      "Truth Counter({0: 201, 1: 182})\n",
      "0.6960800393636215\n"
     ]
    }
   ],
   "source": [
    "# Get AUC\n",
    "from sklearn import metrics\n",
    "\n",
    "yPreds = logit.predict(xTest)\n",
    "print(\"Predict\", Counter(yPreds))\n",
    "# print(type(yPreds))\n",
    "print(\"Truth\", Counter(yTest))\n",
    "\n",
    "# print(yPreds)\n",
    "fpr, tpr, thresholds = metrics.roc_curve(yTest, yPreds)\n",
    "print(metrics.auc(fpr, tpr))"
   ]
  },
  {
   "cell_type": "code",
   "execution_count": null,
   "metadata": {},
   "outputs": [],
   "source": []
  }
 ],
 "metadata": {
  "kernelspec": {
   "display_name": "Python 3",
   "language": "python",
   "name": "python3"
  },
  "language_info": {
   "codemirror_mode": {
    "name": "ipython",
    "version": 3
   },
   "file_extension": ".py",
   "mimetype": "text/x-python",
   "name": "python",
   "nbconvert_exporter": "python",
   "pygments_lexer": "ipython3",
   "version": "3.7.4"
  }
 },
 "nbformat": 4,
 "nbformat_minor": 4
}
