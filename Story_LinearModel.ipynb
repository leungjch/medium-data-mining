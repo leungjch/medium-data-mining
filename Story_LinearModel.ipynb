{
 "cells": [
  {
   "cell_type": "code",
   "execution_count": 80,
   "metadata": {},
   "outputs": [],
   "source": [
    "import numpy as np\n",
    "import pandas as pd\n",
    "from sklearn.linear_model import LinearRegression\n",
    "import statsmodels.api as sm\n",
    "from IPython.core.display import display, HTML\n"
   ]
  },
  {
   "cell_type": "code",
   "execution_count": 90,
   "metadata": {},
   "outputs": [
    {
     "name": "stderr",
     "output_type": "stream",
     "text": [
      "C:\\Users\\Justin\\Anaconda3\\lib\\site-packages\\IPython\\core\\interactiveshell.py:3058: DtypeWarning: Columns (2,7,9,10,22,23,24,26,27,29,31,33,34,35,36,37,38,40,42) have mixed types. Specify dtype option on import or set low_memory=False.\n",
      "  interactivity=interactivity, compiler=compiler, result=result)\n"
     ]
    }
   ],
   "source": [
    "df = pd.read_csv(\"data/df_story_features.csv\")"
   ]
  },
  {
   "cell_type": "code",
   "execution_count": 91,
   "metadata": {},
   "outputs": [
    {
     "name": "stdout",
     "output_type": "stream",
     "text": [
      "Index(['Unnamed: 0', 'ClapCount_Card', 'ClapCount_Story', 'Company',\n",
      "       'CompanyURL', 'PostID', 'PublishedDate', 'ReadingTime',\n",
      "       'ResponseNum_Card', 'ResponseNum_Story', 'StoryIndex', 'StoryTitle',\n",
      "       'StoryURL', 'StoryURL_Story', 'Tag1', 'Tag2', 'Tag3', 'Tag4', 'Tag5',\n",
      "       'TagSource', 'User', 'UserURL', 'VoterCount', 'isPaywall', 'TagSum',\n",
      "       'Text', 'WordNum', 'HasFeaturedImage', 'CodeInlineRaw', 'CodeInlineNum',\n",
      "       'CodeBlockRaw', 'CodeBlockNum', 'CodeBlockLengthList',\n",
      "       'CodeBlockLengthSum', 'CodeBlockLengthMedian', 'CodeBlockLengthMean',\n",
      "       'CodeBlockLengthMin', 'CodeBlockLengthMax', 'ImgNum', 'LinkURLList',\n",
      "       'LinkNum', 'HLightTextList', 'HlightNum'],\n",
      "      dtype='object')\n"
     ]
    },
    {
     "data": {
      "text/html": [
       "<table border=\"1\" class=\"dataframe\">\n",
       "  <thead>\n",
       "    <tr style=\"text-align: right;\">\n",
       "      <th></th>\n",
       "      <th>Unnamed: 0</th>\n",
       "      <th>ClapCount_Card</th>\n",
       "      <th>ClapCount_Story</th>\n",
       "      <th>Company</th>\n",
       "      <th>CompanyURL</th>\n",
       "      <th>PostID</th>\n",
       "      <th>PublishedDate</th>\n",
       "      <th>ReadingTime</th>\n",
       "      <th>ResponseNum_Card</th>\n",
       "      <th>ResponseNum_Story</th>\n",
       "      <th>StoryIndex</th>\n",
       "      <th>StoryTitle</th>\n",
       "      <th>StoryURL</th>\n",
       "      <th>StoryURL_Story</th>\n",
       "      <th>Tag1</th>\n",
       "      <th>Tag2</th>\n",
       "      <th>Tag3</th>\n",
       "      <th>Tag4</th>\n",
       "      <th>Tag5</th>\n",
       "      <th>TagSource</th>\n",
       "      <th>User</th>\n",
       "      <th>UserURL</th>\n",
       "      <th>VoterCount</th>\n",
       "      <th>isPaywall</th>\n",
       "      <th>TagSum</th>\n",
       "      <th>Text</th>\n",
       "      <th>WordNum</th>\n",
       "      <th>HasFeaturedImage</th>\n",
       "      <th>CodeInlineRaw</th>\n",
       "      <th>CodeInlineNum</th>\n",
       "      <th>CodeBlockRaw</th>\n",
       "      <th>CodeBlockNum</th>\n",
       "      <th>CodeBlockLengthList</th>\n",
       "      <th>CodeBlockLengthSum</th>\n",
       "      <th>CodeBlockLengthMedian</th>\n",
       "      <th>CodeBlockLengthMean</th>\n",
       "      <th>CodeBlockLengthMin</th>\n",
       "      <th>CodeBlockLengthMax</th>\n",
       "      <th>ImgNum</th>\n",
       "      <th>LinkURLList</th>\n",
       "      <th>LinkNum</th>\n",
       "      <th>HLightTextList</th>\n",
       "      <th>HlightNum</th>\n",
       "    </tr>\n",
       "  </thead>\n",
       "  <tbody>\n",
       "    <tr>\n",
       "      <th>0</th>\n",
       "      <td>1.0</td>\n",
       "      <td>2</td>\n",
       "      <td>2</td>\n",
       "      <td>NaN</td>\n",
       "      <td>NaN</td>\n",
       "      <td>f5adff36e2cc</td>\n",
       "      <td>2020-02-04T17:43:02.655Z</td>\n",
       "      <td>4</td>\n",
       "      <td>0</td>\n",
       "      <td>0.0</td>\n",
       "      <td>10</td>\n",
       "      <td>How to customize font size in R Markdown documents</td>\n",
       "      <td>https://medium.com/@HadrienD/how-to-customize-font-size-in-r-markdown-documents-f5adff36e2cc?source=tag_archive---------0-----------------------</td>\n",
       "      <td>https://medium.com/@HadrienD/how-to-customize-font-size-in-r-markdown-documents-f5adff36e2cc?source=tag_archive---------0-----------------------</td>\n",
       "      <td>r-markdown</td>\n",
       "      <td>r</td>\n",
       "      <td>css</td>\n",
       "      <td>NaN</td>\n",
       "      <td>NaN</td>\n",
       "      <td>r-markdown</td>\n",
       "      <td>Hadrien Dykiel</td>\n",
       "      <td>https://medium.com/@HadrienD</td>\n",
       "      <td>2</td>\n",
       "      <td>False</td>\n",
       "      <td>3</td>\n",
       "      <td>[Iâm sitting in the back of the room, squinting, trying to read the text on the R Markdown Storyboard projected on the huge screen in the front of the room when one of the workshop attendees asks Carl Howe, our instructor for the day: âHow can you customize the font size on R Markdown dashboardsâ?âGood timing!â, I think. Weâre at rstudio::conf 2020 in San Francisco participating in the R Markdown and Interactive Dashboards workshop, and Iâm still somehow convinced that I have 20/20 vision, even though I barely passed my last eye exam 5 years ago. It turns out many other folks in the room also canât read the small text, and they too are wondering how to customize the font attributes in their RMD reports and dashboard.This is the first day of the workshop, and Carlâs already walked us through how you can use RMD to easily create all sorts of different things like professional looking PDF and Word reports, HTML pages, and even interactive dashboards. Iâve used RMD for a some time now, but Iâve always accepted the default font color, type, and size. Today, however, weâre going to learn how to edit those things.PDF DocumentsHow you edit font size will depend on the type of output you are creating. For PDF documents, you can add the fontsize metadata variable to you YAML header:Customizing font size for RMD PDFsBecause of the way LaTeX works, you are limited to a fontsize of 10pt, 11pt, or 12pt (unless you use a workaround solution). Any other values you enter will be ignored.HTML DocumentsR Markdown has multiple HTML based report types, including the more simple looking html_document, or the more dashboard like flexdashboard::flex_dashboard, to name a few. These are the reports Carl is focusing on today, perhaps because HTML documents are often the most popular. Like PDFs, they can easily be shared via email as file attachments and anyone with a modern computer can open them. In addition, they can also be easily shared on the web like any normal webpage. Being HTML based, it also means they can be made more beautiful and interactive with CSS and Javascript, even if you donât know either of those languages.Carl first shows us how HTML syntax can simply be added to markdown text. For exampleâ¦â¦ will return the following:At this point in the workshop, everybody is now working on building their own flexdashboard with the storyboard option turned on. A storyboard is exactly what it sounds like, itâs a type of dashboard that can be viewed page by page, just like a story (see example here). âHow can you customize a specific element on the dashboard, such as all the storyboards?â someone asks.âThe key is to identify the CSS selectorâ says Yihui Xie, Carlâs co-instructor who also happens to the author of the R Markdown package. In CSS, which is used to define the style of a website, the selectors are used to apply style to specific HTML elements on a webpage. The idea is to write some custom CSS code, and then decide which selectors it should be applied to. âThe tricky part is understanding the hierarchyâ, Yihui continues, âthe whole HTML doc has a nested structure. Inside body, there are many elements. You have to define CSS rules by carefully selecting a CSS selectorâ.Yihui then shows us how easy it is to identify the CSS selector for whatever element we want to customize on our dashboard. âOne way to do this is with inspect elementâ he says. After clicking on the âknitâ button to create the HTML document, he right clicks on the page and selects âInspectâ. Hovering over each of the HTML elements, he keeps going until the storyboard element we want to customize becomes highlighted itself. This is how we find the CSS selector, which turned out to be quite long, for our storyboard element:How to add custom CSS to HTML RMD documentsNow that I know which CSS selector to use, I go on to create a CSS file called styles.css with some very basic CSS code:/* CSS Stylesheet*/css selector { font-size: 15px;}I replace the âcss selectorâ placeholder text with the actual CSS selector for this storyboard element, .storyboard-nav .sbframelist ul li, which I discovered via the âInspectâ tool. Lastly, I add the css option to my YAML header with a path to the styles.css file I just created, linking the stylesheet to my R Markdown document.I re-knit my document and see that the text on the storyboard is now much larger than before, just as I wanted it. Not only have I customized the font size, but Iâve set things up in such a way that I can now easily customize the style of any other element on my R Markdown document. Itâs now time to break for coffee, but Iâm tempted to hang back and and experiment with more CSS properties like font type, color, and padding to continue styling my report.]</td>\n",
       "      <td>824</td>\n",
       "      <td>True</td>\n",
       "      <td>['fontsize', 'html_document', 'flexdashboard::flex_dashboard', 'styles.css', '.storyboard-nav .sbframelist ul li', 'css', 'styles.css']</td>\n",
       "      <td>7</td>\n",
       "      <td>[]</td>\n",
       "      <td>0</td>\n",
       "      <td>[]</td>\n",
       "      <td>0</td>\n",
       "      <td>0.0</td>\n",
       "      <td>0.0</td>\n",
       "      <td>0</td>\n",
       "      <td>0</td>\n",
       "      <td>13</td>\n",
       "      <td>['https://rmarkdown.rstudio.com/flexdashboard/using.html', 'https://beta.rstudioconnect.com/jjallaire/htmlwidgets-showcase-storyboard/htmlwidgets-showcase-storyboard.html']</td>\n",
       "      <td>2</td>\n",
       "      <td>[]</td>\n",
       "      <td>0</td>\n",
       "    </tr>\n",
       "  </tbody>\n",
       "</table>"
      ],
      "text/plain": [
       "<IPython.core.display.HTML object>"
      ]
     },
     "metadata": {},
     "output_type": "display_data"
    }
   ],
   "source": [
    "print(df.columns)\n",
    "display(HTML(df.head(1).to_html()))"
   ]
  },
  {
   "cell_type": "markdown",
   "metadata": {},
   "source": [
    "# Limit columns"
   ]
  },
  {
   "cell_type": "code",
   "execution_count": 72,
   "metadata": {},
   "outputs": [],
   "source": [
    "x = df[['isPaywall', 'WordNum', 'ReadingTime', 'HasFeaturedImage', 'CodeInlineNum', 'TagSum',\n",
    "       'CodeBlockNum', 'CodeBlockLengthSum', 'CodeBlockLengthMedian', 'CodeBlockLengthMean',\n",
    "       'CodeBlockLengthMin', 'CodeBlockLengthMax', 'ImgNum', 'LinkNum', 'HlightNum']]\n",
    "y = df[['ClapCount_Story']]"
   ]
  },
  {
   "cell_type": "markdown",
   "metadata": {},
   "source": [
    "# Model data"
   ]
  },
  {
   "cell_type": "code",
   "execution_count": 87,
   "metadata": {},
   "outputs": [],
   "source": [
    "reg = LinearRegression().fit(x, y)"
   ]
  },
  {
   "cell_type": "code",
   "execution_count": 88,
   "metadata": {},
   "outputs": [
    {
     "data": {
      "text/plain": [
       "0.3053680617094945"
      ]
     },
     "execution_count": 88,
     "metadata": {},
     "output_type": "execute_result"
    }
   ],
   "source": [
    "reg.score(x,y)"
   ]
  },
  {
   "cell_type": "markdown",
   "metadata": {},
   "source": [
    "# statsmodel"
   ]
  },
  {
   "cell_type": "code",
   "execution_count": 89,
   "metadata": {},
   "outputs": [
    {
     "name": "stdout",
     "output_type": "stream",
     "text": [
      "isPaywall                0.016673\n",
      "WordNum                  0.404858\n",
      "ReadingTime              0.674743\n",
      "HasFeaturedImage         0.708665\n",
      "CodeInlineNum            0.357354\n",
      "TagSum                   0.006687\n",
      "CodeBlockNum             0.839794\n",
      "CodeBlockLengthSum       0.576942\n",
      "CodeBlockLengthMedian    0.040553\n",
      "CodeBlockLengthMean      0.029615\n",
      "CodeBlockLengthMin       0.537780\n",
      "CodeBlockLengthMax       0.035888\n",
      "ImgNum                   0.385343\n",
      "LinkNum                  0.059288\n",
      "HlightNum                0.914409\n",
      "Name: P>|t|, dtype: float64\n"
     ]
    }
   ],
   "source": [
    "mod = sm.OLS(y,x.astype(float))\n",
    "fii = mod.fit()\n",
    "p_values = fii.summary2().tables[1]['P>|t|']\n",
    "print(p_values)"
   ]
  },
  {
   "cell_type": "code",
   "execution_count": null,
   "metadata": {},
   "outputs": [],
   "source": []
  }
 ],
 "metadata": {
  "kernelspec": {
   "display_name": "Python 3",
   "language": "python",
   "name": "python3"
  },
  "language_info": {
   "codemirror_mode": {
    "name": "ipython",
    "version": 3
   },
   "file_extension": ".py",
   "mimetype": "text/x-python",
   "name": "python",
   "nbconvert_exporter": "python",
   "pygments_lexer": "ipython3",
   "version": "3.7.4"
  }
 },
 "nbformat": 4,
 "nbformat_minor": 4
}
