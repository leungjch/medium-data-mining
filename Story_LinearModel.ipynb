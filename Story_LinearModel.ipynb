{
 "cells": [
  {
   "cell_type": "code",
   "execution_count": 28,
   "metadata": {},
   "outputs": [],
   "source": [
    "import numpy as np\n",
    "import pandas as pd\n",
    "from sklearn.linear_model import LinearRegression\n",
    "import statsmodels.api as sm\n",
    "from IPython.core.display import display, HTML\n",
    "\n",
    "from IPython.core.interactiveshell import InteractiveShell\n",
    "import matplotlib.pyplot as plt\n",
    "InteractiveShell.ast_node_interactivity = \"all\"\n",
    "pd.set_option('display.max_columns', None)\n",
    "pd.set_option('display.max_rows', None)\n",
    "from collections import Counter\n"
   ]
  },
  {
   "cell_type": "code",
   "execution_count": 125,
   "metadata": {},
   "outputs": [],
   "source": [
    "df = pd.read_csv(\"data/df_story_features_large_Jul29.csv\")"
   ]
  },
  {
   "cell_type": "code",
   "execution_count": null,
   "metadata": {},
   "outputs": [],
   "source": []
  },
  {
   "cell_type": "code",
   "execution_count": 494,
   "metadata": {},
   "outputs": [],
   "source": [
    "# Print columns\n",
    "# df.columns.tolist()\n",
    "\n",
    "# display(HTML(df.head(1).to_html()))"
   ]
  },
  {
   "cell_type": "markdown",
   "metadata": {},
   "source": [
    "# Generate binary dependent variable (for logit)"
   ]
  },
  {
   "cell_type": "code",
   "execution_count": 4,
   "metadata": {},
   "outputs": [],
   "source": [
    "df['isPopular'] = (df['ClapCount_Story'] < df['ClapCount_Story'].median()).astype(int)"
   ]
  },
  {
   "cell_type": "markdown",
   "metadata": {},
   "source": [
    "# Split train / test (80/20)"
   ]
  },
  {
   "cell_type": "code",
   "execution_count": 126,
   "metadata": {},
   "outputs": [],
   "source": [
    "mask = np.random.rand(len(df)) < 1\n",
    "train = df[mask]\n",
    "test = df[~mask]"
   ]
  },
  {
   "cell_type": "code",
   "execution_count": 127,
   "metadata": {},
   "outputs": [
    {
     "data": {
      "text/plain": [
       "5.0"
      ]
     },
     "execution_count": 127,
     "metadata": {},
     "output_type": "execute_result"
    }
   ],
   "source": [
    "train['ClapCount_Story'].median()"
   ]
  },
  {
   "cell_type": "code",
   "execution_count": 43,
   "metadata": {
    "jupyter": {
     "source_hidden": true
    }
   },
   "outputs": [],
   "source": [
    "xFeatures = ['isPaywall', 'isPublication', 'WordNum', 'SentimentPolarity', 'SentimentSubjectivity',  \"TextSyllableNum\",\n",
    "          \"TextLexiconNum\", \"TextSentenceNum\", \"ReadabilityFleschEase\", \"ReadabilitySMOG\", \"ReadabilityFleschKincaid\", \"ReadabilityColemanLiau\", \"ReadabilityARI\", \"ReadabilityDaleChall\", \"ReadabilityDifficultWordsNum\", \"ReadabilityLinsearWriteFormula\", \"ReadabilityGunningFog\", \"ReadabilityReadingTime\", \"ReadabilityConsensus\", \n",
    "        'ReadingTime', 'HasFeaturedImage', 'CodeInlineNum', 'TagNum',\n",
    "        'CodeBlockNum', 'CodeBlockLengthSum', 'CodeBlockLengthMedian', 'CodeBlockLengthMean',\n",
    "        'CodeBlockLengthStd', 'CodeBlockLengthMin', 'CodeBlockLengthMax',\n",
    "        'ListOlNum', 'ListOlSum', 'ListOlMedian', 'ListOlMean', 'ListOlStd', 'ListOlMin', 'ListOlMax', \n",
    "        'ListUlNum', 'ListUlSum', 'ListUlMedian', 'ListUlMean', 'ListUlStd', 'ListUlMin', 'ListUlMax', \n",
    "        'ImgNum', 'LinkNum',\n",
    "        'HlightNum', 'ParagraphNum', 'ItalicNum', 'BoldNum', \n",
    "        'AuthorArticlesClap_mean','AuthorArticlesClap_median','AuthorArticlesClap_count','AuthorArticlesClap_sum',\n",
    "        'AuthorArticlesResponse_mean','AuthorArticlesResponse_median','AuthorArticlesResponse_sum',\n",
    "        'AuthorArticlesVoter_mean','AuthorArticlesVoter_median','AuthorArticlesVoter_sum',\n",
    "        \n",
    "        'TagUseSum', 'TagUseMean', 'TagUseMedian', \n",
    "        'TagClapSum','TagClapMean', 'TagClapMedian',  \n",
    "        'PublicationClap_mean','PublicationClap_median','PublicationClap_count','PublicationClap_sum',\n",
    "        'PublicationReadingTime_mean','PublicationReadingTime_median','PublicationReadingTime_sum',\n",
    "        'PublicationVoter_mean','PublicationVoter_median','PublicationVoter_sum',\n",
    "        'PublicationisPaywall_mean','PublicationisPaywall_median','PublicationisPaywall_sum',]\n",
    "\n",
    "yFeatures = 'ClapCount_Story' # For linreg\n",
    "# yFeatures = 'isPopular' # For logreg\n",
    "\n",
    "xTrain = train[xFeatures]\n",
    "yTrain = train[yFeatures]\n",
    "\n",
    "xTest = test[xFeatures]\n",
    "yTest = test[yFeatures]"
   ]
  },
  {
   "cell_type": "code",
   "execution_count": 111,
   "metadata": {},
   "outputs": [],
   "source": [
    "features = [\"isPaywall\",\"isPublication\",\n",
    "\"SentimentPolarity\",\"SentimentSubjectivity\",\n",
    "\"WordNum\",\"TextSyllableNum\",\"TextLexiconNum\",\"TextSentenceNum\",\n",
    "\"ReadabilityFleschEase\",\"ReadabilitySMOG\",\"ReadabilityFleschKincaid\",\"ReadabilityColemanLiau\",\"ReadabilityARI\",\"ReadabilityDaleChall\",\"ReadabilityDifficultWordsNum\",\"ReadabilityLinsearWriteFormula\",\"ReadabilityGunningFog\",\"ReadabilityReadingTime\",\"ReadabilityConsensus\",\n",
    "\"ReadingTime\",\"HasFeaturedImage\",\"CodeInlineNum\",\"TagNum\",\"CodeBlockNum\",\n",
    "\"CodeBlockLengthSum\",\"CodeBlockLengthMedian\",\"CodeBlockLengthMean\",\"CodeBlockLengthStd\",\"CodeBlockLengthMin\",\"CodeBlockLengthMax\",\n",
    "\"ListOlNum\",\"ListOlSum\",\"ListOlMedian\",\"ListOlMean\",\"ListOlStd\",\"ListOlMin\",\"ListOlMax\",\n",
    "\"ListUlNum\",\"ListUlSum\",\"ListUlMedian\",\"ListUlMean\",\"ListUlStd\",\"ListUlMin\",\"ListUlMax\",\"ImgNum\",\"LinkNum\",\"HlightNum\",\n",
    "\"ParagraphNum\",\"ItalicNum\",\"BoldNum\",\n",
    "# \"AuthorArticlesClap_mean\",\"AuthorArticlesClap_median\",\"AuthorArticlesClap_count\",\"AuthorArticlesClap_sum\",\"AuthorArticlesResponse_mean\",\n",
    "\"AuthorArticlesClap_count\",\n",
    "# \"AuthorArticlesResponse_median\",\"AuthorArticlesResponse_sum\",\n",
    "\"AuthorArticlesVoter_mean\",\"AuthorArticlesVoter_median\",\"AuthorArticlesVoter_sum\",\n",
    "\"TagUseSum\",\"TagUseMean\",\"TagUseMedian\",\"TagClapSum\",\"TagClapMean\",\"TagClapMedian\",\n",
    "# \"PublicationClap_mean\",\"PublicationClap_median\",\n",
    "\"PublicationClap_count\",\"PublicationClap_sum\",\"PublicationReadingTime_mean\",\"PublicationReadingTime_median\",\"PublicationReadingTime_sum\",\"PublicationVoter_mean\",\"PublicationVoter_median\",\"PublicationVoter_sum\",\"PublicationisPaywall_mean\",\"PublicationisPaywall_median\",\"PublicationisPaywall_sum\"\n",
    "\n",
    "]\n",
    "\n",
    "depvar = 'ClapCount_Story'\n",
    "\n",
    "xTrain = train[features]\n",
    "yTrain = train[depvar]\n",
    "\n",
    "xTest = test[features]\n",
    "yTest = test[depvar]"
   ]
  },
  {
   "cell_type": "markdown",
   "metadata": {},
   "source": [
    "# Check NA columns"
   ]
  },
  {
   "cell_type": "code",
   "execution_count": 58,
   "metadata": {
    "collapsed": true,
    "jupyter": {
     "outputs_hidden": true
    }
   },
   "outputs": [
    {
     "data": {
      "text/plain": [
       "isPaywall                         False\n",
       "isPublication                     False\n",
       "WordNum                           False\n",
       "SentimentPolarity                 False\n",
       "SentimentSubjectivity             False\n",
       "TextSyllableNum                   False\n",
       "TextLexiconNum                    False\n",
       "TextSentenceNum                   False\n",
       "ReadabilityFleschEase             False\n",
       "ReadabilitySMOG                   False\n",
       "ReadabilityFleschKincaid          False\n",
       "ReadabilityColemanLiau            False\n",
       "ReadabilityARI                    False\n",
       "ReadabilityDaleChall              False\n",
       "ReadabilityDifficultWordsNum      False\n",
       "ReadabilityLinsearWriteFormula    False\n",
       "ReadabilityGunningFog             False\n",
       "ReadabilityReadingTime            False\n",
       "ReadabilityConsensus              False\n",
       "ReadingTime                       False\n",
       "HasFeaturedImage                  False\n",
       "CodeInlineNum                     False\n",
       "TagNum                            False\n",
       "CodeBlockNum                      False\n",
       "CodeBlockLengthSum                False\n",
       "CodeBlockLengthMedian             False\n",
       "CodeBlockLengthMean               False\n",
       "CodeBlockLengthStd                False\n",
       "CodeBlockLengthMin                False\n",
       "CodeBlockLengthMax                False\n",
       "ListOlNum                         False\n",
       "ListOlSum                         False\n",
       "ListOlMedian                      False\n",
       "ListOlMean                        False\n",
       "ListOlStd                         False\n",
       "ListOlMin                         False\n",
       "ListOlMax                         False\n",
       "ListUlNum                         False\n",
       "ListUlSum                         False\n",
       "ListUlMedian                      False\n",
       "ListUlMean                        False\n",
       "ListUlStd                         False\n",
       "ListUlMin                         False\n",
       "ListUlMax                         False\n",
       "ImgNum                            False\n",
       "LinkNum                           False\n",
       "HlightNum                         False\n",
       "ParagraphNum                      False\n",
       "ItalicNum                         False\n",
       "BoldNum                           False\n",
       "AuthorArticlesClap_mean           False\n",
       "AuthorArticlesClap_median         False\n",
       "AuthorArticlesClap_count          False\n",
       "AuthorArticlesClap_sum            False\n",
       "AuthorArticlesResponse_mean       False\n",
       "AuthorArticlesResponse_median     False\n",
       "AuthorArticlesResponse_sum        False\n",
       "AuthorArticlesVoter_mean          False\n",
       "AuthorArticlesVoter_median        False\n",
       "AuthorArticlesVoter_sum           False\n",
       "TagUseSum                         False\n",
       "TagUseMean                        False\n",
       "TagUseMedian                      False\n",
       "TagClapSum                        False\n",
       "TagClapMean                       False\n",
       "TagClapMedian                     False\n",
       "PublicationClap_mean              False\n",
       "PublicationClap_median            False\n",
       "PublicationClap_count             False\n",
       "PublicationClap_sum               False\n",
       "PublicationReadingTime_mean       False\n",
       "PublicationReadingTime_median     False\n",
       "PublicationReadingTime_sum        False\n",
       "PublicationVoter_mean             False\n",
       "PublicationVoter_median           False\n",
       "PublicationVoter_sum              False\n",
       "PublicationisPaywall_mean         False\n",
       "PublicationisPaywall_median       False\n",
       "PublicationisPaywall_sum          False\n",
       "dtype: bool"
      ]
     },
     "execution_count": 58,
     "metadata": {},
     "output_type": "execute_result"
    }
   ],
   "source": [
    "pd.set_option('display.max_rows', 1000)\n",
    "display((df[df['TagNum']==0]))\n",
    "xTrain.isna().any()"
   ]
  },
  {
   "cell_type": "markdown",
   "metadata": {},
   "source": [
    "# Generate model"
   ]
  },
  {
   "cell_type": "code",
   "execution_count": 112,
   "metadata": {},
   "outputs": [],
   "source": [
    "reg = LinearRegression().fit(xTrain, yTrain)\n",
    "\n",
    "#sklearn preprocess normalize"
   ]
  },
  {
   "cell_type": "code",
   "execution_count": 113,
   "metadata": {},
   "outputs": [
    {
     "data": {
      "text/plain": [
       "0.07631876354359224"
      ]
     },
     "execution_count": 113,
     "metadata": {},
     "output_type": "execute_result"
    }
   ],
   "source": [
    "reg.score(xTrain,yTrain)"
   ]
  },
  {
   "cell_type": "markdown",
   "metadata": {},
   "source": [
    "# statsmodel"
   ]
  },
  {
   "cell_type": "code",
   "execution_count": 117,
   "metadata": {},
   "outputs": [
    {
     "name": "stdout",
     "output_type": "stream",
     "text": [
      "['HC0_se', 'HC1_se', 'HC2_se', 'HC3_se', '_HCCM', '__class__', '__delattr__', '__dict__', '__dir__', '__doc__', '__eq__', '__format__', '__ge__', '__getattribute__', '__gt__', '__hash__', '__init__', '__init_subclass__', '__le__', '__lt__', '__module__', '__ne__', '__new__', '__reduce__', '__reduce_ex__', '__repr__', '__setattr__', '__sizeof__', '__str__', '__subclasshook__', '__weakref__', '_cache', '_data_attr', '_get_robustcov_results', '_is_nested', '_wexog_singular_values', 'aic', 'bic', 'bse', 'centered_tss', 'compare_f_test', 'compare_lm_test', 'compare_lr_test', 'condition_number', 'conf_int', 'conf_int_el', 'cov_HC0', 'cov_HC1', 'cov_HC2', 'cov_HC3', 'cov_kwds', 'cov_params', 'cov_type', 'df_model', 'df_resid', 'eigenvals', 'el_test', 'ess', 'f_pvalue', 'f_test', 'fittedvalues', 'fvalue', 'get_influence', 'get_prediction', 'get_robustcov_results', 'initialize', 'k_constant', 'llf', 'load', 'model', 'mse_model', 'mse_resid', 'mse_total', 'nobs', 'normalized_cov_params', 'outlier_test', 'params', 'predict', 'pvalues', 'remove_data', 'resid', 'resid_pearson', 'rsquared', 'rsquared_adj', 'save', 'scale', 'ssr', 'summary', 'summary2', 't_test', 't_test_pairwise', 'tvalues', 'uncentered_tss', 'use_t', 'wald_test', 'wald_test_terms', 'wresid']\n",
      "PublicationVoter_mean           9.438449e-253\n",
      "ParagraphNum                     1.245633e-58\n",
      "PublicationVoter_sum             4.856229e-40\n",
      "CodeInlineNum                    1.326495e-36\n",
      "PublicationClap_sum              2.814152e-29\n",
      "PublicationReadingTime_sum       5.510408e-22\n",
      "LinkNum                          8.812829e-21\n",
      "PublicationisPaywall_sum         5.073575e-18\n",
      "ReadingTime                      3.998588e-17\n",
      "PublicationClap_count            1.260688e-16\n",
      "CodeBlockLengthMax               1.392811e-11\n",
      "TagClapSum                       2.381487e-10\n",
      "TextSyllableNum                  3.219967e-10\n",
      "CodeBlockLengthSum               7.967951e-10\n",
      "TagUseMedian                     1.459055e-08\n",
      "ReadabilityReadingTime           2.007814e-08\n",
      "CodeBlockNum                     2.763970e-07\n",
      "CodeBlockLengthStd               4.069719e-07\n",
      "CodeBlockLengthMin               1.228707e-06\n",
      "isPublication                    1.482798e-05\n",
      "ReadabilitySMOG                  5.748633e-05\n",
      "PublicationVoter_median          1.645288e-04\n",
      "TextLexiconNum                   2.474396e-04\n",
      "ItalicNum                        2.673044e-04\n",
      "PublicationReadingTime_mean      1.071419e-03\n",
      "CodeBlockLengthMean              1.326459e-03\n",
      "TagNum                           1.613427e-03\n",
      "AuthorArticlesVoter_mean         2.395446e-03\n",
      "ReadabilityDifficultWordsNum     2.710276e-03\n",
      "isPaywall                        4.369835e-03\n",
      "WordNum                          4.498269e-03\n",
      "ListOlNum                        1.258411e-02\n",
      "TagClapMedian                    3.770427e-02\n",
      "TagClapMean                      4.531410e-02\n",
      "dtype: float64\n",
      "                                 OLS Regression Results                                \n",
      "=======================================================================================\n",
      "Dep. Variable:        ClapCount_Story   R-squared (uncentered):                   0.088\n",
      "Model:                            OLS   Adj. R-squared (uncentered):              0.087\n",
      "Method:                 Least Squares   F-statistic:                              239.1\n",
      "Date:                Wed, 29 Jul 2020   Prob (F-statistic):                        0.00\n",
      "Time:                        19:25:55   Log-Likelihood:                     -1.5006e+06\n",
      "No. Observations:              176324   AIC:                                  3.001e+06\n",
      "Df Residuals:                  176253   BIC:                                  3.002e+06\n",
      "Df Model:                          71                                                  \n",
      "Covariance Type:            nonrobust                                                  \n",
      "==================================================================================================\n",
      "                                     coef    std err          t      P>|t|      [0.025      0.975]\n",
      "--------------------------------------------------------------------------------------------------\n",
      "isPaywall                         47.6799     16.729      2.850      0.004      14.892      80.468\n",
      "isPublication                     62.6581     14.466      4.331      0.000      34.305      91.012\n",
      "SentimentPolarity                  1.9205     26.211      0.073      0.942     -49.453      53.294\n",
      "SentimentSubjectivity             39.3976     24.181      1.629      0.103      -7.996      86.792\n",
      "WordNum                           -0.5668      0.199     -2.841      0.004      -0.958      -0.176\n",
      "TextSyllableNum                   -0.1069      0.017     -6.288      0.000      -0.140      -0.074\n",
      "TextLexiconNum                     0.7261      0.198      3.665      0.000       0.338       1.114\n",
      "TextSentenceNum                    0.1975      0.265      0.744      0.457      -0.323       0.718\n",
      "ReadabilityFleschEase             -0.2941      0.224     -1.312      0.190      -0.734       0.145\n",
      "ReadabilitySMOG                   -2.3725      0.590     -4.023      0.000      -3.528      -1.217\n",
      "ReadabilityFleschKincaid          -2.4259      2.135     -1.136      0.256      -6.611       1.759\n",
      "ReadabilityColemanLiau             0.3145      0.821      0.383      0.702      -1.295       1.924\n",
      "ReadabilityARI                    -0.5584      0.995     -0.561      0.575      -2.508       1.391\n",
      "ReadabilityDaleChall               1.9236      2.154      0.893      0.372      -2.298       6.145\n",
      "ReadabilityDifficultWordsNum      -0.2055      0.069     -2.999      0.003      -0.340      -0.071\n",
      "ReadabilityLinsearWriteFormula    -0.0323      0.226     -0.143      0.886      -0.476       0.411\n",
      "ReadabilityGunningFog              1.8046      1.147      1.574      0.116      -0.443       4.052\n",
      "ReadabilityReadingTime            -1.0894      0.194     -5.612      0.000      -1.470      -0.709\n",
      "ReadabilityConsensus              -0.0542      0.093     -0.586      0.558      -0.236       0.127\n",
      "ReadingTime                       29.8875      3.552      8.414      0.000      22.925      36.850\n",
      "HasFeaturedImage                  -2.2923      7.613     -0.301      0.763     -17.214      12.630\n",
      "CodeInlineNum                      3.9697      0.314     12.639      0.000       3.354       4.585\n",
      "TagNum                           -16.5606      5.251     -3.154      0.002     -26.853      -6.268\n",
      "CodeBlockNum                       6.4291      1.251      5.139      0.000       3.977       8.881\n",
      "CodeBlockLengthSum                 1.7526      0.285      6.146      0.000       1.194       2.311\n",
      "CodeBlockLengthMedian              7.8639      4.025      1.954      0.051      -0.025      15.753\n",
      "CodeBlockLengthMean              -26.9846      8.406     -3.210      0.001     -43.460     -10.509\n",
      "CodeBlockLengthStd                42.4267      8.375      5.066      0.000      26.012      58.842\n",
      "CodeBlockLengthMin                30.5398      6.295      4.851      0.000      18.201      42.879\n",
      "CodeBlockLengthMax               -12.5259      1.853     -6.759      0.000     -16.158      -8.894\n",
      "ListOlNum                         -9.9980      4.007     -2.495      0.013     -17.851      -2.145\n",
      "ListOlSum                          0.0073      0.020      0.372      0.710      -0.031       0.046\n",
      "ListOlMedian                      -0.0583      0.166     -0.351      0.726      -0.384       0.267\n",
      "ListOlMean                         0.0957      0.458      0.209      0.835      -0.802       0.994\n",
      "ListOlStd                         -0.1175      0.391     -0.300      0.764      -0.884       0.649\n",
      "ListOlMin                         -0.0889      0.314     -0.284      0.777      -0.704       0.526\n",
      "ListOlMax                          0.0558      0.156      0.359      0.720      -0.249       0.361\n",
      "ListUlNum                         -2.8454      1.613     -1.764      0.078      -6.007       0.316\n",
      "ListUlSum                          0.0126      0.007      1.739      0.082      -0.002       0.027\n",
      "ListUlMedian                      -0.0431      0.124     -0.347      0.728      -0.286       0.200\n",
      "ListUlMean                         0.1442      0.239      0.603      0.546      -0.324       0.613\n",
      "ListUlStd                          0.0671      0.198      0.340      0.734      -0.320       0.455\n",
      "ListUlMin                         -0.0310      0.147     -0.212      0.832      -0.318       0.256\n",
      "ListUlMax                         -0.0570      0.062     -0.923      0.356      -0.178       0.064\n",
      "ImgNum                            -0.3825      0.201     -1.899      0.058      -0.777       0.012\n",
      "LinkNum                            2.3433      0.251      9.351      0.000       1.852       2.834\n",
      "HlightNum                         -1.2625     49.346     -0.026      0.980     -97.979      95.454\n",
      "ParagraphNum                       3.8560      0.239     16.150      0.000       3.388       4.324\n",
      "ItalicNum                         -0.8785      0.241     -3.645      0.000      -1.351      -0.406\n",
      "BoldNum                            0.0184      0.201      0.092      0.927      -0.375       0.412\n",
      "AuthorArticlesClap_count           0.0158      0.015      1.032      0.302      -0.014       0.046\n",
      "AuthorArticlesVoter_mean        -111.9746     36.879     -3.036      0.002    -184.256     -39.693\n",
      "AuthorArticlesVoter_median        40.4973     28.143      1.439      0.150     -14.662      95.657\n",
      "AuthorArticlesVoter_sum            0.0180      0.069      0.263      0.793      -0.116       0.153\n",
      "TagUseSum                         -0.0002      0.000     -1.678      0.093      -0.001    4.19e-05\n",
      "TagUseMean                        -0.0002      0.001     -0.396      0.692      -0.001       0.001\n",
      "TagUseMedian                       0.0017      0.000      5.667      0.000       0.001       0.002\n",
      "TagClapSum                      5.712e-06   9.02e-07      6.335      0.000    3.94e-06    7.48e-06\n",
      "TagClapMean                    -6.068e-06   3.03e-06     -2.002      0.045    -1.2e-05   -1.27e-07\n",
      "TagClapMedian                  -5.412e-06    2.6e-06     -2.078      0.038   -1.05e-05   -3.08e-07\n",
      "PublicationClap_count             -0.0990      0.012     -8.278      0.000      -0.122      -0.076\n",
      "PublicationClap_sum                0.0001   1.26e-05     11.235      0.000       0.000       0.000\n",
      "PublicationReadingTime_mean      -23.9774      7.330     -3.271      0.001     -38.344      -9.611\n",
      "PublicationReadingTime_median      2.7521      7.822      0.352      0.725     -12.579      18.083\n",
      "PublicationReadingTime_sum         0.0188      0.002      9.640      0.000       0.015       0.023\n",
      "PublicationVoter_mean              6.3164      0.186     34.013      0.000       5.952       6.680\n",
      "PublicationVoter_median           -1.4055      0.373     -3.768      0.000      -2.137      -0.674\n",
      "PublicationVoter_sum              -0.0010   7.67e-05    -13.248      0.000      -0.001      -0.001\n",
      "PublicationisPaywall_mean         76.3722     54.085      1.412      0.158     -29.633     182.378\n",
      "PublicationisPaywall_median      -73.8662     43.856     -1.684      0.092    -159.824      12.091\n",
      "PublicationisPaywall_sum          -0.0215      0.002     -8.653      0.000      -0.026      -0.017\n",
      "==============================================================================\n",
      "Omnibus:                   674386.390   Durbin-Watson:                   1.890\n",
      "Prob(Omnibus):                  0.000   Jarque-Bera (JB):    1295893213721.346\n",
      "Skew:                          88.718   Prob(JB):                         0.00\n",
      "Kurtosis:                   13282.929   Cond. No.                     5.87e+08\n",
      "==============================================================================\n",
      "\n",
      "Warnings:\n",
      "[1] Standard Errors assume that the covariance matrix of the errors is correctly specified.\n",
      "[2] The condition number is large, 5.87e+08. This might indicate that there are\n",
      "strong multicollinearity or other numerical problems.\n"
     ]
    }
   ],
   "source": [
    "mod = sm.OLS(yTrain,xTrain.astype(float))\n",
    "fii = mod.fit()\n",
    "\n",
    "print(dir(fii))\n",
    "print(p_values[p_values<0.05].sort_values(ascending=True))\n",
    "print(fii.summary())"
   ]
  },
  {
   "cell_type": "markdown",
   "metadata": {},
   "source": [
    "# Logistic Regression"
   ]
  },
  {
   "cell_type": "code",
   "execution_count": 24,
   "metadata": {},
   "outputs": [],
   "source": [
    "from sklearn.linear_model import LogisticRegression"
   ]
  },
  {
   "cell_type": "code",
   "execution_count": 25,
   "metadata": {},
   "outputs": [
    {
     "name": "stderr",
     "output_type": "stream",
     "text": [
      "C:\\Users\\Justin\\Anaconda3\\lib\\site-packages\\sklearn\\linear_model\\logistic.py:432: FutureWarning: Default solver will be changed to 'lbfgs' in 0.22. Specify a solver to silence this warning.\n",
      "  FutureWarning)\n"
     ]
    },
    {
     "data": {
      "text/plain": [
       "LogisticRegression(C=1.0, class_weight=None, dual=False, fit_intercept=True,\n",
       "                   intercept_scaling=1, l1_ratio=None, max_iter=100,\n",
       "                   multi_class='warn', n_jobs=None, penalty='l2',\n",
       "                   random_state=None, solver='warn', tol=0.0001, verbose=0,\n",
       "                   warm_start=False)"
      ]
     },
     "execution_count": 25,
     "metadata": {},
     "output_type": "execute_result"
    }
   ],
   "source": [
    "logit = LogisticRegression()\n",
    "logit.fit(xTrain,yTrain)"
   ]
  },
  {
   "cell_type": "code",
   "execution_count": 26,
   "metadata": {},
   "outputs": [
    {
     "data": {
      "text/plain": [
       "0.7158671586715867"
      ]
     },
     "execution_count": 26,
     "metadata": {},
     "output_type": "execute_result"
    }
   ],
   "source": [
    "logit.score(xTrain,yTrain)\n",
    "importance = logit.coef_[0]\n",
    "# summarize feature importance\n",
    "# for i,v in enumerate(importance):\n",
    "# \tprint('Feature: %0d, Score: %.5f' % (i,v))\n"
   ]
  },
  {
   "cell_type": "code",
   "execution_count": 27,
   "metadata": {},
   "outputs": [
    {
     "name": "stdout",
     "output_type": "stream",
     "text": [
      "Predict Counter({1: 220, 0: 163})\n",
      "Truth Counter({0: 201, 1: 182})\n",
      "0.6960800393636215\n"
     ]
    }
   ],
   "source": [
    "# Get AUC\n",
    "from sklearn import metrics\n",
    "\n",
    "yPreds = logit.predict(xTest)\n",
    "print(\"Predict\", Counter(yPreds))\n",
    "# print(type(yPreds))\n",
    "print(\"Truth\", Counter(yTest))\n",
    "\n",
    "# print(yPreds)\n",
    "fpr, tpr, thresholds = metrics.roc_curve(yTest, yPreds)\n",
    "print(metrics.auc(fpr, tpr))"
   ]
  },
  {
   "cell_type": "code",
   "execution_count": null,
   "metadata": {},
   "outputs": [],
   "source": []
  }
 ],
 "metadata": {
  "kernelspec": {
   "display_name": "Python 3",
   "language": "python",
   "name": "python3"
  },
  "language_info": {
   "codemirror_mode": {
    "name": "ipython",
    "version": 3
   },
   "file_extension": ".py",
   "mimetype": "text/x-python",
   "name": "python",
   "nbconvert_exporter": "python",
   "pygments_lexer": "ipython3",
   "version": "3.7.4"
  }
 },
 "nbformat": 4,
 "nbformat_minor": 4
}
